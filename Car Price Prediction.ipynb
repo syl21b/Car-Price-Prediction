{
 "cells": [
  {
   "cell_type": "markdown",
   "metadata": {},
   "source": [
    "\n",
    "# Predicting the Price of Used Cars Using Machine Learning Algorithms\n",
    "<font color = 'Blue'> \n",
    "Names: Shin Le, Jeongyeon Kim, Benjamin Horvath, Nico Reategui, Paul Giglio\n"
   ]
  },
  {
   "cell_type": "markdown",
   "metadata": {},
   "source": [
    "Proposal: https://docs.google.com/document/d/1zhQrkWmJjjMU6wIfBC78MygGzp-XUrkaUOWALfyAL9Q/edit\n",
    "\n",
    "Dataset: \n",
    "* https://www.kaggle.com/datasets/wspirat/germany-used-cars-dataset-2023/data\n",
    "    \n",
    "* https://www.kaggle.com/datasets/andreinovikov/used-cars-dataset"
   ]
  },
  {
   "cell_type": "markdown",
   "metadata": {},
   "source": [
    "\n",
    "<div class=\"alert alert-block alert-warning\">\n",
    "<b>Update:</b>\n",
    "We are in stage of cleaning data. We still have a lot of null value. \n",
    "\n",
    "\n",
    "* The size is much smaller. we lost a lot of info since I drop a lot of null value.\n",
    "* Our data now is in years (2009-2024) intead of (1995-2024) after droped ourliers.\n",
    "* I have to replace some classes in categorical columns to make them make more sense. Biased here, I think \n",
    "\n",
    "We still need to do a lot of more work on cleaning our dataset\n",
    "</div>\n"
   ]
  },
  {
   "cell_type": "markdown",
   "metadata": {},
   "source": [
    "<a id=\"0\"></a> <br>\n",
    "<font color = 'Blue'> \n",
    "# Table of Contents\n",
    "\n",
    "1. [About Dataset](#1)\n",
    "1. [Importing Libraries](#2)\n",
    "1. [Functions Implementation](#3)\n",
    "1. [Loading Data](#4)\n",
    "1. [Data Preprocessing](#5)\n",
    "1. [Exploratory Data Analysis (EDA)](#6)\n",
    "   1. [Filtering Data](#61)\n",
    "   1. [Detecting Outliers](#62)\n",
    "   1. [Labeling Encode](#63)\n",
    "   1. [Correlation Matrix](#64)\n",
    "1. [Data Splitting](#7)\n",
    "1. [Models Evaluations and Predictions](#8)\n",
    "   1. [*Full Model* with *Linear Regression*](#81)\n",
    "      1. [Using Sequential Feature Selection for the *Linear Regression*](#811)\n",
    "   1. [*Decision Tree*](#82)\n",
    "      1. [*A Pruned Tree*](#821)\n",
    "   1. [Ensemble Method: *Random Forest Regression*](#83)\n",
    "   1. [Ensemble Method: *Gradient Boosting Regression*](#84)\n",
    "   1. [*Support Vector Machine* (SVM)](#85)\n",
    "   1. [Evaluation](#86)\n"
   ]
  },
  {
   "cell_type": "markdown",
   "metadata": {},
   "source": [
    "<a id=\"1\"></a>\n",
    "<font color = 'blue'> \n",
    "## **1. About Dataset**"
   ]
  },
  {
   "cell_type": "markdown",
   "metadata": {},
   "source": [
    "This dataset contains data about 762,091 used cars scraped from cars.com. The data was collected on Apr, 2023.\n",
    "\n",
    "**Feature description**\n",
    "\n",
    "* manufacturer - name of the car manufacturer\n",
    "* model - name of the car model\n",
    "* year - the year when the car was produced\n",
    "* mileage - the number of miles the car has traveled since production\n",
    "* engine - car engine\n",
    "* transmission - type of the car's transmission\n",
    "* drivetrain - type of the car's drivetrain\n",
    "* fuel_type - type of fuel that the car consumes\n",
    "* mpg - the number of miles a car can travel using one gallon of fuel (miles per gallon)\n",
    "* exterior_color - car exterior color\n",
    "* interior_color - car interior color\n",
    "* accidents_or_damage - whether the car was involved in accidents\n",
    "* one_owner - whether the car was owned by one person\n",
    "* personal_use_only - whether the car was used only for personal purposes\n",
    "* seller_name - name of the seller\n",
    "* seller_rating - seller's rating\n",
    "* driver_rating - car rating given by drivers\n",
    "* driver_reviews_num - the number of car reviews left by drivers\n",
    "* price_drop - price reduction from the initial price\n",
    "* price - car price"
   ]
  },
  {
   "cell_type": "markdown",
   "metadata": {},
   "source": [
    "<a id=\"2\"></a>\n",
    "<font color = 'blue'> \n",
    "## **2. Importing Libraries**"
   ]
  },
  {
   "cell_type": "code",
   "execution_count": null,
   "metadata": {},
   "outputs": [],
   "source": [
    "import numpy as np\n",
    "import pandas as pd\n",
    "import matplotlib.pyplot as plt  # Corrected import\n",
    "\n",
    "import statsmodels.api as sm\n",
    "\n",
    "\n",
    "#preprocessing\n",
    "from sklearn.preprocessing import StandardScaler, LabelEncoder \n",
    "\n",
    "#searborn\n",
    "import seaborn as sns   #using heatmap\n",
    "\n",
    "#splitting dataset into train and test data\n",
    "from sklearn.model_selection import train_test_split,cross_val_predict\n",
    "\n",
    "#building model\n",
    "from sklearn.linear_model import LinearRegression\n",
    "from sklearn.metrics import mean_absolute_error, mean_squared_error, r2_score\n",
    "\n",
    "\n"
   ]
  },
  {
   "cell_type": "markdown",
   "metadata": {},
   "source": [
    "<a id=\"3\"></a>\n",
    "<font color = 'blue'> \n",
    "## **3. Functions Implementation**\n"
   ]
  },
  {
   "cell_type": "markdown",
   "metadata": {},
   "source": [
    "* #### CORRELATION MATRIX"
   ]
  },
  {
   "cell_type": "code",
   "execution_count": null,
   "metadata": {},
   "outputs": [],
   "source": [
    "\n",
    "def heat_map(data, var):\n",
    "    # Calculate the correlation matrix\n",
    "    correlation_matrix = data.corr()\n",
    "\n",
    "    # Create a figure with a specific size\n",
    "    plt.figure(figsize=(len(var) * 2, len(var) * 1.5))\n",
    "    \n",
    "    # Create a mask for the upper triangle to focus on the center\n",
    "    mask = np.triu(np.ones_like(correlation_matrix), k=0)\n",
    "\n",
    "    # Customize the color scale (cmap) to emphasize the center\n",
    "    cmap = sns.diverging_palette(220, 10, as_cmap=True)\n",
    "\n",
    "    # Increase the font size for annotations\n",
    "    sns.heatmap(correlation_matrix, annot=True, cmap=cmap, mask=mask,  vmin=-1, vmax=1, fmt=\".2f\", annot_kws={\"size\": 14})\n",
    "    plt.title('Correlation Heatmap')\n",
    "\n",
    "    plt.show()"
   ]
  },
  {
   "cell_type": "markdown",
   "metadata": {},
   "source": [
    "<a id=\"4\"></a>\n",
    "<font color = 'blue'> \n",
    "## **4. Loading Data**"
   ]
  },
  {
   "cell_type": "markdown",
   "metadata": {},
   "source": [
    "<div class=\"alert alert-block alert-warning\">\n",
    "<b>Note:</b>\n",
    "\n",
    "You have to update the link if there is an error when you load data. \n",
    "\n",
    "* Open **Github** -> Open the dataset - **germanycars.csv** --> Click \"**View Raw**\" --> **Copy the link**\n",
    "\n",
    "You must save before you are able to **Commit & Push** \n",
    "* You can go to **File --> Auto Save**\n",
    "</div>\n"
   ]
  },
  {
   "cell_type": "markdown",
   "metadata": {},
   "source": [
    "* This is Germany car dataset that we used on our Proposal"
   ]
  },
  {
   "cell_type": "code",
   "execution_count": null,
   "metadata": {},
   "outputs": [],
   "source": [
    "'''\n",
    "# Define the URL of the CSV file on GitHub\n",
    "csv_url = \"https://raw.githubusercontent.com/syl21b/Car-Price-Prediction/main/germanycars.csv?token=GHSAT0AAAAAACIQMGDUI2ZHP5YRJCPW4ZVKZJ37DUA\"\n",
    "\n",
    "# Read the CSV file into a DataFrame\n",
    "df = pd.read_csv(csv_url)\n",
    "\n",
    "# Now you have the data in the 'df' DataFrame'''"
   ]
  },
  {
   "cell_type": "markdown",
   "metadata": {},
   "source": [
    "* This is new dataset that is not the one we used to write our proposal"
   ]
  },
  {
   "cell_type": "code",
   "execution_count": null,
   "metadata": {},
   "outputs": [
    {
     "name": "stdout",
     "output_type": "stream",
     "text": [
      "Failed to download ZIP file. Status code: 404\n"
     ]
    }
   ],
   "source": [
    "import requests\n",
    "import zipfile\n",
    "import io\n",
    "import os\n",
    "import pandas as pd\n",
    "from os.path import expanduser\n",
    "\n",
    "# URL of the ZIP file\n",
    "url = \"https://github.com/syl21b/Car-Price-Prediction/raw/main/cars.csv.zip\"\n",
    "\n",
    "# Directory to save extracted files in your home directory\n",
    "output_directory = os.path.join(expanduser(\"~\"), \"car_data\")\n",
    "\n",
    "# Ensure the output directory exists or create it if not\n",
    "if not os.path.exists(output_directory):\n",
    "    os.makedirs(output_directory)\n",
    "\n",
    "# Send a GET request to the URL\n",
    "response = requests.get(url)\n",
    "\n",
    "if response.status_code == 200:\n",
    "    # Create a BytesIO object to work with the content\n",
    "    zip_data = io.BytesIO(response.content)\n",
    "\n",
    "    # Create a ZipFile object to extract the contents\n",
    "    with zipfile.ZipFile(zip_data, 'r') as zip_ref:\n",
    "        # Extract all files from the ZIP archive to the output directory\n",
    "        zip_ref.extractall(output_directory)\n",
    "\n",
    "    print(\"ZIP file has been successfully downloaded and extracted to the specified directory.\")\n",
    "else:\n",
    "    print(f\"Failed to download ZIP file. Status code: {response.status_code}\")\n",
    "\n",
    "# Load the CSV file into a DataFrame\n",
    "csv_file_path = os.path.join(output_directory, \"cars.csv\")\n",
    "df = pd.read_csv(csv_file_path)\n",
    "\n",
    "# Now you can work with the 'df' DataFrame\n"
   ]
  },
  {
   "cell_type": "markdown",
   "metadata": {},
   "source": [
    "<a id=\"5\"></a>\n",
    "<font color = 'blue'> \n",
    "## **5. Data Preprocessing**"
   ]
  },
  {
   "cell_type": "code",
   "execution_count": 6,
   "metadata": {},
   "outputs": [
    {
     "data": {
      "text/html": [
       "<div>\n",
       "<style scoped>\n",
       "    .dataframe tbody tr th:only-of-type {\n",
       "        vertical-align: middle;\n",
       "    }\n",
       "\n",
       "    .dataframe tbody tr th {\n",
       "        vertical-align: top;\n",
       "    }\n",
       "\n",
       "    .dataframe thead th {\n",
       "        text-align: right;\n",
       "    }\n",
       "</style>\n",
       "<table border=\"1\" class=\"dataframe\">\n",
       "  <thead>\n",
       "    <tr style=\"text-align: right;\">\n",
       "      <th></th>\n",
       "      <th>manufacturer</th>\n",
       "      <th>model</th>\n",
       "      <th>year</th>\n",
       "      <th>mileage</th>\n",
       "      <th>transmission</th>\n",
       "      <th>drivetrain</th>\n",
       "      <th>fuel_type</th>\n",
       "      <th>mpg</th>\n",
       "      <th>exterior_color</th>\n",
       "      <th>interior_color</th>\n",
       "      <th>...</th>\n",
       "      <th>personal_use_only</th>\n",
       "      <th>seller_name</th>\n",
       "      <th>seller_rating</th>\n",
       "      <th>driver_rating</th>\n",
       "      <th>driver_reviews_num</th>\n",
       "      <th>price_drop</th>\n",
       "      <th>price</th>\n",
       "      <th>Engine Displacement (L)</th>\n",
       "      <th>Engine Type</th>\n",
       "      <th>Engine Features</th>\n",
       "    </tr>\n",
       "  </thead>\n",
       "  <tbody>\n",
       "    <tr>\n",
       "      <th>0</th>\n",
       "      <td>Mazda</td>\n",
       "      <td>CX-90 3.3 Turbo Premium Plus</td>\n",
       "      <td>2024</td>\n",
       "      <td>1.0</td>\n",
       "      <td>8-Speed Automatic</td>\n",
       "      <td>All-wheel Drive</td>\n",
       "      <td>Gasoline</td>\n",
       "      <td>NaN</td>\n",
       "      <td>51K</td>\n",
       "      <td>White</td>\n",
       "      <td>...</td>\n",
       "      <td>1.0</td>\n",
       "      <td>Cox Mazda</td>\n",
       "      <td>3.2</td>\n",
       "      <td>NaN</td>\n",
       "      <td>0</td>\n",
       "      <td>NaN</td>\n",
       "      <td>54920</td>\n",
       "      <td>3.3</td>\n",
       "      <td>I6</td>\n",
       "      <td>Turbo</td>\n",
       "    </tr>\n",
       "    <tr>\n",
       "      <th>1</th>\n",
       "      <td>Mazda</td>\n",
       "      <td>CX-90 S Premium Plus</td>\n",
       "      <td>2024</td>\n",
       "      <td>1.0</td>\n",
       "      <td>8-Speed Automatic</td>\n",
       "      <td>All-wheel Drive</td>\n",
       "      <td>Gasoline</td>\n",
       "      <td>NaN</td>\n",
       "      <td>Artisan Red Metallic</td>\n",
       "      <td>White</td>\n",
       "      <td>...</td>\n",
       "      <td>1.0</td>\n",
       "      <td>Cox Mazda</td>\n",
       "      <td>3.2</td>\n",
       "      <td>NaN</td>\n",
       "      <td>0</td>\n",
       "      <td>NaN</td>\n",
       "      <td>61920</td>\n",
       "      <td>NaN</td>\n",
       "      <td>NaN</td>\n",
       "      <td>NaN</td>\n",
       "    </tr>\n",
       "    <tr>\n",
       "      <th>2</th>\n",
       "      <td>Acura</td>\n",
       "      <td>Integra A-Spec</td>\n",
       "      <td>2023</td>\n",
       "      <td>6.0</td>\n",
       "      <td>Automatic CVT</td>\n",
       "      <td>Front-wheel Drive</td>\n",
       "      <td>Gasoline</td>\n",
       "      <td>29-36</td>\n",
       "      <td>Red</td>\n",
       "      <td>Ebony</td>\n",
       "      <td>...</td>\n",
       "      <td>0.0</td>\n",
       "      <td>Glenview Luxury Imports</td>\n",
       "      <td>4.9</td>\n",
       "      <td>4.6</td>\n",
       "      <td>5</td>\n",
       "      <td>NaN</td>\n",
       "      <td>37434</td>\n",
       "      <td>1.5</td>\n",
       "      <td>I4</td>\n",
       "      <td>16V GDI DOHC Turbo</td>\n",
       "    </tr>\n",
       "    <tr>\n",
       "      <th>3</th>\n",
       "      <td>Acura</td>\n",
       "      <td>Integra A-Spec Technology</td>\n",
       "      <td>2023</td>\n",
       "      <td>9705.0</td>\n",
       "      <td>Automatic CVT</td>\n",
       "      <td>Front-wheel Drive</td>\n",
       "      <td>Gasoline</td>\n",
       "      <td>29-36</td>\n",
       "      <td>Platinum White Pearl</td>\n",
       "      <td>Ebony</td>\n",
       "      <td>...</td>\n",
       "      <td>1.0</td>\n",
       "      <td>Lindsay Acura</td>\n",
       "      <td>3.6</td>\n",
       "      <td>4.6</td>\n",
       "      <td>5</td>\n",
       "      <td>484.0</td>\n",
       "      <td>34516</td>\n",
       "      <td>1.5</td>\n",
       "      <td>I4</td>\n",
       "      <td>16V GDI DOHC Turbo</td>\n",
       "    </tr>\n",
       "    <tr>\n",
       "      <th>4</th>\n",
       "      <td>Acura</td>\n",
       "      <td>Integra A-Spec Technology</td>\n",
       "      <td>2023</td>\n",
       "      <td>6.0</td>\n",
       "      <td>Automatic CVT</td>\n",
       "      <td>Front-wheel Drive</td>\n",
       "      <td>Gasoline</td>\n",
       "      <td>29-36</td>\n",
       "      <td>Performance</td>\n",
       "      <td>Orchid</td>\n",
       "      <td>...</td>\n",
       "      <td>1.0</td>\n",
       "      <td>Plaza Auto Mall</td>\n",
       "      <td>4.0</td>\n",
       "      <td>4.6</td>\n",
       "      <td>5</td>\n",
       "      <td>674.0</td>\n",
       "      <td>33221</td>\n",
       "      <td>1.5</td>\n",
       "      <td>I4</td>\n",
       "      <td>16V GDI DOHC Turbo</td>\n",
       "    </tr>\n",
       "    <tr>\n",
       "      <th>...</th>\n",
       "      <td>...</td>\n",
       "      <td>...</td>\n",
       "      <td>...</td>\n",
       "      <td>...</td>\n",
       "      <td>...</td>\n",
       "      <td>...</td>\n",
       "      <td>...</td>\n",
       "      <td>...</td>\n",
       "      <td>...</td>\n",
       "      <td>...</td>\n",
       "      <td>...</td>\n",
       "      <td>...</td>\n",
       "      <td>...</td>\n",
       "      <td>...</td>\n",
       "      <td>...</td>\n",
       "      <td>...</td>\n",
       "      <td>...</td>\n",
       "      <td>...</td>\n",
       "      <td>...</td>\n",
       "      <td>...</td>\n",
       "      <td>...</td>\n",
       "    </tr>\n",
       "    <tr>\n",
       "      <th>758030</th>\n",
       "      <td>Toyota</td>\n",
       "      <td>Supra Turbo</td>\n",
       "      <td>1995</td>\n",
       "      <td>15800.0</td>\n",
       "      <td>6-Speed Manual</td>\n",
       "      <td>NaN</td>\n",
       "      <td>Gasoline</td>\n",
       "      <td>17-23</td>\n",
       "      <td>Black</td>\n",
       "      <td>Tan</td>\n",
       "      <td>...</td>\n",
       "      <td>1.0</td>\n",
       "      <td>Motorcar Classics</td>\n",
       "      <td>3.7</td>\n",
       "      <td>4.9</td>\n",
       "      <td>7</td>\n",
       "      <td>10000.0</td>\n",
       "      <td>89900</td>\n",
       "      <td>3.0</td>\n",
       "      <td>I6</td>\n",
       "      <td>24V SPFI DOHC Turbo</td>\n",
       "    </tr>\n",
       "    <tr>\n",
       "      <th>758031</th>\n",
       "      <td>Toyota</td>\n",
       "      <td>Supra Turbo</td>\n",
       "      <td>1995</td>\n",
       "      <td>44614.0</td>\n",
       "      <td>6-Speed Manual</td>\n",
       "      <td>Rear-wheel Drive</td>\n",
       "      <td>Gasoline</td>\n",
       "      <td>NaN</td>\n",
       "      <td>Silver</td>\n",
       "      <td>Black</td>\n",
       "      <td>...</td>\n",
       "      <td>1.0</td>\n",
       "      <td>Gold Coast Motors</td>\n",
       "      <td>NaN</td>\n",
       "      <td>4.9</td>\n",
       "      <td>7</td>\n",
       "      <td>6000.0</td>\n",
       "      <td>109900</td>\n",
       "      <td>3.0</td>\n",
       "      <td>I6</td>\n",
       "      <td>Turbo</td>\n",
       "    </tr>\n",
       "    <tr>\n",
       "      <th>758032</th>\n",
       "      <td>Volkswagen</td>\n",
       "      <td>Eurovan</td>\n",
       "      <td>1995</td>\n",
       "      <td>91849.0</td>\n",
       "      <td>Manual</td>\n",
       "      <td>Front-wheel Drive</td>\n",
       "      <td>Gasoline</td>\n",
       "      <td>NaN</td>\n",
       "      <td>White</td>\n",
       "      <td>Gray</td>\n",
       "      <td>...</td>\n",
       "      <td>1.0</td>\n",
       "      <td>Pacific Auto Center - Fontana</td>\n",
       "      <td>3.1</td>\n",
       "      <td>4.8</td>\n",
       "      <td>3</td>\n",
       "      <td>1000.0</td>\n",
       "      <td>31995</td>\n",
       "      <td>NaN</td>\n",
       "      <td>NaN</td>\n",
       "      <td>NaN</td>\n",
       "    </tr>\n",
       "    <tr>\n",
       "      <th>758033</th>\n",
       "      <td>Volkswagen</td>\n",
       "      <td>Eurovan Campmobile</td>\n",
       "      <td>1995</td>\n",
       "      <td>190336.0</td>\n",
       "      <td>5-Speed Manual</td>\n",
       "      <td>Front-wheel Drive</td>\n",
       "      <td>Gasoline</td>\n",
       "      <td>NaN</td>\n",
       "      <td>White</td>\n",
       "      <td>Gray</td>\n",
       "      <td>...</td>\n",
       "      <td>1.0</td>\n",
       "      <td>Lot 99</td>\n",
       "      <td>1.4</td>\n",
       "      <td>4.8</td>\n",
       "      <td>3</td>\n",
       "      <td>1000.0</td>\n",
       "      <td>25995</td>\n",
       "      <td>5.2</td>\n",
       "      <td>I5</td>\n",
       "      <td>10V SOHC</td>\n",
       "    </tr>\n",
       "    <tr>\n",
       "      <th>758034</th>\n",
       "      <td>Volvo</td>\n",
       "      <td>850</td>\n",
       "      <td>1995</td>\n",
       "      <td>87016.0</td>\n",
       "      <td>4-Speed Automatic</td>\n",
       "      <td>Front-wheel Drive</td>\n",
       "      <td>Gasoline</td>\n",
       "      <td>19-26</td>\n",
       "      <td>Green</td>\n",
       "      <td>NaN</td>\n",
       "      <td>...</td>\n",
       "      <td>1.0</td>\n",
       "      <td>Elite Auto Corp</td>\n",
       "      <td>3.1</td>\n",
       "      <td>4.4</td>\n",
       "      <td>11</td>\n",
       "      <td>3000.0</td>\n",
       "      <td>8499</td>\n",
       "      <td>2.3</td>\n",
       "      <td>I5</td>\n",
       "      <td>10V MPFI SOHC</td>\n",
       "    </tr>\n",
       "  </tbody>\n",
       "</table>\n",
       "<p>758035 rows × 22 columns</p>\n",
       "</div>"
      ],
      "text/plain": [
       "       manufacturer                         model  year   mileage  \\\n",
       "0             Mazda  CX-90 3.3 Turbo Premium Plus  2024       1.0   \n",
       "1             Mazda          CX-90 S Premium Plus  2024       1.0   \n",
       "2             Acura                Integra A-Spec  2023       6.0   \n",
       "3             Acura     Integra A-Spec Technology  2023    9705.0   \n",
       "4             Acura     Integra A-Spec Technology  2023       6.0   \n",
       "...             ...                           ...   ...       ...   \n",
       "758030       Toyota                   Supra Turbo  1995   15800.0   \n",
       "758031       Toyota                   Supra Turbo  1995   44614.0   \n",
       "758032   Volkswagen                       Eurovan  1995   91849.0   \n",
       "758033   Volkswagen            Eurovan Campmobile  1995  190336.0   \n",
       "758034        Volvo                           850  1995   87016.0   \n",
       "\n",
       "             transmission         drivetrain fuel_type    mpg  \\\n",
       "0       8-Speed Automatic    All-wheel Drive  Gasoline    NaN   \n",
       "1       8-Speed Automatic    All-wheel Drive  Gasoline    NaN   \n",
       "2           Automatic CVT  Front-wheel Drive  Gasoline  29-36   \n",
       "3           Automatic CVT  Front-wheel Drive  Gasoline  29-36   \n",
       "4           Automatic CVT  Front-wheel Drive  Gasoline  29-36   \n",
       "...                   ...                ...       ...    ...   \n",
       "758030     6-Speed Manual                NaN  Gasoline  17-23   \n",
       "758031     6-Speed Manual   Rear-wheel Drive  Gasoline    NaN   \n",
       "758032             Manual  Front-wheel Drive  Gasoline    NaN   \n",
       "758033     5-Speed Manual  Front-wheel Drive  Gasoline    NaN   \n",
       "758034  4-Speed Automatic  Front-wheel Drive  Gasoline  19-26   \n",
       "\n",
       "              exterior_color interior_color  ...  personal_use_only  \\\n",
       "0                        51K          White  ...                1.0   \n",
       "1       Artisan Red Metallic          White  ...                1.0   \n",
       "2                        Red          Ebony  ...                0.0   \n",
       "3       Platinum White Pearl          Ebony  ...                1.0   \n",
       "4                Performance         Orchid  ...                1.0   \n",
       "...                      ...            ...  ...                ...   \n",
       "758030                 Black            Tan  ...                1.0   \n",
       "758031                Silver          Black  ...                1.0   \n",
       "758032                 White           Gray  ...                1.0   \n",
       "758033                 White           Gray  ...                1.0   \n",
       "758034                 Green            NaN  ...                1.0   \n",
       "\n",
       "                          seller_name  seller_rating driver_rating  \\\n",
       "0                           Cox Mazda            3.2           NaN   \n",
       "1                           Cox Mazda            3.2           NaN   \n",
       "2             Glenview Luxury Imports            4.9           4.6   \n",
       "3                       Lindsay Acura            3.6           4.6   \n",
       "4                     Plaza Auto Mall            4.0           4.6   \n",
       "...                               ...            ...           ...   \n",
       "758030              Motorcar Classics            3.7           4.9   \n",
       "758031              Gold Coast Motors            NaN           4.9   \n",
       "758032  Pacific Auto Center - Fontana            3.1           4.8   \n",
       "758033                         Lot 99            1.4           4.8   \n",
       "758034                Elite Auto Corp            3.1           4.4   \n",
       "\n",
       "        driver_reviews_num  price_drop   price  Engine Displacement (L)  \\\n",
       "0                        0         NaN   54920                      3.3   \n",
       "1                        0         NaN   61920                      NaN   \n",
       "2                        5         NaN   37434                      1.5   \n",
       "3                        5       484.0   34516                      1.5   \n",
       "4                        5       674.0   33221                      1.5   \n",
       "...                    ...         ...     ...                      ...   \n",
       "758030                   7     10000.0   89900                      3.0   \n",
       "758031                   7      6000.0  109900                      3.0   \n",
       "758032                   3      1000.0   31995                      NaN   \n",
       "758033                   3      1000.0   25995                      5.2   \n",
       "758034                  11      3000.0    8499                      2.3   \n",
       "\n",
       "        Engine Type      Engine Features  \n",
       "0                I6                Turbo  \n",
       "1               NaN                  NaN  \n",
       "2                I4   16V GDI DOHC Turbo  \n",
       "3                I4   16V GDI DOHC Turbo  \n",
       "4                I4   16V GDI DOHC Turbo  \n",
       "...             ...                  ...  \n",
       "758030           I6  24V SPFI DOHC Turbo  \n",
       "758031           I6                Turbo  \n",
       "758032          NaN                  NaN  \n",
       "758033           I5             10V SOHC  \n",
       "758034           I5        10V MPFI SOHC  \n",
       "\n",
       "[758035 rows x 22 columns]"
      ]
     },
     "execution_count": 6,
     "metadata": {},
     "output_type": "execute_result"
    }
   ],
   "source": [
    "# Sample data\n",
    "df = pd.DataFrame(df)\n",
    "\n",
    "# Use str.extract to create new columns\n",
    "df[['Engine Displacement (L)', 'Engine Type', 'Engine Features']] = df['engine'].str.extract(r'(\\d+\\.\\d+)L\\s([A-Z0-9]+)\\s(.+)$')\n",
    "\n",
    "# Drop the original 'engine' column if you no longer need it\n",
    "df = df.drop(columns=['engine'])\n",
    "\n",
    "# Print the DataFrame\n",
    "df"
   ]
  },
  {
   "cell_type": "markdown",
   "metadata": {},
   "source": [
    "##### Before handling data\n",
    "* Show the frequency for each columns. This will initially show us the outliers"
   ]
  },
  {
   "cell_type": "code",
   "execution_count": 7,
   "metadata": {},
   "outputs": [
    {
     "name": "stdout",
     "output_type": "stream",
     "text": [
      "Ford             78680\n",
      "Toyota           59393\n",
      "Chevrolet        54828\n",
      "Nissan           48482\n",
      "Jeep             41543\n",
      "Mercedes-Benz    40582\n",
      "Honda            37601\n",
      "BMW              37509\n",
      "Kia              35063\n",
      "GMC              29507\n",
      "Dodge            25102\n",
      "Subaru           24762\n",
      "Volkswagen       24485\n",
      "Hyundai          22203\n",
      "Lexus            21292\n",
      "RAM              19364\n",
      "Audi             17863\n",
      "Cadillac         17614\n",
      "Mazda            15431\n",
      "Buick            14509\n",
      "Chrysler         12609\n",
      "INFINITI         12287\n",
      "Land Rover       12139\n",
      "Porsche          11214\n",
      "Lincoln          10518\n",
      "Volvo            10022\n",
      "Acura             8468\n",
      "Tesla             5883\n",
      "Mitsubishi        5737\n",
      "Jaguar            3345\n",
      "Name: manufacturer, dtype: int64, \n",
      "\n",
      "Fusion SE                                3172\n",
      "Sportage LX                              2873\n",
      "Corolla LE                               2835\n",
      "GLC 300 Base 4MATIC                      2718\n",
      "Sentra SV                                2652\n",
      "                                         ... \n",
      "ILX W/NAVIGATION SYSTEM&POWER SUNROOF       1\n",
      "S90 T5 Inscription                          1\n",
      "V60 Platinum                                1\n",
      "Golf Alltrack Alltrack                      1\n",
      "850                                         1\n",
      "Name: model, Length: 11304, dtype: int64, \n",
      "\n",
      "2020    133589\n",
      "2021    108894\n",
      "2019    105934\n",
      "2022     80714\n",
      "2018     62878\n",
      "2017     52316\n",
      "2016     42333\n",
      "2015     37073\n",
      "2014     27199\n",
      "2013     21877\n",
      "2023     18218\n",
      "2012     15492\n",
      "2011     11505\n",
      "2010      7747\n",
      "2008      6258\n",
      "2007      5258\n",
      "2009      4862\n",
      "2006      3706\n",
      "2005      2885\n",
      "2004      2442\n",
      "2003      1771\n",
      "2002      1473\n",
      "2001      1011\n",
      "2000       774\n",
      "1999       561\n",
      "1997       348\n",
      "1998       342\n",
      "1995       322\n",
      "1996       251\n",
      "2024         2\n",
      "Name: year, dtype: int64, \n",
      "\n",
      "0.0         1215\n",
      "10.0         270\n",
      "5.0          230\n",
      "6.0          179\n",
      "1.0          167\n",
      "            ... \n",
      "143975.0       1\n",
      "124979.0       1\n",
      "177269.0       1\n",
      "120324.0       1\n",
      "190336.0       1\n",
      "Name: mileage, Length: 158484, dtype: int64, \n",
      "\n",
      "6-Speed Automatic                                   148595\n",
      "8-Speed Automatic                                   139572\n",
      "Automatic CVT                                       108617\n",
      "Automatic                                            95868\n",
      "9-Speed Automatic                                    61189\n",
      "                                                     ...  \n",
      "8-Speed Automatic w/CommandShift -inc                    1\n",
      "8 speed sport automatic w/paddles                        1\n",
      "6 speed selectshift automatic                            1\n",
      "6-Speed Shiftable Automatic w/Sport Transmission         1\n",
      "Tiptronic                                                1\n",
      "Name: transmission, Length: 967, dtype: int64, \n",
      "\n",
      "Front-wheel Drive                                              241051\n",
      "All-wheel Drive                                                230194\n",
      "Four-wheel Drive                                               156720\n",
      "Rear-wheel Drive                                                96402\n",
      "FWD                                                              6435\n",
      "AWD                                                              3585\n",
      "4WD                                                              1905\n",
      "RWD                                                              1693\n",
      "All-Wheel Drive                                                   120\n",
      "Front-Wheel Drive                                                 104\n",
      "Front-Wheel Drive with Limited-Slip Differential                   44\n",
      "Four-Wheel Drive                                                   43\n",
      "Four-Wheel Drive with Locking and Limited-Slip Differential        42\n",
      "Unknown                                                            41\n",
      "Rear-Wheel Drive                                                   34\n",
      "All-Wheel Drive with Locking and Limited-Slip Differential         33\n",
      "Four Wheel Drive                                                   22\n",
      "All-Wheel Drive with Locking Differential                          20\n",
      "Front Wheel Drive                                                  17\n",
      "Rear-Wheel Drive with Limited-Slip Differential                    12\n",
      "All Wheel Drive                                                    11\n",
      "Rear Wheel Drive                                                    8\n",
      "4x4                                                                 7\n",
      "Four-Wheel Drive with Locking Differential                          6\n",
      "Engine: 2.4L GDI DOHC 16V I4 -inc: dual CVVT                        5\n",
      "4x2                                                                 2\n",
      "Engine: 1.6L 4-Cyl. 16-Valve MPI                                    1\n",
      "Engine: 2.0L 4-Cylinder MPI 16V DOHC w/Dual CVVT                    1\n",
      "Engine: Lambda II 3.8L GDI DOHC V6 w/Dual CVVT                      1\n",
      "Engine: 2.4L DOHC I4 GDI                                            1\n",
      "Engine: 1.6L DOHC I4 GDI Turbo                                      1\n",
      "4X4                                                                 1\n",
      "Name: drivetrain, dtype: int64, \n",
      "\n",
      "Gasoline                         642441\n",
      "Hybrid                            29140\n",
      "Diesel                            27931\n",
      "E85 Flex Fuel                     18772\n",
      "Electric                          16192\n",
      "B                                  1442\n",
      "Flexible Fuel                       493\n",
      "Plug-In Hybrid                      118\n",
      "Gasoline Fuel                        80\n",
      "Gasoline/Mild Electric Hybrid        70\n",
      "Regular Unleaded                     56\n",
      "Premium Unleaded                     49\n",
      "G                                    45\n",
      "Compressed Natural Gas               29\n",
      "Diesel Fuel                           5\n",
      "Hybrid Fuel                           5\n",
      "Other                                 3\n",
      "Hydrogen Fuel Cell                    3\n",
      "PHEV                                  2\n",
      "Electric Fuel System                  2\n",
      "Gas/Electric Hybrid                   2\n",
      "Unspecified                           2\n",
      "Flex Fuel Capability                  2\n",
      "Gas                                   2\n",
      "Gaseous                               2\n",
      "Plug-In Electric/Gas                  1\n",
      "Premium                               1\n",
      "Biodiesel                             1\n",
      "Natural Gas                           1\n",
      "Bio Diesel                            1\n",
      "Automatic                             1\n",
      "Flex Fuel                             1\n",
      "Premium (Required)                    1\n",
      "E85 Fl                                1\n",
      "Name: fuel_type, dtype: int64, \n",
      "\n",
      "19-26      16209\n",
      "18-25      15748\n",
      "17-25      14273\n",
      "20-27      13546\n",
      "16-23      11488\n",
      "           ...  \n",
      "28-Oct         1\n",
      "15-20.5        1\n",
      "26-37.0        1\n",
      "31-30          1\n",
      "23-26.9        1\n",
      "Name: mpg, Length: 864, dtype: int64, \n",
      "\n",
      "Black                              59849\n",
      "White                              50623\n",
      "Gray                               30119\n",
      "Silver                             24152\n",
      "Blue                               17091\n",
      "                                   ...  \n",
      "Gallium Silver Premium Metallic        1\n",
      "Cosmic Black Premium Metallic          1\n",
      "Italian Racing Red Metallic            1\n",
      "Ammonite                               1\n",
      "Oyster Pearl                           1\n",
      "Name: exterior_color, Length: 7267, dtype: int64, \n",
      "\n",
      "Black                                 285202\n",
      "Gray                                   49483\n",
      "Jet Black                              46089\n",
      "Ebony                                  37778\n",
      "Charcoal                               26136\n",
      "                                       ...  \n",
      "Brandy With Ebony Interior Accents         1\n",
      "Red/Jet Inserts                            1\n",
      "Brandy with Ebony interior accents         1\n",
      "Jet with Cirrus Stitching                  1\n",
      "Parchment White leather                    1\n",
      "Name: interior_color, Length: 4515, dtype: int64, \n",
      "\n",
      "0.0    565511\n",
      "1.0    168435\n",
      "Name: accidents_or_damage, dtype: int64, \n",
      "\n",
      "1.0    410402\n",
      "0.0    318278\n",
      "Name: one_owner, dtype: int64, \n",
      "\n",
      "1.0    481833\n",
      "0.0    252007\n",
      "Name: personal_use_only, dtype: int64, \n",
      "\n",
      "East Coast Auto Source             1034\n",
      "Auto Boutique                       716\n",
      "Adams North Charlotte               643\n",
      "Automotive Avenues                  637\n",
      "Pacific Auto Center - Fontana       579\n",
      "                                   ... \n",
      "North County Buick Cadillac GMC       1\n",
      "James Corlew Chevrolet Cadillac       1\n",
      "Gerry Lane Cadillac                   1\n",
      "Uebelhor & Sons GMC Cadillac          1\n",
      "Pederson Auto Brokers LLC             1\n",
      "Name: seller_name, Length: 18251, dtype: int64, \n",
      "\n",
      "4.8    64339\n",
      "4.7    56226\n",
      "4.9    51040\n",
      "4.6    49118\n",
      "4.5    40461\n",
      "4.4    30555\n",
      "4.3    26336\n",
      "4.2    21889\n",
      "4.1    18014\n",
      "5.0    16892\n",
      "4.0    16441\n",
      "3.9    16249\n",
      "3.8    12161\n",
      "3.6    11416\n",
      "3.7    10887\n",
      "3.3    10208\n",
      "3.4     9570\n",
      "3.5     9434\n",
      "3.1     7587\n",
      "3.2     6301\n",
      "3.0     6206\n",
      "2.8     6024\n",
      "2.6     4998\n",
      "2.9     4948\n",
      "2.7     4749\n",
      "2.4     4309\n",
      "2.5     4250\n",
      "1.8     3864\n",
      "2.2     3762\n",
      "2.3     2941\n",
      "2.1     2911\n",
      "1.9     2909\n",
      "1.7     1901\n",
      "2.0     1612\n",
      "1.6     1469\n",
      "1.5     1359\n",
      "1.3      877\n",
      "1.4      839\n",
      "1.2      805\n",
      "1.0      577\n",
      "1.1      184\n",
      "Name: seller_rating, dtype: int64, \n",
      "\n",
      "4.7    158600\n",
      "4.8    155924\n",
      "4.6    117998\n",
      "4.5     74757\n",
      "4.9     63982\n",
      "4.4     42409\n",
      "5.0     30724\n",
      "4.3     28582\n",
      "4.2     16830\n",
      "4.1     13139\n",
      "4.0      6764\n",
      "3.8      5191\n",
      "3.9      3765\n",
      "3.7      2722\n",
      "3.6      1532\n",
      "3.4      1388\n",
      "2.8       881\n",
      "3.5       823\n",
      "2.9       726\n",
      "3.0       353\n",
      "2.6       325\n",
      "1.0       269\n",
      "3.2       159\n",
      "2.5       106\n",
      "3.3        99\n",
      "2.2        41\n",
      "2.7        27\n",
      "2.1        14\n",
      "3.1         7\n",
      "2.0         5\n",
      "1.7         4\n",
      "Name: driver_rating, dtype: int64, \n",
      "\n",
      "0      29889\n",
      "2      20732\n",
      "3      16327\n",
      "4      16000\n",
      "1      13321\n",
      "       ...  \n",
      "209       54\n",
      "149       52\n",
      "240       48\n",
      "232       45\n",
      "369       45\n",
      "Name: driver_reviews_num, Length: 369, dtype: int64, \n",
      "\n",
      "1000.0     53855\n",
      "500.0      36560\n",
      "200.0      15904\n",
      "100.0      14708\n",
      "2000.0     13083\n",
      "           ...  \n",
      "6079.0         1\n",
      "11300.0        1\n",
      "12812.0        1\n",
      "6527.0         1\n",
      "10009.0        1\n",
      "Name: price_drop, Length: 6395, dtype: int64, \n",
      "\n",
      "19995     3163\n",
      "14995     2783\n",
      "16995     2705\n",
      "18995     2696\n",
      "17995     2693\n",
      "          ... \n",
      "58707        1\n",
      "51178        1\n",
      "55015        1\n",
      "60915        1\n",
      "127795       1\n",
      "Name: price, Length: 63378, dtype: int64, \n",
      "\n",
      "2.0    136429\n",
      "3.5     70899\n",
      "3.6     70535\n",
      "2.5     57592\n",
      "2.4     40182\n",
      "        ...  \n",
      "6.5         8\n",
      "7.5         6\n",
      "4.9         4\n",
      "0.0         1\n",
      "4.1         1\n",
      "Name: Engine Displacement (L), Length: 66, dtype: int64, \n",
      "\n",
      "I4           290875\n",
      "V6           194017\n",
      "V8            92092\n",
      "I6            22604\n",
      "H4            20602\n",
      "              ...  \n",
      "DURAMAX           1\n",
      "PENTASTAR         1\n",
      "32V               1\n",
      "HEAVY             1\n",
      "NA                1\n",
      "Name: Engine Type, Length: 85, dtype: int64, \n",
      "\n",
      "16V GDI DOHC Turbo                              121208\n",
      "24V MPFI DOHC                                    71464\n",
      "16V MPFI DOHC                                    58585\n",
      "16V GDI DOHC                                     56200\n",
      "24V GDI DOHC                                     44183\n",
      "                                                 ...  \n",
      "DUTY V8 HEMI W/MDS -inc: 11.50\" Single Wheel         1\n",
      "hp                                                   1\n",
      "VVT-i 16-valve 4-cyl hybrid engine                   1\n",
      "SFI 16-valve dual VVT-i I4 engine                    1\n",
      "10V MPFI SOHC                                        1\n",
      "Name: Engine Features, Length: 1158, dtype: int64, \n",
      "\n"
     ]
    }
   ],
   "source": [
    "for feature in df.columns.tolist():\n",
    "    print(f\"{df[feature].value_counts()}, \\n\")"
   ]
  },
  {
   "cell_type": "markdown",
   "metadata": {},
   "source": [
    "<a id=\"6\"></a>\n",
    "<font color = 'blue'> \n",
    "## **6. Exploratory Data Analysis (EDA)**"
   ]
  },
  {
   "cell_type": "markdown",
   "metadata": {},
   "source": [
    "<a id=\"61\"></a>\n",
    "<font color = 'blue'> \n",
    "### ***1. Filtering data***\n"
   ]
  },
  {
   "cell_type": "markdown",
   "metadata": {},
   "source": [
    "* #### Handle Missing value\n",
    "   * Price Column - Target"
   ]
  },
  {
   "cell_type": "code",
   "execution_count": 8,
   "metadata": {},
   "outputs": [
    {
     "data": {
      "image/png": "[encoded data removed]",
      "text/plain": [
       "<Figure size 1000x600 with 1 Axes>"
      ]
     },
     "metadata": {},
     "output_type": "display_data"
    }
   ],
   "source": [
    "# before shrinkage\n",
    "mean_prices_by_year = df.groupby('year')['price'].mean().reset_index()\n",
    "\n",
    "plt.figure(figsize=(10, 6))\n",
    "plt.plot(mean_prices_by_year['year'], mean_prices_by_year['price'], marker='o', linestyle='-')\n",
    "plt.title('Average Price by year (before shrinking the range)')\n",
    "plt.xlabel('year')\n",
    "plt.ylabel('Average Price')\n",
    "plt.grid(True)\n",
    "plt.show()\n",
    " "
   ]
  },
  {
   "cell_type": "markdown",
   "metadata": {},
   "source": [
    "<div class=\"alert alert-block alert-info\">\n",
    "<b>Problem:</b>\n",
    "The original dataset has the abnormal Average Price in year 2009. So, we shrink the Price in the range (0,200000). This could a way to handle outliers. \n",
    "</div>\n",
    "\n"
   ]
  },
  {
   "cell_type": "code",
   "execution_count": 9,
   "metadata": {},
   "outputs": [],
   "source": [
    "df=df[df['price'].between(0,200000)]"
   ]
  },
  {
   "cell_type": "code",
   "execution_count": 10,
   "metadata": {},
   "outputs": [
    {
     "name": "stderr",
     "output_type": "stream",
     "text": [
      "/var/folders/3b/8cnrvmc53q97m9nqbnvfytlm0000gn/T/ipykernel_30799/3540215951.py:5: SettingWithCopyWarning: \n",
      "A value is trying to be set on a copy of a slice from a DataFrame\n",
      "\n",
      "See the caveats in the documentation: https://pandas.pydata.org/pandas-docs/stable/user_guide/indexing.html#returning-a-view-versus-a-copy\n",
      "  df['price'].fillna(df['year'].map(yearly_mean_prices), inplace=True)\n"
     ]
    }
   ],
   "source": [
    "\n",
    "# Group by the 'year' column and calculate the Average Price for each year\n",
    "yearly_mean_prices = df.groupby('year')['price'].mean()\n",
    "\n",
    "# Fill NaN values in the 'price' column with the Average Price of their respective year\n",
    "df['price'].fillna(df['year'].map(yearly_mean_prices), inplace=True)\n"
   ]
  },
  {
   "cell_type": "code",
   "execution_count": 11,
   "metadata": {},
   "outputs": [
    {
     "data": {
      "image/png": "[encoded data removed]",
      "text/plain": [
       "<Figure size 1000x600 with 1 Axes>"
      ]
     },
     "metadata": {},
     "output_type": "display_data"
    }
   ],
   "source": [
    "mean_prices_by_year = df.groupby('year')['price'].mean().reset_index()\n",
    "\n",
    "plt.figure(figsize=(10, 6))\n",
    "plt.plot(mean_prices_by_year['year'], mean_prices_by_year['price'], marker='o', linestyle='-')\n",
    "plt.title('Average Price by year (after shrinking the range)')\n",
    "plt.xlabel('year')\n",
    "plt.ylabel('Average Price')\n",
    "plt.grid(True)\n",
    "plt.show()"
   ]
  },
  {
   "cell_type": "markdown",
   "metadata": {},
   "source": [
    "* #### Mapping from long form to abbreviation\n"
   ]
  },
  {
   "cell_type": "markdown",
   "metadata": {},
   "source": [
    "* Drivetrain"
   ]
  },
  {
   "cell_type": "code",
   "execution_count": 12,
   "metadata": {},
   "outputs": [],
   "source": [
    "\n",
    "df = pd.DataFrame(df)\n",
    "\n",
    "# Create a mapping from long form to abbreviation\n",
    "drivetrain_mapping = {\n",
    "    'All-wheel Drive': 'AWD',\n",
    "    'Front-wheel Drive': 'FWD',\n",
    "    'Four-wheel Drive': '4WD',\n",
    "    'Rear-wheel Drive': 'RWD'\n",
    "}\n",
    "\n",
    "# Use the replace method to update the drivetrain column\n",
    "df['drivetrain'] = df['drivetrain'].replace(drivetrain_mapping)\n"
   ]
  },
  {
   "cell_type": "markdown",
   "metadata": {},
   "source": [
    "* fuel_type"
   ]
  },
  {
   "cell_type": "code",
   "execution_count": 13,
   "metadata": {},
   "outputs": [],
   "source": [
    "df = pd.DataFrame(df)\n",
    "# Create a dictionary for mapping\n",
    "drivetrain_mapping = {\n",
    "    'Gasoline Fuel': 'Gasoline',\n",
    "    'Gas': 'Gasoline',\n",
    "    'Plug-In Hybrid': 'Hybrid',\n",
    "    'Hybrid Fuel': 'Hybrid',\n",
    "    'Gas/Electric Hybrid': 'Hybrid',\n",
    "    'Gasoline/Mild Electric Hybrid': 'Hybrid',\n",
    "    'Diesel Fuel': 'Diesel',\n",
    "    'Rear-wheel Drive': 'Electric',\n",
    "    'E85 Flex Fuel': 'Flex Fuel',\n",
    "    'Flex Fuel Capability': 'Flex Fuel'\n",
    "}\n",
    "\n",
    "# Use the replace method to update the drivetrain column\n",
    "df['fuel_type'] = df['fuel_type'].replace(drivetrain_mapping)\n"
   ]
  },
  {
   "cell_type": "markdown",
   "metadata": {},
   "source": [
    "* #### Splitting `MPG` column into two separate columns"
   ]
  },
  {
   "cell_type": "code",
   "execution_count": 14,
   "metadata": {},
   "outputs": [],
   "source": [
    "df['mpg'].fillna('0-0', inplace=True)"
   ]
  },
  {
   "cell_type": "code",
   "execution_count": 15,
   "metadata": {},
   "outputs": [],
   "source": [
    "# Split the \"MPG Range\" into two columns\n",
    "#df[['City MPG', 'Highway MPG']] = df['mpg'].str.split('-', expand=True).astype(int)\n",
    "df[['City MPG', 'Highway MPG']] = df['mpg'].str.split('-', expand=True)"
   ]
  },
  {
   "cell_type": "code",
   "execution_count": null,
   "metadata": {},
   "outputs": [],
   "source": [
    "# Custom function to convert elements to int or replace with zero\n",
    "def convert_to_int_or_zero(value):\n",
    "    if isinstance(value, str):\n",
    "        # Remove non-numeric characters and try to convert to int\n",
    "        numeric_value = ''.join(filter(str.isdigit, value))\n",
    "        if numeric_value:\n",
    "            return int(numeric_value)\n",
    "    return 0\n",
    "\n",
    "# Apply the custom function to 'City MPG' and 'Highway MPG' columns\n",
    "df['City MPG'] = df['City MPG'].apply(convert_to_int_or_zero)\n",
    "df['Highway MPG'] = df['Highway MPG'].apply(convert_to_int_or_zero)\n"
   ]
  },
  {
   "cell_type": "code",
   "execution_count": null,
   "metadata": {},
   "outputs": [],
   "source": [
    "# Replace \"N/A\" values with NaN\n",
    "df['City MPG'] .replace(0, np.nan, inplace=True)\n",
    "df['Highway MPG'].replace(0, np.nan, inplace=True)"
   ]
  },
  {
   "cell_type": "code",
   "execution_count": null,
   "metadata": {},
   "outputs": [],
   "source": [
    "df= df.drop('mpg', axis=1)"
   ]
  },
  {
   "cell_type": "code",
   "execution_count": null,
   "metadata": {},
   "outputs": [],
   "source": [
    "df.isnull().sum()"
   ]
  },
  {
   "cell_type": "code",
   "execution_count": null,
   "metadata": {},
   "outputs": [],
   "source": [
    "def Create_MPG_histograms(df, str):\n",
    "    plt.figure(figsize=(12, 6))\n",
    "\n",
    "    plt.subplot(1, 2, 1)\n",
    "    plt.hist(df['City MPG'], bins=20, color='skyblue', edgecolor='black')\n",
    "    plt.title('City MPG Histogram '+str+' Replacing NAN')\n",
    "    plt.xlabel('City MPG')\n",
    "    plt.ylabel('Frequency')\n",
    "\n",
    "    plt.subplot(1, 2, 2)\n",
    "    plt.hist(df['Highway MPG'], bins=20, color='lightcoral', edgecolor='black')\n",
    "    plt.title('Highway MPG Histogram '+str+' Replacing NAN')\n",
    "    plt.xlabel('Highway MPG')\n",
    "    plt.ylabel('Frequency')\n",
    "\n",
    "    plt.tight_layout()\n",
    "\n",
    "    # Show the histograms\n",
    "    plt.show()\n",
    "    \n",
    "Create_MPG_histograms(df, 'Before')"
   ]
  },
  {
   "cell_type": "markdown",
   "metadata": {},
   "source": [
    "* #### **Replace `NAN` in '`City MPG`' and '`Highway MPG`' by the `Mean` of each column**"
   ]
  },
  {
   "cell_type": "code",
   "execution_count": null,
   "metadata": {},
   "outputs": [],
   "source": [
    "df['City MPG'] .replace(np.nan,df['City MPG'].mean(), inplace=True)\n",
    "df['Highway MPG'].replace(np.nan,df['Highway MPG'].mean(), inplace=True)"
   ]
  },
  {
   "cell_type": "code",
   "execution_count": null,
   "metadata": {},
   "outputs": [],
   "source": [
    "Create_MPG_histograms(df, 'After')"
   ]
  },
  {
   "cell_type": "code",
   "execution_count": null,
   "metadata": {},
   "outputs": [],
   "source": [
    "df= df.drop('price_drop', axis=1)       #Drop this column since it does not provide useful information and has a lot of null values."
   ]
  },
  {
   "cell_type": "markdown",
   "metadata": {},
   "source": [
    "* #### **Handling `NAN` in `seller_rating`**"
   ]
  },
  {
   "cell_type": "code",
   "execution_count": null,
   "metadata": {},
   "outputs": [],
   "source": [
    "\n",
    "def Create_seller_rating_histograms(df, str):\n",
    "    plt.figure(figsize=(12, 6))\n",
    "\n",
    "    plt.subplot(1, 2, 1)\n",
    "    plt.hist(df['seller_rating'], bins=20, color='skyblue', edgecolor='black')\n",
    "    plt.title('seller_rating Histogram '+str+' Replacing NAN')\n",
    "    plt.xlabel('seller_rating')\n",
    "    plt.ylabel('Frequency')\n",
    "    plt.tight_layout()\n",
    "\n",
    "    # Show the histograms\n",
    "    plt.show()\n",
    "    \n",
    "Create_seller_rating_histograms(df, 'Before')"
   ]
  },
  {
   "cell_type": "code",
   "execution_count": null,
   "metadata": {},
   "outputs": [],
   "source": [
    "df['seller_rating'].replace(np.nan,df['seller_rating'].mean(), inplace=True)"
   ]
  },
  {
   "cell_type": "code",
   "execution_count": null,
   "metadata": {},
   "outputs": [],
   "source": [
    "Create_seller_rating_histograms(df, 'After')"
   ]
  },
  {
   "cell_type": "code",
   "execution_count": null,
   "metadata": {},
   "outputs": [],
   "source": [
    "df.dropna()"
   ]
  },
  {
   "cell_type": "code",
   "execution_count": null,
   "metadata": {},
   "outputs": [],
   "source": [
    "df.isnull().sum() # Checking null values on each column"
   ]
  },
  {
   "cell_type": "code",
   "execution_count": null,
   "metadata": {},
   "outputs": [],
   "source": [
    "# Load your dataset (replace 'your_data.csv' with your actual file)\n",
    "\n",
    "# Use value_counts to count the frequency of each Engine Type\n",
    "engine_type_counts = df['Engine Features'].value_counts()\n",
    "\n",
    "# Get the top 20 values with the highest frequency\n",
    "top_20_engine_types = engine_type_counts.head(40)\n",
    "\n",
    "# Print the top 20 values and their frequencies\n",
    "print(top_20_engine_types)"
   ]
  },
  {
   "cell_type": "code",
   "execution_count": null,
   "metadata": {},
   "outputs": [],
   "source": [
    "df.isnull().sum()"
   ]
  },
  {
   "cell_type": "markdown",
   "metadata": {},
   "source": [
    "We still have a lot of null value"
   ]
  },
  {
   "cell_type": "code",
   "execution_count": null,
   "metadata": {},
   "outputs": [],
   "source": [
    "df.shape"
   ]
  },
  {
   "cell_type": "markdown",
   "metadata": {},
   "source": [
    "* #### ...after filtering data"
   ]
  },
  {
   "cell_type": "code",
   "execution_count": null,
   "metadata": {},
   "outputs": [],
   "source": [
    "for feature in df.columns.tolist():\n",
    "    print(f\"{df[feature].value_counts()}, \\n\")"
   ]
  },
  {
   "cell_type": "code",
   "execution_count": null,
   "metadata": {},
   "outputs": [],
   "source": [
    "df.info() #shows a summary of our dataset"
   ]
  },
  {
   "cell_type": "markdown",
   "metadata": {},
   "source": [
    "* Check and drop **Null** values"
   ]
  },
  {
   "cell_type": "code",
   "execution_count": null,
   "metadata": {},
   "outputs": [],
   "source": [
    "df.isnull().sum()"
   ]
  },
  {
   "cell_type": "markdown",
   "metadata": {},
   "source": [
    "There is null value in **fuel_consumption_g_km** column. So, we need to drop these before using it"
   ]
  },
  {
   "cell_type": "code",
   "execution_count": null,
   "metadata": {},
   "outputs": [],
   "source": [
    "df=df.dropna().reset_index(drop=True)"
   ]
  },
  {
   "cell_type": "markdown",
   "metadata": {},
   "source": [
    "* Check and drop duplicates:"
   ]
  },
  {
   "cell_type": "code",
   "execution_count": null,
   "metadata": {},
   "outputs": [],
   "source": [
    "df=df.drop_duplicates()"
   ]
  },
  {
   "cell_type": "markdown",
   "metadata": {},
   "source": [
    "The data set after cleaning up"
   ]
  },
  {
   "cell_type": "code",
   "execution_count": null,
   "metadata": {},
   "outputs": [],
   "source": [
    "df.shape"
   ]
  },
  {
   "cell_type": "markdown",
   "metadata": {},
   "source": [
    "* Counting the data for each feature:"
   ]
  },
  {
   "cell_type": "code",
   "execution_count": null,
   "metadata": {},
   "outputs": [],
   "source": [
    "'''for feature in df.columns.tolist():\n",
    "    print(f\"{df[feature].value_counts()}, \\n\")'''"
   ]
  },
  {
   "cell_type": "markdown",
   "metadata": {},
   "source": [
    "We can observe the presence of outliers, and the data spans a wide range."
   ]
  },
  {
   "cell_type": "markdown",
   "metadata": {},
   "source": [
    "<a id=\"62\"></a>\n",
    "<font color = 'blue'> \n",
    "### **2. Dectecting outliers**\n",
    "* #### **For numerical columns**"
   ]
  },
  {
   "cell_type": "markdown",
   "metadata": {},
   "source": [
    "Getting numerical columns"
   ]
  },
  {
   "cell_type": "code",
   "execution_count": null,
   "metadata": {},
   "outputs": [],
   "source": [
    "numerical_cols = df.select_dtypes(include=['int64', 'float64']).columns.tolist()\n",
    "#numerical_cols.remove()\n",
    "num_columns=df[numerical_cols]"
   ]
  },
  {
   "cell_type": "code",
   "execution_count": null,
   "metadata": {},
   "outputs": [],
   "source": [
    "numerical_cols"
   ]
  },
  {
   "cell_type": "markdown",
   "metadata": {},
   "source": [
    "* Average Price by year with outliers"
   ]
  },
  {
   "cell_type": "markdown",
   "metadata": {},
   "source": [
    "<div class=\"alert alert-block alert-warning\">\n",
    "<b>Note:</b>  This method is just applied for <b>numerical features</b>. <br>\n",
    "There is no specific way to detect outlier for <b>categorical columns</b>. We can plot the Frequency vs Price for each categorical columns, and then decide the outliers depend on the frequency.\n",
    "</div>\n"
   ]
  },
  {
   "cell_type": "code",
   "execution_count": null,
   "metadata": {},
   "outputs": [],
   "source": [
    "\n",
    "mean_prices_by_year = df.groupby('year')['price'].mean().reset_index()\n",
    "\n",
    "plt.figure(figsize=(10, 6))\n",
    "plt.plot(mean_prices_by_year['year'], mean_prices_by_year['price'], marker='o', linestyle='-')\n",
    "plt.title('Average Price by year (before removed outliers)')\n",
    "plt.xlabel('year')\n",
    "plt.ylabel('Average Price')\n",
    "plt.grid(True)\n",
    "plt.show()"
   ]
  },
  {
   "cell_type": "markdown",
   "metadata": {},
   "source": [
    "We can see that in 2009, the price was so arnormal "
   ]
  },
  {
   "cell_type": "code",
   "execution_count": null,
   "metadata": {},
   "outputs": [],
   "source": [
    "Q1 = num_columns[numerical_cols].quantile(0.25)\n",
    "Q3 = num_columns[numerical_cols].quantile(0.75)\n",
    "IQR = Q3 - Q1\n",
    "\n",
    "# Define the lower and upper bounds for outliers\n",
    "lower_bound = Q1 - 1.5 * IQR\n",
    "upper_bound = Q3 + 1.5 * IQR\n",
    "\n",
    "# Identify outliers and create a boolean mask\n",
    "outliers_mask = (num_columns[numerical_cols] < lower_bound) | (num_columns[numerical_cols] > upper_bound)\n",
    "\n",
    "# Drop the rows containing outliers\n",
    "num_columns = num_columns[~outliers_mask]"
   ]
  },
  {
   "cell_type": "code",
   "execution_count": null,
   "metadata": {},
   "outputs": [],
   "source": [
    "numerical_cols"
   ]
  },
  {
   "cell_type": "code",
   "execution_count": null,
   "metadata": {},
   "outputs": [],
   "source": [
    "num_columns.shape"
   ]
  },
  {
   "cell_type": "markdown",
   "metadata": {},
   "source": [
    "This is new numerical columns after removed the outliers"
   ]
  },
  {
   "cell_type": "code",
   "execution_count": null,
   "metadata": {},
   "outputs": [],
   "source": [
    "new_num_columns= num_columns.dropna() #drop the rows which are contain NAN \n",
    "new_num_columns.shape"
   ]
  },
  {
   "cell_type": "markdown",
   "metadata": {},
   "source": [
    "* Plot Average Price vs Years ((after removed outliers))\n"
   ]
  },
  {
   "cell_type": "code",
   "execution_count": null,
   "metadata": {},
   "outputs": [],
   "source": [
    "\n",
    "mean_prices_by_year = num_columns.groupby('year')['price'].mean().reset_index()\n",
    "\n",
    "plt.figure(figsize=(10, 6))\n",
    "plt.plot(mean_prices_by_year['year'], mean_prices_by_year['price'], marker='o', linestyle='-')\n",
    "plt.title('Average Price by year (after removed outliers)')\n",
    "plt.xlabel('year')\n",
    "plt.ylabel('Average Price')\n",
    "plt.grid(True)\n",
    "plt.show()"
   ]
  },
  {
   "cell_type": "markdown",
   "metadata": {},
   "source": [
    "<a id=\"\"></a>\n",
    "<font color = 'blue'>\n",
    "* ### **For categorical columns:**\n"
   ]
  },
  {
   "cell_type": "markdown",
   "metadata": {},
   "source": [
    "We need to plot them vs Price to see the pattern"
   ]
  },
  {
   "cell_type": "markdown",
   "metadata": {},
   "source": [
    "* Drop 'model', 'seller_name'"
   ]
  },
  {
   "cell_type": "code",
   "execution_count": null,
   "metadata": {},
   "outputs": [],
   "source": [
    "df=df.drop(['model', 'seller_name'], axis=1)\n"
   ]
  },
  {
   "cell_type": "code",
   "execution_count": null,
   "metadata": {},
   "outputs": [],
   "source": [
    "cat_columns= df.select_dtypes(include=['object']).columns.tolist()\n",
    " #these are the columns that we need to plot to dectect the outliers"
   ]
  },
  {
   "cell_type": "code",
   "execution_count": null,
   "metadata": {},
   "outputs": [],
   "source": [
    "df = df.loc[~df['transmission'].isin(['Unknown', 'Semi-automatic'])]"
   ]
  },
  {
   "cell_type": "code",
   "execution_count": null,
   "metadata": {},
   "outputs": [],
   "source": [
    "def plot_categorical_feature(cat_columns,df):\n",
    "    fig = plt.figure(figsize=(6, 6 * len(cat_columns)))\n",
    "\n",
    "    for j, cat_feature in enumerate(cat_columns):\n",
    "        ax = fig.add_subplot(len(cat_columns), 1, j+1)\n",
    "        df[cat_feature].value_counts().plot(ax=ax, kind='bar')\n",
    "        ax.set_xlabel(cat_feature)\n",
    "        ax.set_ylabel('Frequency')\n",
    "        ax.set_title(cat_feature)\n",
    "\n",
    "    plt.tight_layout()\n",
    "    plt.show()\n",
    "# plot categorical features to detect and remove outliers\n",
    "plot_categorical_feature(cat_columns,df)"
   ]
  },
  {
   "cell_type": "code",
   "execution_count": null,
   "metadata": {},
   "outputs": [],
   "source": [
    "df.shape"
   ]
  },
  {
   "cell_type": "markdown",
   "metadata": {},
   "source": [
    "* `Drivetrain`"
   ]
  },
  {
   "cell_type": "code",
   "execution_count": null,
   "metadata": {},
   "outputs": [],
   "source": [
    "df = df[df['drivetrain'].isin(['FWD', 'AWD', '4WD', 'RWD'])]"
   ]
  },
  {
   "cell_type": "markdown",
   "metadata": {},
   "source": [
    "* `Fuel_type`"
   ]
  },
  {
   "cell_type": "code",
   "execution_count": null,
   "metadata": {},
   "outputs": [],
   "source": [
    "\n",
    "df = df[~df['fuel_type'].isin(['Compressed Natural Gas', 'Bio Diesel', 'Automatic'   ])]\n"
   ]
  },
  {
   "cell_type": "markdown",
   "metadata": {},
   "source": [
    "* We just keep top 20 classes which are the most common in `exterior_color`, `interior_color`"
   ]
  },
  {
   "cell_type": "code",
   "execution_count": null,
   "metadata": {},
   "outputs": [],
   "source": [
    "\n",
    "value_counts = df['exterior_color'].value_counts()\n",
    "# Get the top 20 most frequent classes\n",
    "top_20_classes = value_counts.index[:20]\n",
    "# Filter the DataFrame to keep rows in the top 20 classes\n",
    "df = df[df['exterior_color'].isin(top_20_classes)]\n"
   ]
  },
  {
   "cell_type": "code",
   "execution_count": null,
   "metadata": {},
   "outputs": [],
   "source": [
    "\n",
    "value_counts = df['interior_color'].value_counts()\n",
    "# Get the top 20 most frequent classes\n",
    "top_20_classes = value_counts.index[:20]\n",
    "# Filter the DataFrame to keep rows in the top 20 classes\n",
    "df = df[df['interior_color'].isin(top_20_classes)]\n"
   ]
  },
  {
   "cell_type": "markdown",
   "metadata": {},
   "source": [
    "* `Engine Displacement (L)`"
   ]
  },
  {
   "cell_type": "code",
   "execution_count": null,
   "metadata": {},
   "outputs": [],
   "source": [
    "value_counts = df['Engine Displacement (L)'].value_counts()\n",
    "# Get the top 30 most frequent classes\n",
    "top_30_classes = value_counts.index[:30]\n",
    "# Filter the DataFrame to keep rows in the top 30 classes\n",
    "df = df[df['Engine Displacement (L)'].isin(top_30_classes)]\n"
   ]
  },
  {
   "cell_type": "markdown",
   "metadata": {},
   "source": [
    "* `Engine Type` (top 10)"
   ]
  },
  {
   "cell_type": "code",
   "execution_count": null,
   "metadata": {},
   "outputs": [],
   "source": [
    "\n",
    "value_counts = df['Engine Type'].value_counts()\n",
    "# Get the top 10 most frequent classes\n",
    "top_10_classes = value_counts.index[:10]\n",
    "# Filter the DataFrame to keep rows in the top 10 classes\n",
    "df = df[df['Engine Type'].isin(top_10_classes)]\n"
   ]
  },
  {
   "cell_type": "markdown",
   "metadata": {},
   "source": [
    "* `Engine Features`"
   ]
  },
  {
   "cell_type": "code",
   "execution_count": null,
   "metadata": {},
   "outputs": [],
   "source": [
    "value_counts = df['Engine Features'].value_counts()\n",
    "# Get the top 20 most frequent classes\n",
    "top_20_classes = value_counts.index[:20]\n",
    "# Filter the DataFrame to keep rows in the top 20 classes\n",
    "df = df[df['Engine Features'].isin(top_20_classes)]\n"
   ]
  },
  {
   "cell_type": "markdown",
   "metadata": {},
   "source": [
    "* We just keep top 20 classes which are the most popular in `Transmission`"
   ]
  },
  {
   "cell_type": "code",
   "execution_count": null,
   "metadata": {},
   "outputs": [],
   "source": [
    "# Get the value counts for the 'transmission' column\n",
    "value_counts = df['transmission'].value_counts()\n",
    "\n",
    "# Get the top 20 most frequent classes\n",
    "top_20_classes = value_counts.index[:20]\n",
    "\n",
    "# Filter the DataFrame to keep rows with 'transmission' in the top 20 classes\n",
    "df = df[df['transmission'].isin(top_20_classes)]\n"
   ]
  },
  {
   "cell_type": "code",
   "execution_count": null,
   "metadata": {},
   "outputs": [],
   "source": [
    "# Plot after cleaning data\n",
    "plot_categorical_feature(cat_columns,df)"
   ]
  },
  {
   "cell_type": "code",
   "execution_count": null,
   "metadata": {},
   "outputs": [],
   "source": [
    "df.reset_index(drop=True)"
   ]
  },
  {
   "cell_type": "code",
   "execution_count": null,
   "metadata": {},
   "outputs": [],
   "source": [
    "# Save the DataFrame as a CSV file\n",
    "#df.to_csv('~/Downloads/cleaned_data.csv', index=False)\n",
    "\n"
   ]
  },
  {
   "cell_type": "code",
   "execution_count": null,
   "metadata": {},
   "outputs": [],
   "source": [
    "df.info()"
   ]
  },
  {
   "cell_type": "code",
   "execution_count": null,
   "metadata": {},
   "outputs": [],
   "source": [
    "cat_columns= df.select_dtypes(include=['object']).columns.tolist()\n"
   ]
  },
  {
   "cell_type": "code",
   "execution_count": null,
   "metadata": {},
   "outputs": [],
   "source": [
    "new_num_columns"
   ]
  },
  {
   "cell_type": "code",
   "execution_count": null,
   "metadata": {},
   "outputs": [],
   "source": [
    "cat_data =df.select_dtypes(include=['object'])"
   ]
  },
  {
   "cell_type": "code",
   "execution_count": null,
   "metadata": {},
   "outputs": [],
   "source": [
    "cleaned_df = pd.concat([new_num_columns, cat_data], axis=1)"
   ]
  },
  {
   "cell_type": "code",
   "execution_count": null,
   "metadata": {},
   "outputs": [],
   "source": [
    "cleaned_df= cleaned_df.dropna().reset_index(drop=True)\n"
   ]
  },
  {
   "cell_type": "code",
   "execution_count": null,
   "metadata": {},
   "outputs": [],
   "source": [
    "def plot_year_vs_Price (df):\n",
    "    mean_prices_by_year = df.groupby('year')['price'].mean().reset_index()\n",
    "\n",
    "    plt.figure(figsize=(10, 6))\n",
    "    plt.plot(mean_prices_by_year['year'], mean_prices_by_year['price'], marker='o', linestyle='-')\n",
    "    plt.title('Average Price by year (before shrinking the range)')\n",
    "    plt.xlabel('year')\n",
    "    plt.ylabel('Average Price')\n",
    "    plt.grid(True)\n",
    "    plt.show()\n",
    "\n",
    "plot_year_vs_Price (cleaned_df)"
   ]
  },
  {
   "cell_type": "markdown",
   "metadata": {},
   "source": [
    "<a id=\"63\"></a>\n",
    "<font color = 'blue'>\n",
    "### **3. Labeling Encode**"
   ]
  },
  {
   "cell_type": "code",
   "execution_count": null,
   "metadata": {},
   "outputs": [],
   "source": [
    "\n",
    "cat_columns= cleaned_df.select_dtypes(include=['object']).columns.tolist()\n",
    "# Create a LabelEncoder instance\n",
    "label_encoder = LabelEncoder()\n",
    "\n",
    "# Encode each categorical column\n",
    "for col in cat_columns:\n",
    "    cleaned_df[col] = label_encoder.fit_transform(cleaned_df[col])\n",
    "\n",
    "# Your DataFrame now contains the encoded values\n",
    "cleaned_df"
   ]
  },
  {
   "cell_type": "code",
   "execution_count": null,
   "metadata": {},
   "outputs": [],
   "source": [
    "cleaned_df.isnull().sum()"
   ]
  },
  {
   "cell_type": "code",
   "execution_count": null,
   "metadata": {},
   "outputs": [],
   "source": [
    "cleaned_df['accidents_or_damage'].value_counts()"
   ]
  },
  {
   "cell_type": "code",
   "execution_count": null,
   "metadata": {},
   "outputs": [],
   "source": [
    "cleaned_df=cleaned_df.drop(['accidents_or_damage'], axis=1)"
   ]
  },
  {
   "cell_type": "code",
   "execution_count": null,
   "metadata": {},
   "outputs": [],
   "source": [
    "df.shape"
   ]
  },
  {
   "cell_type": "markdown",
   "metadata": {},
   "source": [
    "<a id=\"64\"></a>\n",
    "<font color = 'blue'>\n",
    "### **4. Correlation Matrix**"
   ]
  },
  {
   "cell_type": "markdown",
   "metadata": {},
   "source": [
    "The **`correlation matrix`** shows us the correlation coefficients between varaibles. \n",
    "* If the correlation coefficient is to to 1, it appears a strong positive relationship. That means, if one variable increases, the other tends to increase as well.\n",
    "* If the correlation coefficient is to to -1, it appears a strong negative relationship. That means, if one variable decreases, the other tends to decrease as well.\n",
    "* If the correlation coefficient is to to 0, it appears a weak or no linear relationship between two variables."
   ]
  },
  {
   "cell_type": "code",
   "execution_count": null,
   "metadata": {},
   "outputs": [],
   "source": [
    "heat_map(cleaned_df, cleaned_df.columns.tolist())"
   ]
  },
  {
   "cell_type": "markdown",
   "metadata": {},
   "source": [
    "<div class=\"alert alert-block alert-info\"> <b>Tip:</b> We can see there are some correlated features. We need to select the useful feature carefully to get optimize our model as much as possible </div>"
   ]
  },
  {
   "cell_type": "markdown",
   "metadata": {},
   "source": [
    "Our target is `Price`, which is strong relationship to many features. However, the variables outside our target exhibit multicollinearity, such as: City MPG - Highway MPG, year-one owner, and Engine features-Engine Type, Engine Displament(L), Engine Type, City, Highway MPG, etc."
   ]
  },
  {
   "cell_type": "markdown",
   "metadata": {},
   "source": [
    "We can also use **`variance_inflation_factor`** to diagnose the multicollinearity. Typically, a high VIF value (usually greater than 10) is an indicator of significant multicollinearity. It means that the variance of the coefficient estimate for that variable is 10 times larger than it would be if there were no multicollinearity. "
   ]
  },
  {
   "cell_type": "code",
   "execution_count": null,
   "metadata": {},
   "outputs": [],
   "source": [
    "# Import library for VIF\n",
    "from statsmodels.stats.outliers_influence import variance_inflation_factor\n",
    "\n",
    "def calc_vif(X):\n",
    "\n",
    "    # Calculating VIF\n",
    "    vif = pd.DataFrame()\n",
    "    vif[\"variables\"] = X.columns\n",
    "    vif[\"VIF\"] = [variance_inflation_factor(X.values, i) for i in range(X.shape[1])]\n",
    "\n",
    "    return(vif)\n",
    "\n",
    "#calc_vif(cleaned_df.drop('price', axis=1))"
   ]
  },
  {
   "cell_type": "markdown",
   "metadata": {},
   "source": [
    "So, let's  drop some features: "
   ]
  },
  {
   "cell_type": "code",
   "execution_count": null,
   "metadata": {},
   "outputs": [],
   "source": [
    "df2=cleaned_df.drop(['Engine Type', 'Engine Features','City MPG','interior_color', 'personal_use_only', 'driver_rating','seller_rating'], axis =1)\n",
    "df2"
   ]
  },
  {
   "cell_type": "code",
   "execution_count": null,
   "metadata": {},
   "outputs": [],
   "source": [
    "heat_map(df2, cleaned_df.columns.tolist())"
   ]
  },
  {
   "cell_type": "code",
   "execution_count": null,
   "metadata": {},
   "outputs": [],
   "source": [
    "calc_vif(df2.drop('price', axis=1))"
   ]
  },
  {
   "cell_type": "markdown",
   "metadata": {},
   "source": [
    "These are the important features that wwe will use to fit our models:\n",
    "**year,\n",
    "mileage\t,\n",
    "one_owner\t,\n",
    "driver_reviews_num,\t\n",
    "Highway MPG\t,\n",
    "manufacturer,\t\n",
    "transmission,\t\n",
    "drivetrain,\t\n",
    "fuel_type,\t\n",
    "exterior_color,\t\n",
    "Engine Displacement (L),** in dataframe `df2`"
   ]
  },
  {
   "cell_type": "markdown",
   "metadata": {},
   "source": [
    "<a id=\"7\"></a>\n",
    "<font color = 'blue'>\n",
    "## **7. Data Splitting**\n"
   ]
  },
  {
   "cell_type": "code",
   "execution_count": null,
   "metadata": {},
   "outputs": [],
   "source": [
    "X = df2.drop('price', axis =1)\n",
    "Y= df2['price']\n",
    "'''X = cleaned_df.drop('price', axis =1)\n",
    "Y= cleaned_df['price']'''"
   ]
  },
  {
   "cell_type": "code",
   "execution_count": null,
   "metadata": {},
   "outputs": [],
   "source": [
    "'''# 4. Apply SMOTE to balance the classes\n",
    "smote = SMOTE(sampling_strategy='auto', random_state=random_state, n_jobs=-1, k_neighbors=100)\n",
    "X_resampled, y_resampled = smote.fit_resample(X, Y)\n",
    "\n",
    "# 5. Split the balanced dataset into training and testing sets\n",
    "X_train, X_test, y_train, y_test = train_test_split(X_resampled, y_resampled, test_size=0.2, random_state=random_state)'''"
   ]
  },
  {
   "cell_type": "code",
   "execution_count": null,
   "metadata": {},
   "outputs": [],
   "source": [
    "X_train, X_test, y_train, y_test = train_test_split(X, Y, test_size=0.3, random_state=0)"
   ]
  },
  {
   "cell_type": "code",
   "execution_count": null,
   "metadata": {},
   "outputs": [],
   "source": [
    "print(X_train.shape, X_test.shape, y_train.shape, y_test.shape)"
   ]
  },
  {
   "cell_type": "markdown",
   "metadata": {},
   "source": [
    "<a id=\"8\"></a>\n",
    "<font color = 'blue'>\n",
    "## **8. Models Evaluations and Predictions**\n",
    "   "
   ]
  },
  {
   "cell_type": "markdown",
   "metadata": {},
   "source": [
    "<a id=\"81\"></a>\n",
    "<font color = 'blue'>\n",
    "### **8.1 Full Model with Linear Regression**\n",
    "   "
   ]
  },
  {
   "cell_type": "code",
   "execution_count": null,
   "metadata": {},
   "outputs": [],
   "source": [
    "LR = LinearRegression()\n",
    "LR.fit(X_train, y_train)\n",
    "y_pred = LR.predict(X_test)\n"
   ]
  },
  {
   "cell_type": "code",
   "execution_count": null,
   "metadata": {},
   "outputs": [],
   "source": [
    "mae = mean_absolute_error(y_test, y_pred)\n",
    "mse = mean_squared_error(y_test, y_pred)\n",
    "r2 = r2_score(y_test, y_pred)\n",
    "\n",
    "# Print or store the evaluation results\n",
    "print(\"Model 1 MAE:\", mae)\n",
    "print(\"Model 1 MSE:\", mse)\n",
    "print(\"Model 1 R2:\", r2)"
   ]
  },
  {
   "cell_type": "code",
   "execution_count": null,
   "metadata": {},
   "outputs": [],
   "source": [
    "import statsmodels.api as sm\n",
    "\n",
    "# Add a constant term to your X_train (if not already included) for the intercept\n",
    "X_train = sm.add_constant(X_train)\n",
    "\n",
    "# Create a linear regression model\n",
    "model = sm.OLS(y_train, X_train)\n",
    "\n",
    "# Fit the model\n",
    "results = model.fit()\n",
    "\n",
    "# Display the summary\n",
    "print(results.summary())"
   ]
  },
  {
   "cell_type": "code",
   "execution_count": null,
   "metadata": {},
   "outputs": [],
   "source": [
    "import matplotlib.pyplot as plt\n",
    "import statsmodels.api as sm\n",
    "\n",
    "# Assuming you have already fitted your linear regression model and have predictions\n",
    "# Create a scatterplot of fitted values vs. residuals\n",
    "residuals = y_test - y_pred  # Calculate the residuals\n",
    "\n",
    "# Create a scatterplot\n",
    "plt.figure(figsize=(8, 6))\n",
    "plt.scatter(y_pred, residuals, alpha=0.5)\n",
    "plt.title('Residuals vs. Fitted Values')\n",
    "plt.xlabel('Fitted Values')\n",
    "plt.ylabel('Residuals')\n",
    "\n",
    "# Add a horizontal line at y=0 for reference\n",
    "plt.axhline(y=0, color='r', linestyle='--')\n",
    "\n",
    "plt.show()\n"
   ]
  },
  {
   "cell_type": "markdown",
   "metadata": {},
   "source": [
    "This indicates that there may be a **violation of the assumption of linearity** in our linear regression model. This pattern suggests that the relationship between the independent variables (**features**) and the dependent variable (`price`) is not adequately captured by a simple linear model.\n",
    "\n",
    "So, we need to try non-linear regression:"
   ]
  },
  {
   "cell_type": "code",
   "execution_count": null,
   "metadata": {},
   "outputs": [],
   "source": [
    "from sklearn.preprocessing import PolynomialFeatures\n",
    "from sklearn.pipeline import make_pipeline\n",
    "# Create a polynomial regression model (e.g., quadratic)\n",
    "degree = 2  # You can adjust the degree for the desired level of complexity\n",
    "\n",
    "polyreg = make_pipeline(PolynomialFeatures(degree), LinearRegression())\n",
    "polyreg.fit(X_train, y_train)\n",
    "y_pred = polyreg.predict(X_test)\n",
    "\n",
    "mae = mean_absolute_error(y_test, y_pred)\n",
    "mse = mean_squared_error(y_test, y_pred)\n",
    "r2 = r2_score(y_test, y_pred)\n",
    "\n",
    "# Print or store the evaluation results\n",
    "print(\"Model 1 MAE:\", mae)\n",
    "print(\"Model 1 MSE:\", mse)\n",
    "print(\"Model 1 R2:\", r2)"
   ]
  },
  {
   "cell_type": "markdown",
   "metadata": {},
   "source": [
    "<a id=\"811\"></a>\n",
    "<font color = 'blue'>\n",
    "* #### **8.1.1. Using Sequential Feature Selection for the Linear Regression**\n",
    "      "
   ]
  },
  {
   "cell_type": "markdown",
   "metadata": {},
   "source": [
    "<a id=\"82\"></a>\n",
    "<font color = 'blue'>\n",
    "   ### **8.2 Decision Tree**\n",
    "   "
   ]
  },
  {
   "cell_type": "markdown",
   "metadata": {},
   "source": [
    "<a id=\"821\"></a>\n",
    "<font color = 'blue'>\n",
    "* #### **8.2.1. A Pruned Tree**\n",
    "      "
   ]
  },
  {
   "cell_type": "markdown",
   "metadata": {},
   "source": [
    "<a id=\"83\"></a>\n",
    "<font color = 'blue'>\n",
    "### **8.3. Ensemble Method: Random Forest Regression**\n",
    "   "
   ]
  },
  {
   "cell_type": "markdown",
   "metadata": {},
   "source": [
    "<a id=\"84\"></a>\n",
    "<font color = 'blue'>\n",
    "   ### **8.4. Ensemble Method: Gradient Boosting Regression**\n",
    "   "
   ]
  },
  {
   "cell_type": "markdown",
   "metadata": {},
   "source": [
    "<a id=\"85\"></a>\n",
    "<font color = 'blue'>\n",
    "### **8.5. Support Vector Machine (SVM)**\n",
    "   "
   ]
  },
  {
   "cell_type": "code",
   "execution_count": null,
   "metadata": {},
   "outputs": [],
   "source": []
  }
 ],
 "metadata": {
  "kernelspec": {
   "display_name": "My Python Kernel",
   "language": "python",
   "name": "myenv"
  },
  "language_info": {
   "codemirror_mode": {
    "name": "ipython",
    "version": 3
   },
   "file_extension": ".py",
   "mimetype": "text/x-python",
   "name": "python",
   "nbconvert_exporter": "python",
   "pygments_lexer": "ipython3",
   "version": "3.11.3"
  }
 },
 "nbformat": 4,
 "nbformat_minor": 2
}
