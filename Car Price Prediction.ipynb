{
 "cells": [
  {
   "cell_type": "markdown",
   "metadata": {},
   "source": [
    "\n",
    "# Predicting the Price of Used Cars Using Machine Learning Algorithms\n",
    "<font color = 'Blue'> \n",
    "Names: Shin Le, Jeongyeon Kim, Benjamin Horvath, Nico Reategui, Paul Giglio\n"
   ]
  },
  {
   "cell_type": "markdown",
   "metadata": {},
   "source": [
    "Final Report: https://docs.google.com/document/d/1zhQrkWmJjjMU6wIfBC78MygGzp-XUrkaUOWALfyAL9Q/edit\n",
    "\n",
    "Dataset: \n",
    "* https://www.kaggle.com/datasets/andreinovikov/used-cars-dataset"
   ]
  },
  {
   "cell_type": "markdown",
   "metadata": {},
   "source": [
    "\n",
    "<div class=\"alert alert-block alert-warning\">\n",
    "<b>Update:</b>\n",
    "\n",
    "* Our data now is in years (2009-2024) instead of (1995-2024) after dropped outliers.\n",
    "\n",
    "* We are building models now. \n",
    "Everything will be done soon. Please spend time to complete our final report. Feel free to try to complete any section in it. (the link above)\n",
    "\n",
    "* Our models are a little different from what we learned in class. Our project manipulates in Regression rather than Classification,\n",
    "</div>\n"
   ]
  },
  {
   "cell_type": "markdown",
   "metadata": {},
   "source": [
    "<a id=\"0\"></a> <br>\n",
    "<font color = 'Blue'> \n",
    "# Table of Contents\n",
    "\n",
    "1. [About Dataset](#1)\n",
    "2. [Importing Libraries](#2)\n",
    "3. [Loading Data](#3)\n",
    "4. [Data Preprocessing](#4)\n",
    "5. [Exploratory Data Analysis (EDA)](#5)\n",
    "   1. [Filtering Data](#51)\n",
    "   2. [Detecting Outliers](#52)\n",
    "   3. [Labeling Encode](#53)\n",
    "   4. [Correlation Matrix](#54)\n",
    "6. [Data Splitting](#6)\n",
    "7. [Models Evaluations and Predictions](#7)\n",
    "   1. [*Full Model* with *Linear Regression*](#71)\n",
    "      1. [Using Sequential Feature Selection for the *Linear Regression*](#711)\n",
    "   2. [*Decision Tree*](#72)\n",
    "      1. [*A Pruned Tree*](#721)\n",
    "   3. [Ensemble Method: *Random Forest Regression*](#73)\n",
    "   4. [Ensemble Method: *Gradient Boosting Regression*](#74)\n",
    "   5. [*Support Vector Machine* (SVM)](#75)\n",
    "   6. [Comparing Models](#76)\n"
   ]
  },
  {
   "cell_type": "markdown",
   "metadata": {},
   "source": [
    "<a id=\"1\"></a>\n",
    "<font color = 'blue'> \n",
    "## **1. About Dataset**"
   ]
  },
  {
   "cell_type": "markdown",
   "metadata": {},
   "source": [
    "This dataset contains data about 762,091 used cars scraped from cars.com. The data was collected on Apr, 2023.\n",
    "\n",
    "**Feature description**\n",
    "\n",
    "* manufacturer - name of the car manufacturer\n",
    "* model - name of the car model\n",
    "* year - the year when the car was produced\n",
    "* mileage - the number of miles the car has traveled since production\n",
    "* engine - car engine\n",
    "* transmission - type of the car's transmission\n",
    "* drivetrain - type of the car's drivetrain\n",
    "* fuel_type - type of fuel that the car consumes\n",
    "* mpg - the number of miles a car can travel using one gallon of fuel (miles per gallon)\n",
    "* exterior_color - car exterior color\n",
    "* interior_color - car interior color\n",
    "* accidents_or_damage - whether the car was involved in accidents\n",
    "* one_owner - whether the car was owned by one person\n",
    "* personal_use_only - whether the car was used only for personal purposes\n",
    "* seller_name - name of the seller\n",
    "* seller_rating - seller's rating\n",
    "* driver_rating - car rating given by drivers\n",
    "* driver_reviews_num - the number of car reviews left by drivers\n",
    "* price_drop - price reduction from the initial price\n",
    "* price - car price"
   ]
  },
  {
   "cell_type": "markdown",
   "metadata": {},
   "source": [
    "<a id=\"2\"></a>\n",
    "<font color = 'blue'> \n",
    "## **2. Importing Libraries**"
   ]
  },
  {
   "cell_type": "code",
   "execution_count": null,
   "metadata": {},
   "outputs": [],
   "source": [
    "import statsmodels.api as sm\n",
    "import numpy as np\n",
    "import pandas as pd\n",
    "\n",
    "# Plot\n",
    "import matplotlib.pyplot as plt \n",
    "from matplotlib.pyplot import subplots\n",
    "\n",
    "#feature selection\n",
    "from sklearn.feature_selection import SequentialFeatureSelector\n",
    "from sklearn.linear_model import Lasso\n",
    "\n",
    "#Metrics:\n",
    "from sklearn.metrics import mean_absolute_error, mean_squared_error, r2_score\n",
    "\n",
    "#Linear Regression\n",
    "from sklearn.linear_model import LinearRegression\n",
    "from sklearn.preprocessing import PolynomialFeatures\n",
    "import sklearn.model_selection as skm\n",
    "\n",
    "#tree\n",
    "from sklearn.tree import DecisionTreeRegressor,plot_tree ,export_text\n",
    "from sklearn.ensemble import RandomForestRegressor, GradientBoostingRegressor\n",
    "\n",
    "#SVM\n",
    "from sklearn.svm import SVR\n",
    "\n",
    "#preprocessing\n",
    "from sklearn.preprocessing import StandardScaler, LabelEncoder \n",
    "\n",
    "#searborn\n",
    "import seaborn as sns\n",
    "\n",
    "#splitting dataset into train and test data\n",
    "from sklearn.model_selection import train_test_split"
   ]
  },
  {
   "cell_type": "markdown",
   "metadata": {},
   "source": [
    "<a id=\"3\"></a>\n",
    "<font color = 'blue'> \n",
    "## **3. Loading Data**"
   ]
  },
  {
   "cell_type": "code",
   "execution_count": null,
   "metadata": {},
   "outputs": [],
   "source": [
    "from zipfile import ZipFile\n",
    "with ZipFile('data/cars.csv.zip', 'r') as zip_ref:\n",
    "    zip_ref.extractall('data')\n",
    "df = pd.read_csv('data/cars.csv')"
   ]
  },
  {
   "cell_type": "markdown",
   "metadata": {},
   "source": [
    "<a id=\"4\"></a>\n",
    "<font color = 'blue'> \n",
    "## **4. Data Preprocessing**"
   ]
  },
  {
   "cell_type": "code",
   "execution_count": null,
   "metadata": {},
   "outputs": [],
   "source": [
    "# Sample data\n",
    "df = pd.DataFrame(df)\n",
    "\n",
    "# Use str.extract to create new columns\n",
    "df[['Engine Displacement (L)', 'Engine Type', 'Engine Features']] = df['engine'].str.extract(r'(\\d+\\.\\d+)L\\s([A-Z0-9]+)\\s(.+)$')\n",
    "\n",
    "# Drop the original 'engine' column if you no longer need it\n",
    "df = df.drop(columns=['engine'])\n",
    "\n",
    "# Print the DataFrame\n",
    "df"
   ]
  },
  {
   "cell_type": "markdown",
   "metadata": {},
   "source": [
    "##### Before handling data\n",
    "* Show the frequency for each column. This will initially show us the outliers"
   ]
  },
  {
   "cell_type": "code",
   "execution_count": null,
   "metadata": {},
   "outputs": [],
   "source": [
    "for feature in df.columns.tolist():\n",
    "    print(f\"{df[feature].value_counts()}, \\n\")"
   ]
  },
  {
   "cell_type": "markdown",
   "metadata": {},
   "source": [
    "<a id=\"5\"></a>\n",
    "<font color = 'blue'> \n",
    "## **5. Exploratory Data Analysis (EDA)**"
   ]
  },
  {
   "cell_type": "markdown",
   "metadata": {},
   "source": [
    "<a id=\"51\"></a>\n",
    "<font color = 'blue'> \n",
    "### ***1. Filtering data***\n"
   ]
  },
  {
   "cell_type": "markdown",
   "metadata": {},
   "source": [
    "* #### Handle Missing value\n",
    "   * Price Column - Target"
   ]
  },
  {
   "cell_type": "code",
   "execution_count": null,
   "metadata": {},
   "outputs": [],
   "source": [
    "# before shrinkage\n",
    "mean_prices_by_year = df.groupby('year')['price'].mean().reset_index()\n",
    "\n",
    "plt.figure(figsize=(10, 6))\n",
    "plt.plot(mean_prices_by_year['year'], mean_prices_by_year['price'], marker='o', linestyle='-')\n",
    "plt.title('Average Price by year (before shrinking the range)')\n",
    "plt.xlabel('year')\n",
    "plt.ylabel('Average Price')\n",
    "plt.grid(True)\n",
    "plt.show()"
   ]
  },
  {
   "cell_type": "markdown",
   "metadata": {},
   "source": [
    "<div class=\"alert alert-block alert-info\">\n",
    "<b>Problem:</b>\n",
    "The original dataset has the abnormal Average Price in year 2009. So, we shrink the Price in the range (0,200000). This could a way to handle outliers. \n",
    "</div>\n",
    "\n"
   ]
  },
  {
   "cell_type": "code",
   "execution_count": null,
   "metadata": {},
   "outputs": [],
   "source": [
    "df=df[df['price'].between(0,200000)]"
   ]
  },
  {
   "cell_type": "code",
   "execution_count": null,
   "metadata": {},
   "outputs": [],
   "source": [
    "\n",
    "# Group by the 'year' column and calculate the Average Price for each year\n",
    "yearly_mean_prices = df.groupby('year')['price'].mean()\n",
    "\n",
    "# Fill NaN values in the 'price' column with the Average Price of their respective year\n",
    "df['price'].fillna(df['year'].map(yearly_mean_prices), inplace=True)\n"
   ]
  },
  {
   "cell_type": "code",
   "execution_count": null,
   "metadata": {},
   "outputs": [],
   "source": [
    "mean_prices_by_year = df.groupby('year')['price'].mean().reset_index()\n",
    "\n",
    "plt.figure(figsize=(10, 6))\n",
    "plt.plot(mean_prices_by_year['year'], mean_prices_by_year['price'], marker='o', linestyle='-')\n",
    "plt.title('Average Price by year (after shrinking the range)')\n",
    "plt.xlabel('year')\n",
    "plt.ylabel('Average Price')\n",
    "plt.grid(True)\n",
    "plt.show()"
   ]
  },
  {
   "cell_type": "markdown",
   "metadata": {},
   "source": [
    "* #### Mapping from long form to abbreviation\n"
   ]
  },
  {
   "cell_type": "markdown",
   "metadata": {},
   "source": [
    "* Drivetrain"
   ]
  },
  {
   "cell_type": "code",
   "execution_count": null,
   "metadata": {},
   "outputs": [],
   "source": [
    "df = pd.DataFrame(df)\n",
    "\n",
    "# Create a mapping from long form to abbreviation\n",
    "drivetrain_mapping = {\n",
    "    'All-wheel Drive': 'AWD',\n",
    "    'Front-wheel Drive': 'FWD',\n",
    "    'Four-wheel Drive': '4WD',\n",
    "    'Rear-wheel Drive': 'RWD'\n",
    "}\n",
    "\n",
    "# Use the replace method to update the drivetrain column\n",
    "df['drivetrain'] = df['drivetrain'].replace(drivetrain_mapping)"
   ]
  },
  {
   "cell_type": "markdown",
   "metadata": {},
   "source": [
    "* fuel_type"
   ]
  },
  {
   "cell_type": "code",
   "execution_count": null,
   "metadata": {},
   "outputs": [],
   "source": [
    "df = pd.DataFrame(df)\n",
    "# Create a dictionary for mapping\n",
    "drivetrain_mapping = {\n",
    "    'Gasoline Fuel': 'Gasoline',\n",
    "    'Gas': 'Gasoline',\n",
    "    'Plug-In Hybrid': 'Hybrid',\n",
    "    'Hybrid Fuel': 'Hybrid',\n",
    "    'Gas/Electric Hybrid': 'Hybrid',\n",
    "    'Gasoline/Mild Electric Hybrid': 'Hybrid',\n",
    "    'Diesel Fuel': 'Diesel',\n",
    "    'Rear-wheel Drive': 'Electric',\n",
    "    'E85 Flex Fuel': 'Flex Fuel',\n",
    "    'Flex Fuel Capability': 'Flex Fuel'\n",
    "}\n",
    "\n",
    "# Use the replace method to update the drivetrain column\n",
    "df['fuel_type'] = df['fuel_type'].replace(drivetrain_mapping)"
   ]
  },
  {
   "cell_type": "markdown",
   "metadata": {},
   "source": [
    "* #### Splitting `MPG` column into two separate columns"
   ]
  },
  {
   "cell_type": "code",
   "execution_count": null,
   "metadata": {},
   "outputs": [],
   "source": [
    "df['mpg'].fillna('0-0', inplace=True)"
   ]
  },
  {
   "cell_type": "code",
   "execution_count": null,
   "metadata": {},
   "outputs": [],
   "source": [
    "# Split the \"MPG Range\" into two columns\n",
    "df[['City MPG', 'Highway MPG']] = df['mpg'].str.split('-', expand=True)"
   ]
  },
  {
   "cell_type": "code",
   "execution_count": null,
   "metadata": {},
   "outputs": [],
   "source": [
    "# Custom function to convert elements to int or replace with zero\n",
    "def convert_to_int_or_zero(value):\n",
    "    if isinstance(value, str):\n",
    "        # Remove non-numeric characters and try to convert to int\n",
    "        numeric_value = ''.join(filter(str.isdigit, value))\n",
    "        if numeric_value:\n",
    "            return int(numeric_value)\n",
    "    return 0\n",
    "\n",
    "# Apply the custom function to 'City MPG' and 'Highway MPG' columns\n",
    "df['City MPG'] = df['City MPG'].apply(convert_to_int_or_zero)\n",
    "df['Highway MPG'] = df['Highway MPG'].apply(convert_to_int_or_zero)"
   ]
  },
  {
   "cell_type": "code",
   "execution_count": null,
   "metadata": {},
   "outputs": [],
   "source": [
    "# Replace \"N/A\" values with NaN\n",
    "df['City MPG'] .replace(0, np.nan, inplace=True)\n",
    "df['Highway MPG'].replace(0, np.nan, inplace=True)"
   ]
  },
  {
   "cell_type": "code",
   "execution_count": null,
   "metadata": {},
   "outputs": [],
   "source": [
    "df= df.drop('mpg', axis=1)"
   ]
  },
  {
   "cell_type": "code",
   "execution_count": null,
   "metadata": {},
   "outputs": [],
   "source": [
    "df.isnull().sum()"
   ]
  },
  {
   "cell_type": "code",
   "execution_count": null,
   "metadata": {},
   "outputs": [],
   "source": [
    "def create_mpg_histogram(df, str):\n",
    "    plt.figure(figsize=(12, 6))\n",
    "\n",
    "    plt.subplot(1, 2, 1)\n",
    "    plt.hist(df['City MPG'], bins=20, color='skyblue', edgecolor='black')\n",
    "    plt.title('City MPG Histogram '+str+' Replacing NAN')\n",
    "    plt.xlabel('City MPG')\n",
    "    plt.ylabel('Frequency')\n",
    "\n",
    "    plt.subplot(1, 2, 2)\n",
    "    plt.hist(df['Highway MPG'], bins=20, color='lightcoral', edgecolor='black')\n",
    "    plt.title('Highway MPG Histogram '+str+' Replacing NAN')\n",
    "    plt.xlabel('Highway MPG')\n",
    "    plt.ylabel('Frequency')\n",
    "\n",
    "    plt.tight_layout()\n",
    "\n",
    "    # Show the histograms\n",
    "    plt.show()\n",
    "    \n",
    "create_mpg_histogram(df, 'Before')"
   ]
  },
  {
   "cell_type": "markdown",
   "metadata": {},
   "source": [
    "* #### **Replace `NAN` in '`City MPG`' and '`Highway MPG`' by the `Mean` of each column**"
   ]
  },
  {
   "cell_type": "code",
   "execution_count": null,
   "metadata": {},
   "outputs": [],
   "source": [
    "df['City MPG'] .replace(np.nan,df['City MPG'].mean(), inplace=True)\n",
    "df['Highway MPG'].replace(np.nan,df['Highway MPG'].mean(), inplace=True)"
   ]
  },
  {
   "cell_type": "code",
   "execution_count": null,
   "metadata": {},
   "outputs": [],
   "source": [
    "create_mpg_histogram(df, 'After')"
   ]
  },
  {
   "cell_type": "code",
   "execution_count": null,
   "metadata": {},
   "outputs": [],
   "source": [
    "df= df.drop('price_drop', axis=1)       #Drop this column since it does not provide useful information and has a lot of null values."
   ]
  },
  {
   "cell_type": "markdown",
   "metadata": {},
   "source": [
    "* #### **Handling `NAN` in `seller_rating`**"
   ]
  },
  {
   "cell_type": "code",
   "execution_count": null,
   "metadata": {},
   "outputs": [],
   "source": [
    "\n",
    "def create_seller_rating_histograms(df, str):\n",
    "    plt.figure(figsize=(12, 6))\n",
    "\n",
    "    plt.subplot(1, 2, 1)\n",
    "    plt.hist(df['seller_rating'], bins=20, color='skyblue', edgecolor='black')\n",
    "    plt.title('seller_rating Histogram '+str+' Replacing NAN')\n",
    "    plt.xlabel('seller_rating')\n",
    "    plt.ylabel('Frequency')\n",
    "    plt.tight_layout()\n",
    "\n",
    "    # Show the histograms\n",
    "    plt.show()\n",
    "    \n",
    "create_seller_rating_histograms(df, 'Before')"
   ]
  },
  {
   "cell_type": "code",
   "execution_count": null,
   "metadata": {},
   "outputs": [],
   "source": [
    "df['seller_rating'].replace(np.nan,df['seller_rating'].mean(), inplace=True)"
   ]
  },
  {
   "cell_type": "code",
   "execution_count": null,
   "metadata": {},
   "outputs": [],
   "source": [
    "create_seller_rating_histograms(df, 'After')"
   ]
  },
  {
   "cell_type": "code",
   "execution_count": null,
   "metadata": {},
   "outputs": [],
   "source": [
    "df.dropna()"
   ]
  },
  {
   "cell_type": "code",
   "execution_count": null,
   "metadata": {},
   "outputs": [],
   "source": [
    "df.isnull().sum() # Checking null values on each column"
   ]
  },
  {
   "cell_type": "code",
   "execution_count": null,
   "metadata": {},
   "outputs": [],
   "source": [
    "# Use value_counts to count the frequency of each Engine Type\n",
    "engine_type_counts = df['Engine Features'].value_counts()\n",
    "\n",
    "# Get the top 20 values with the highest frequency\n",
    "top_20_engine_types = engine_type_counts.head(40)\n",
    "\n",
    "# Print the top 20 values and their frequencies\n",
    "print(top_20_engine_types)"
   ]
  },
  {
   "cell_type": "code",
   "execution_count": null,
   "metadata": {},
   "outputs": [],
   "source": [
    "df.isnull().sum()"
   ]
  },
  {
   "cell_type": "markdown",
   "metadata": {},
   "source": [
    "We still have a lot of null value"
   ]
  },
  {
   "cell_type": "code",
   "execution_count": null,
   "metadata": {},
   "outputs": [],
   "source": [
    "df.shape"
   ]
  },
  {
   "cell_type": "markdown",
   "metadata": {},
   "source": [
    "* #### ...after filtering data"
   ]
  },
  {
   "cell_type": "code",
   "execution_count": null,
   "metadata": {},
   "outputs": [],
   "source": [
    "for feature in df.columns.tolist():\n",
    "    print(f\"{df[feature].value_counts()}, \\n\")"
   ]
  },
  {
   "cell_type": "code",
   "execution_count": null,
   "metadata": {},
   "outputs": [],
   "source": [
    "df.info() #shows a summary of our dataset"
   ]
  },
  {
   "cell_type": "markdown",
   "metadata": {},
   "source": [
    "* Check and drop **Null** values"
   ]
  },
  {
   "cell_type": "code",
   "execution_count": null,
   "metadata": {},
   "outputs": [],
   "source": [
    "df.isnull().sum()"
   ]
  },
  {
   "cell_type": "markdown",
   "metadata": {},
   "source": [
    "There is null value in **fuel_consumption_g_km** column. So, we need to drop these before using it"
   ]
  },
  {
   "cell_type": "code",
   "execution_count": null,
   "metadata": {},
   "outputs": [],
   "source": [
    "df=df.dropna().reset_index(drop=True)"
   ]
  },
  {
   "cell_type": "markdown",
   "metadata": {},
   "source": [
    "* Check and drop duplicates:"
   ]
  },
  {
   "cell_type": "code",
   "execution_count": null,
   "metadata": {},
   "outputs": [],
   "source": [
    "df=df.drop_duplicates()"
   ]
  },
  {
   "cell_type": "markdown",
   "metadata": {},
   "source": [
    "The data set after cleaning up"
   ]
  },
  {
   "cell_type": "code",
   "execution_count": null,
   "metadata": {},
   "outputs": [],
   "source": [
    "df.shape"
   ]
  },
  {
   "cell_type": "markdown",
   "metadata": {},
   "source": [
    "* Counting the data for each feature:"
   ]
  },
  {
   "cell_type": "markdown",
   "metadata": {},
   "source": [
    "We can observe the presence of outliers, and the data spans a wide range."
   ]
  },
  {
   "cell_type": "markdown",
   "metadata": {},
   "source": [
    "<a id=\"52\"></a>\n",
    "<font color = 'blue'> \n",
    "### **2. Detecting outliers**\n",
    "* #### **For numerical columns**"
   ]
  },
  {
   "cell_type": "markdown",
   "metadata": {},
   "source": [
    "Getting numerical columns"
   ]
  },
  {
   "cell_type": "code",
   "execution_count": null,
   "metadata": {},
   "outputs": [],
   "source": [
    "numerical_cols = df.select_dtypes(include=['int64', 'float64']).columns.tolist()\n",
    "#numerical_cols.remove()\n",
    "num_columns=df[numerical_cols]"
   ]
  },
  {
   "cell_type": "code",
   "execution_count": null,
   "metadata": {},
   "outputs": [],
   "source": [
    "numerical_cols"
   ]
  },
  {
   "cell_type": "markdown",
   "metadata": {},
   "source": [
    "* Average Price by year with outliers"
   ]
  },
  {
   "cell_type": "markdown",
   "metadata": {},
   "source": [
    "<div class=\"alert alert-block alert-warning\">\n",
    "<b>Note:</b>  This method is just applied for <b>numerical features</b>. <br>\n",
    "There is no specific way to detect outlier for <b>categorical columns</b>. We can plot the Frequency vs Price for each categorical columns, and then decide the outliers depend on the frequency.\n",
    "</div>\n"
   ]
  },
  {
   "cell_type": "code",
   "execution_count": null,
   "metadata": {},
   "outputs": [],
   "source": [
    "mean_prices_by_year = df.groupby('year')['price'].mean().reset_index()\n",
    "\n",
    "plt.figure(figsize=(10, 6))\n",
    "plt.plot(mean_prices_by_year['year'], mean_prices_by_year['price'], marker='o', linestyle='-')\n",
    "plt.title('Average Price by year (before removed outliers)')\n",
    "plt.xlabel('year')\n",
    "plt.ylabel('Average Price')\n",
    "plt.grid(True)\n",
    "plt.show()"
   ]
  },
  {
   "cell_type": "markdown",
   "metadata": {},
   "source": [
    "We can see that in 2009, the price was so abnormal "
   ]
  },
  {
   "cell_type": "code",
   "execution_count": null,
   "metadata": {},
   "outputs": [],
   "source": [
    "Q1 = num_columns[numerical_cols].quantile(0.25)\n",
    "Q3 = num_columns[numerical_cols].quantile(0.75)\n",
    "IQR = Q3 - Q1\n",
    "\n",
    "# Define the lower and upper bounds for outliers\n",
    "lower_bound = Q1 - 1.5 * IQR\n",
    "upper_bound = Q3 + 1.5 * IQR\n",
    "\n",
    "# Identify outliers and create a boolean mask\n",
    "outliers_mask = (num_columns[numerical_cols] < lower_bound) | (num_columns[numerical_cols] > upper_bound)\n",
    "\n",
    "# Drop the rows containing outliers\n",
    "num_columns = num_columns[~outliers_mask]"
   ]
  },
  {
   "cell_type": "code",
   "execution_count": null,
   "metadata": {},
   "outputs": [],
   "source": [
    "numerical_cols"
   ]
  },
  {
   "cell_type": "code",
   "execution_count": null,
   "metadata": {},
   "outputs": [],
   "source": [
    "num_columns.shape"
   ]
  },
  {
   "cell_type": "markdown",
   "metadata": {},
   "source": [
    "This is new numerical columns after removed the outliers"
   ]
  },
  {
   "cell_type": "code",
   "execution_count": null,
   "metadata": {},
   "outputs": [],
   "source": [
    "new_num_columns= num_columns.dropna() #drop the rows which are contain NAN \n",
    "new_num_columns.shape"
   ]
  },
  {
   "cell_type": "markdown",
   "metadata": {},
   "source": [
    "* Plot Average Price vs Years ((after removed outliers))\n"
   ]
  },
  {
   "cell_type": "code",
   "execution_count": null,
   "metadata": {},
   "outputs": [],
   "source": [
    "mean_prices_by_year = num_columns.groupby('year')['price'].mean().reset_index()\n",
    "\n",
    "plt.figure(figsize=(10, 6))\n",
    "plt.plot(mean_prices_by_year['year'], mean_prices_by_year['price'], marker='o', linestyle='-')\n",
    "plt.title('Average Price by year (after removed outliers)')\n",
    "plt.xlabel('year')\n",
    "plt.ylabel('Average Price')\n",
    "plt.grid(True)\n",
    "plt.show()"
   ]
  },
  {
   "cell_type": "markdown",
   "metadata": {},
   "source": [
    "<a id=\"\"></a>\n",
    "<font color = 'blue'>\n",
    "* ### **For categorical columns:**\n"
   ]
  },
  {
   "cell_type": "markdown",
   "metadata": {},
   "source": [
    "We need to plot them vs Price to see the pattern"
   ]
  },
  {
   "cell_type": "markdown",
   "metadata": {},
   "source": [
    "* Drop 'model', 'seller_name'"
   ]
  },
  {
   "cell_type": "code",
   "execution_count": null,
   "metadata": {},
   "outputs": [],
   "source": [
    "df=df.drop(['model', 'seller_name'], axis=1)"
   ]
  },
  {
   "cell_type": "code",
   "execution_count": null,
   "metadata": {},
   "outputs": [],
   "source": [
    "cat_columns= df.select_dtypes(include=['object']).columns.tolist()\n",
    "#these are the columns that we need to plot to detect the outliers"
   ]
  },
  {
   "cell_type": "code",
   "execution_count": null,
   "metadata": {},
   "outputs": [],
   "source": [
    "df = df.loc[~df['transmission'].isin(['Unknown', 'Semi-automatic'])]"
   ]
  },
  {
   "cell_type": "code",
   "execution_count": null,
   "metadata": {},
   "outputs": [],
   "source": [
    "def plot_categorical_feature(cat_columns,df):\n",
    "    fig = plt.figure(figsize=(6, 6 * len(cat_columns)))\n",
    "\n",
    "    for j, cat_feature in enumerate(cat_columns):\n",
    "        ax = fig.add_subplot(len(cat_columns), 1, j+1)\n",
    "        df[cat_feature].value_counts().plot(ax=ax, kind='bar')\n",
    "        ax.set_xlabel(cat_feature)\n",
    "        ax.set_ylabel('Frequency')\n",
    "        ax.set_title(cat_feature)\n",
    "\n",
    "    plt.tight_layout()\n",
    "    plt.show()\n",
    "# plot categorical features to detect and remove outliers\n",
    "plot_categorical_feature(cat_columns,df)"
   ]
  },
  {
   "cell_type": "code",
   "execution_count": null,
   "metadata": {},
   "outputs": [],
   "source": [
    "df.shape"
   ]
  },
  {
   "cell_type": "markdown",
   "metadata": {},
   "source": [
    "* `Drivetrain`"
   ]
  },
  {
   "cell_type": "code",
   "execution_count": null,
   "metadata": {},
   "outputs": [],
   "source": [
    "df = df[df['drivetrain'].isin(['FWD', 'AWD', '4WD', 'RWD'])]"
   ]
  },
  {
   "cell_type": "markdown",
   "metadata": {},
   "source": [
    "* `Fuel_type`"
   ]
  },
  {
   "cell_type": "code",
   "execution_count": null,
   "metadata": {},
   "outputs": [],
   "source": [
    "df = df[~df['fuel_type'].isin(['Compressed Natural Gas', 'Bio Diesel', 'Automatic'   ])]"
   ]
  },
  {
   "cell_type": "markdown",
   "metadata": {},
   "source": [
    "* We just keep top 20 classes which are the most common in `exterior_color`, `interior_color`"
   ]
  },
  {
   "cell_type": "code",
   "execution_count": null,
   "metadata": {},
   "outputs": [],
   "source": [
    "value_counts = df['exterior_color'].value_counts()\n",
    "# Get the top 20 most frequent classes\n",
    "top_20_classes = value_counts.index[:20]\n",
    "# Filter the DataFrame to keep rows in the top 20 classes\n",
    "df = df[df['exterior_color'].isin(top_20_classes)]"
   ]
  },
  {
   "cell_type": "code",
   "execution_count": null,
   "metadata": {},
   "outputs": [],
   "source": [
    "value_counts = df['interior_color'].value_counts()\n",
    "# Get the top 20 most frequent classes\n",
    "top_20_classes = value_counts.index[:20]\n",
    "# Filter the DataFrame to keep rows in the top 20 classes\n",
    "df = df[df['interior_color'].isin(top_20_classes)]"
   ]
  },
  {
   "cell_type": "markdown",
   "metadata": {},
   "source": [
    "* `Engine Displacement (L)`"
   ]
  },
  {
   "cell_type": "code",
   "execution_count": null,
   "metadata": {},
   "outputs": [],
   "source": [
    "value_counts = df['Engine Displacement (L)'].value_counts()\n",
    "# Get the top 30 most frequent classes\n",
    "top_30_classes = value_counts.index[:30]\n",
    "# Filter the DataFrame to keep rows in the top 30 classes\n",
    "df = df[df['Engine Displacement (L)'].isin(top_30_classes)]"
   ]
  },
  {
   "cell_type": "markdown",
   "metadata": {},
   "source": [
    "* `Engine Type` (top 10)"
   ]
  },
  {
   "cell_type": "code",
   "execution_count": null,
   "metadata": {},
   "outputs": [],
   "source": [
    "value_counts = df['Engine Type'].value_counts()\n",
    "# Get the top 10 most frequent classes\n",
    "top_10_classes = value_counts.index[:10]\n",
    "# Filter the DataFrame to keep rows in the top 10 classes\n",
    "df = df[df['Engine Type'].isin(top_10_classes)]"
   ]
  },
  {
   "cell_type": "markdown",
   "metadata": {},
   "source": [
    "* `Engine Features`"
   ]
  },
  {
   "cell_type": "code",
   "execution_count": null,
   "metadata": {},
   "outputs": [],
   "source": [
    "value_counts = df['Engine Features'].value_counts()\n",
    "# Get the top 20 most frequent classes\n",
    "top_20_classes = value_counts.index[:20]\n",
    "# Filter the DataFrame to keep rows in the top 20 classes\n",
    "df = df[df['Engine Features'].isin(top_20_classes)]\n"
   ]
  },
  {
   "cell_type": "markdown",
   "metadata": {},
   "source": [
    "* We just keep top 20 classes which are the most popular in `Transmission`"
   ]
  },
  {
   "cell_type": "code",
   "execution_count": null,
   "metadata": {},
   "outputs": [],
   "source": [
    "# Get the value counts for the 'transmission' column\n",
    "value_counts = df['transmission'].value_counts()\n",
    "\n",
    "# Get the top 20 most frequent classes\n",
    "top_20_classes = value_counts.index[:20]\n",
    "\n",
    "# Filter the DataFrame to keep rows with 'transmission' in the top 20 classes\n",
    "df = df[df['transmission'].isin(top_20_classes)]\n"
   ]
  },
  {
   "cell_type": "code",
   "execution_count": null,
   "metadata": {},
   "outputs": [],
   "source": [
    "# Plot after cleaning data\n",
    "plot_categorical_feature(cat_columns,df)"
   ]
  },
  {
   "cell_type": "code",
   "execution_count": null,
   "metadata": {},
   "outputs": [],
   "source": [
    "df.reset_index(drop=True)"
   ]
  },
  {
   "cell_type": "code",
   "execution_count": null,
   "metadata": {},
   "outputs": [],
   "source": [
    "df.info()"
   ]
  },
  {
   "cell_type": "code",
   "execution_count": null,
   "metadata": {},
   "outputs": [],
   "source": [
    "new_num_columns"
   ]
  },
  {
   "cell_type": "code",
   "execution_count": null,
   "metadata": {},
   "outputs": [],
   "source": [
    "cat_data =df.select_dtypes(include=['object'])"
   ]
  },
  {
   "cell_type": "code",
   "execution_count": null,
   "metadata": {},
   "outputs": [],
   "source": [
    "cleaned_df = pd.concat([new_num_columns, cat_data], axis=1)"
   ]
  },
  {
   "cell_type": "code",
   "execution_count": null,
   "metadata": {},
   "outputs": [],
   "source": [
    "cleaned_df= cleaned_df.dropna().reset_index(drop=True)"
   ]
  },
  {
   "cell_type": "code",
<<<<<<< HEAD
   "execution_count": 126,
=======
   "execution_count": null,
>>>>>>> aac14290eba6e0725b1ed61c1e0982e727a6ff88
   "metadata": {},
<<<<<<< HEAD
   "outputs": [
    {
     "data": {
      "image/png": "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",
      "text/plain": [
       "<Figure size 1000x600 with 1 Axes>"
      ]
     },
     "metadata": {},
     "output_type": "display_data"
    }
   ],
=======
   "outputs": [],
>>>>>>> aac14290eba6e0725b1ed61c1e0982e727a6ff88
   "source": [
    "def plot_year_vs_price(df):\n",
    "    mean_prices_by_year = df.groupby('year')['price'].mean().reset_index()\n",
    "\n",
    "    plt.figure(figsize=(10, 6))\n",
    "    plt.plot(mean_prices_by_year['year'], mean_prices_by_year['price'], marker='o', linestyle='-')\n",
    "    plt.title('Average Price by year (after shrinking the range)')\n",
    "    plt.xlabel('year')\n",
    "    plt.ylabel('Average Price')\n",
    "    plt.grid(True)\n",
    "    plt.show()\n",
    "\n",
    "plot_year_vs_price(cleaned_df)"
   ]
  },
  {
   "cell_type": "markdown",
   "metadata": {},
   "source": [
    "<a id=\"53\"></a>\n",
    "<font color = 'blue'>\n",
    "### **3. Labeling Encode**"
   ]
  },
  {
   "cell_type": "code",
   "execution_count": null,
   "metadata": {},
   "outputs": [],
   "source": [
    "cat_columns= cleaned_df.select_dtypes(include=['object']).columns.tolist()\n",
    "# Create a LabelEncoder instance\n",
    "label_encoder = LabelEncoder()\n",
    "\n",
    "# Encode each categorical column\n",
    "for col in cat_columns:\n",
    "    cleaned_df[col] = label_encoder.fit_transform(cleaned_df[col])\n",
    "\n",
    "# Your DataFrame now contains the encoded values\n",
    "cleaned_df"
   ]
  },
  {
   "cell_type": "code",
   "execution_count": null,
   "metadata": {},
   "outputs": [],
   "source": [
    "cleaned_df.isnull().sum()"
   ]
  },
  {
   "cell_type": "code",
   "execution_count": null,
   "metadata": {},
   "outputs": [],
   "source": [
    "cleaned_df['accidents_or_damage'].value_counts()"
   ]
  },
  {
   "cell_type": "code",
   "execution_count": null,
   "metadata": {},
   "outputs": [],
   "source": [
    "cleaned_df=cleaned_df.drop(['accidents_or_damage'], axis=1)"
   ]
  },
  {
   "cell_type": "code",
   "execution_count": null,
   "metadata": {},
   "outputs": [],
   "source": [
    "df.shape"
   ]
  },
  {
   "cell_type": "markdown",
   "metadata": {},
   "source": [
    "<a id=\"54\"></a>\n",
    "<font color = 'blue'>\n",
    "### **4. Correlation Matrix**"
   ]
  },
  {
   "cell_type": "markdown",
   "metadata": {},
   "source": [
    "The **`correlation matrix`** shows us the correlation coefficients between variables. \n",
    "* If the correlation coefficient is close to 1, it appears a strong positive relationship. That means, if one variable increases, the other tends to increase as well.\n",
    "* If the correlation coefficient is close to -1, it appears a strong negative relationship. That means, if one variable decreases, the other tends to decrease as well.\n",
    "* If the correlation coefficient is close to 0, it appears a weak or no linear relationship between two variables."
   ]
  },
  {
   "cell_type": "code",
   "execution_count": null,
   "metadata": {},
   "outputs": [],
   "source": [
    "def heat_map(data, var):\n",
    "    # Calculate the correlation matrix\n",
    "    correlation_matrix = data.corr()\n",
    "\n",
    "    # Create a figure with a specific size\n",
    "    plt.figure(figsize=(len(var) * 2, len(var) * 1.5))\n",
    "\n",
    "    # Create a mask for the upper triangle to focus on the center\n",
    "    mask = np.triu(np.ones_like(correlation_matrix), k=0)\n",
    "\n",
    "    # Customize the color scale (cmap) to emphasize the center\n",
    "    cmap = sns.diverging_palette(220, 10, as_cmap=True)\n",
    "\n",
    "    # Increase the font size for annotations\n",
    "    sns.heatmap(correlation_matrix, annot=True, cmap=cmap, mask=mask,  vmin=-1, vmax=1, fmt=\".2f\", annot_kws={\"size\": 14})\n",
    "    plt.title('Correlation Heatmap')\n",
    "\n",
    "    plt.show()\n",
    "heat_map(cleaned_df, cleaned_df.columns.tolist())"
   ]
  },
  {
   "cell_type": "markdown",
   "metadata": {},
   "source": [
    "<div class=\"alert alert-block alert-info\"> <b>Tip:</b> We can see there are some correlated features. We need to select the useful feature carefully to get optimize our model as much as possible </div>"
   ]
  },
  {
   "cell_type": "markdown",
   "metadata": {},
   "source": [
    "Our target is `Price`, which is strong relationship to many features. However, the variables outside our target exhibit multicollinearity, such as: City MPG - Highway MPG, year-one owner, and Engine features-Engine Type, Engine Displacement(L), Engine Type, City, Highway MPG, etc."
   ]
  },
  {
   "cell_type": "markdown",
   "metadata": {},
   "source": [
    "We can also use **`variance_inflation_factor`** to diagnose the multicollinearity. Typically, a high VIF value (usually greater than 10) is an indicator of significant multicollinearity. It means that the variance of the coefficient estimate for that variable is 10 times larger than it would be if there were no multicollinearity. "
   ]
  },
  {
   "cell_type": "code",
   "execution_count": null,
   "metadata": {},
   "outputs": [],
   "source": [
    "# Import library for VIF\n",
    "from statsmodels.stats.outliers_influence import variance_inflation_factor\n",
    "\n",
    "def calc_vif(x):\n",
    "    vif = pd.DataFrame()\n",
    "    vif[\"variables\"] = x.columns\n",
    "    vif[\"VIF\"] = [variance_inflation_factor(x.values, i) for i in range(x.shape[1])]\n",
    "    return vif"
   ]
  },
  {
   "cell_type": "markdown",
   "metadata": {},
   "source": [
    "So, let's  drop some features: "
   ]
  },
  {
   "cell_type": "code",
   "execution_count": null,
   "metadata": {},
   "outputs": [],
   "source": [
    "df2=cleaned_df.drop(['Engine Type', 'Engine Features','City MPG','interior_color', 'personal_use_only', 'driver_rating','seller_rating'], axis =1)\n",
    "df2"
   ]
  },
  {
   "cell_type": "code",
   "execution_count": null,
   "metadata": {},
   "outputs": [],
   "source": [
    "heat_map(df2, cleaned_df.columns.tolist())"
   ]
  },
  {
   "cell_type": "code",
   "execution_count": null,
   "metadata": {},
   "outputs": [],
   "source": [
    "calc_vif(df2.drop('price', axis=1))"
   ]
  },
  {
   "cell_type": "markdown",
   "metadata": {},
   "source": [
    "These are the important features that we will use to fit our models:\n",
    "**year,\n",
    "mileage\t,\n",
    "one_owner\t,\n",
    "driver_reviews_num,\t\n",
    "Highway MPG\t,\n",
    "manufacturer,\t\n",
    "transmission,\t\n",
    "drivetrain,\t\n",
    "fuel_type,\t\n",
    "exterior_color,\t\n",
    "Engine Displacement (L),** in dataframe `df2`"
   ]
  },
  {
   "cell_type": "markdown",
   "metadata": {},
   "source": [
    "<a id=\"6\"></a>\n",
    "<font color = 'blue'>\n",
    "## **6. Data Splitting**\n"
   ]
  },
  {
   "cell_type": "code",
   "execution_count": null,
   "metadata": {},
   "outputs": [],
   "source": [
    "X = df2.drop('price', axis =1)\n",
    "Y= df2['price']"
   ]
  },
  {
   "cell_type": "code",
   "execution_count": null,
   "metadata": {},
   "outputs": [],
   "source": [
    "random_state=0"
   ]
  },
  {
   "cell_type": "code",
   "execution_count": null,
   "metadata": {},
   "outputs": [],
   "source": [
    "X_train, X_test, y_train, y_test = train_test_split(X, Y, test_size=0.3, random_state=random_state)"
   ]
  },
  {
   "cell_type": "code",
   "execution_count": null,
   "metadata": {},
   "outputs": [],
   "source": [
    "print(X_train.shape, X_test.shape, y_train.shape, y_test.shape)"
   ]
  },
  {
   "cell_type": "markdown",
   "metadata": {},
   "source": [
    "<a id=\"7\"></a>\n",
    "<font color = 'blue'>\n",
    "## **7. Models Evaluations and Predictions**\n",
    "   "
   ]
  },
  {
   "cell_type": "markdown",
   "metadata": {},
   "source": [
    "<a id=\"71\"></a>\n",
    "<font color = 'blue'>\n",
    "### **7.1 Multiple Linear Regression**\n",
    "   "
   ]
  },
  {
   "cell_type": "markdown",
   "metadata": {},
   "source": [
    "<a id=\"711\"></a>\n",
    "<font color = 'blue'>\n",
    "* #### **7.1.1. Using Sequential Feature Selection for the Linear Regression**\n",
    "      "
   ]
  },
  {
   "cell_type": "markdown",
   "metadata": {},
   "source": [
    "Let's try the **Sequential Feature Selection** method to choose 10-15 significant variables for our model.\n",
    "\n",
    "Learn more: [Sequential Feature Selection](https://scikit-learn.org/stable/modules/feature_selection.html#removing-features-with-low-variance) (Forward/ Backward)\n"
   ]
  },
  {
   "cell_type": "code",
   "execution_count": null,
   "metadata": {},
   "outputs": [],
   "source": [
    "lasso_reg=Lasso(fit_intercept= True, random_state = random_state)\n",
    "sfs = SequentialFeatureSelector(lasso_reg, direction ='forward',  n_features_to_select=8).fit(X_train, y_train)"
   ]
  },
  {
   "cell_type": "code",
   "execution_count": null,
   "metadata": {},
   "outputs": [],
   "source": [
    "best_features=sfs.get_feature_names_out()\n",
    "best_features"
   ]
  },
  {
   "cell_type": "code",
   "execution_count": null,
   "metadata": {},
   "outputs": [],
   "source": [
    "heat_map(df2, best_features)"
   ]
  },
  {
   "cell_type": "markdown",
   "metadata": {},
   "source": [
    "**We will use these features to fit our models**"
   ]
  },
  {
   "cell_type": "code",
   "execution_count": null,
   "metadata": {},
   "outputs": [],
   "source": [
    "metrics_df = pd.DataFrame(columns=['Model', 'MAE', 'MSE', 'R2']) # these metrics are used to evaluate our models"
   ]
  },
  {
   "cell_type": "code",
   "execution_count": null,
   "metadata": {},
   "outputs": [],
   "source": [
    "X_train=X_train[best_features]\n",
    "X_test=X_test[best_features]"
   ]
  },
  {
   "cell_type": "code",
   "execution_count": null,
   "metadata": {},
   "outputs": [],
   "source": [
    "LR = LinearRegression(fit_intercept=True)\n",
    "LR.fit(X_train, y_train)\n",
    "y_pred = LR.predict(X_test)"
   ]
  },
  {
   "cell_type": "code",
   "execution_count": null,
   "metadata": {},
   "outputs": [],
   "source": [
    "mae = mean_absolute_error(y_test, y_pred)\n",
    "mse = mean_squared_error(y_test, y_pred)\n",
    "r2 = r2_score(y_test, y_pred)\n",
    "\n",
    "print(\"Model 1 MAE:\", mae)\n",
    "print(\"Model 1 MSE:\", mse)\n",
    "print(\"Model 1 R2:\", r2)"
   ]
  },
  {
   "cell_type": "code",
   "execution_count": null,
   "metadata": {},
   "outputs": [],
   "source": [
    "# Add a constant term to your X_train (if not already included) for the intercept\n",
    "X_train1 = sm.add_constant(X_train)\n",
    "\n",
    "# Create a linear regression model\n",
    "model = sm.OLS(y_train, X_train1)\n",
    "\n",
    "# Fit the model\n",
    "results = model.fit()\n",
    "\n",
    "# Display the summary\n",
    "print(results.summary())"
   ]
  },
  {
   "cell_type": "code",
   "execution_count": null,
   "metadata": {},
   "outputs": [],
   "source": [
    "# Assuming you have already fitted your linear regression model and have predictions\n",
    "# Create a scatterplot of fitted values vs. residuals\n",
    "residuals = y_test - y_pred  # Calculate the residuals\n",
    "\n",
    "# Create a scatterplot\n",
    "plt.figure(figsize=(8, 6))\n",
    "plt.scatter(y_pred, residuals, alpha=0.5)\n",
    "plt.title('Residuals vs. Fitted Values')\n",
    "plt.xlabel('Fitted Values')\n",
    "plt.ylabel('Residuals')\n",
    "\n",
    "# Add a horizontal line at y=0 for reference\n",
    "plt.axhline(y=0, color='r', linestyle='--')\n",
    "\n",
    "plt.show()"
   ]
  },
  {
   "cell_type": "markdown",
   "metadata": {},
   "source": [
    "This indicates that there may be a **violation of the assumption of linearity** in our linear regression model. This pattern suggests that the relationship between the independent variables (**features**) and the dependent variable (`price`) is not adequately captured by a simple linear model.\n",
    "\n",
    "So, we need to try **polynomial regression**:"
   ]
  },
  {
   "cell_type": "code",
   "execution_count": null,
   "metadata": {},
   "outputs": [],
   "source": [
    "# TRAINING ERROR PER DEGREE\n",
    "train_rmse_errors = []\n",
    "# TEST ERROR PER DEGREE\n",
    "test_rmse_errors = []\n",
    "#MODEL and METRIC COLLECTION\n",
    "model_collection =[]\n",
    "mae_collection =[]\n",
    "mse_collection =[]\n",
    "r2_collection  =[]\n",
    "y_test_collection=[]\n",
    "\n",
    "for d in range(1,5):\n",
    "    # CREATE POLY DATA SET FOR DEGREE \"d\"\n",
    "    polynomial_converter = PolynomialFeatures(degree=d,include_bias=False)\n",
    "    poly_features = polynomial_converter.fit_transform(X)\n",
    "\n",
    "    # SPLIT THIS NEW POLY DATA SET\n",
    "    X_train1, X_test1, y_train1, y_test1 = train_test_split(poly_features, Y, test_size=0.3, random_state=random_state)\n",
    "\n",
    "    # TRAIN ON THIS NEW POLY SET\n",
    "    model = LinearRegression(fit_intercept=True)\n",
    "    model.fit(X_train1,y_train1)\n",
    "    model_collection.append(model)\n",
    "\n",
    "    # PREDICT ON BOTH TRAIN AND TEST\n",
    "    train_pred = model.predict(X_train1)\n",
    "    test_pred = model.predict(X_test1)\n",
    "    y_test_collection.append(test_pred)\n",
    "    \n",
    "    # Calculate Errors\n",
    "\n",
    "    # Errors on Train Set\n",
    "    train_RMSE = np.sqrt(mean_squared_error(y_train1,train_pred))\n",
    "\n",
    "    # Errors on Test Set\n",
    "    test_RMSE = np.sqrt(mean_squared_error(y_test1,test_pred))\n",
    "\n",
    "    # Append errors to lists for plotting later\n",
    "    mae_collection.append( mean_absolute_error(y_test1, test_pred))\n",
    "    mse_collection.append( mean_squared_error(y_test1, test_pred))\n",
    "    r2_collection .append( r2_score(y_test1, test_pred))\n",
    "\n",
    "    train_rmse_errors.append(train_RMSE)\n",
    "    test_rmse_errors.append(test_RMSE)"
   ]
  },
  {
   "cell_type": "code",
   "execution_count": null,
   "metadata": {},
   "outputs": [],
   "source": [
    "# Plot the RMSE values for degrees 1, 2,3,4\n",
    "plt.plot(range(1, 5), train_rmse_errors[:5], label='TRAIN')\n",
    "plt.plot(range(1, 5), test_rmse_errors[:5], label='TEST')\n",
    "plt.xlabel(\"Polynomial Complexity\")\n",
    "plt.ylabel(\"RMSE\")\n",
    "plt.legend()\n",
    "plt.show()"
   ]
  },
  {
   "cell_type": "code",
   "execution_count": null,
   "metadata": {},
   "outputs": [],
   "source": [
    "print(model_collection)\n",
    "print(mae_collection )\n",
    "print(mse_collection )\n",
    "print(r2_collection  )"
   ]
  },
  {
   "cell_type": "markdown",
   "metadata": {},
   "source": [
    "We can see that the **polynomial degree 3** could be **the best** since the test error start overfitting at or after degree 4.\n",
    "So, let create and refit "
   ]
  },
  {
   "cell_type": "code",
   "execution_count": null,
   "metadata": {},
   "outputs": [],
   "source": [
    "best_degree_index = 3-1\n",
    "mae =mae_collection[best_degree_index]\n",
    "mse = mse_collection[best_degree_index]\n",
    "r2 =r2_collection[best_degree_index]\n",
    "\n",
    "print(\"The Polynomial Regression Model MAE:\", mae)\n",
    "print(\"Polynomial Regression Model MSE:\", mse)\n",
    "print(\"Polynomial Regression Model R2:\", r2)"
   ]
  },
  {
   "cell_type": "code",
   "execution_count": null,
   "metadata": {},
   "outputs": [],
   "source": [
    "# Append metrics to the DataFrame\n",
    "metrics_df = metrics_df.append({'Model': f'Degree {best_degree_index+1} Polynomial Regression', 'MAE': mae, 'MSE': mse, 'R2': r2}, ignore_index=True)\n",
    "metrics_df"
   ]
  },
  {
   "cell_type": "code",
   "execution_count": null,
   "metadata": {},
   "outputs": [],
   "source": [
    "y_pred=y_test_collection[best_degree_index]\n",
    "# Calculate the residuals\n",
    "residuals_poly = y_test1 - y_pred\n",
    "\n",
    "# Create a scatterplot of fitted values vs. residuals\n",
    "plt.figure(figsize=(8, 6))\n",
    "plt.scatter(test_pred, residuals_poly, alpha=0.5)\n",
    "plt.title('Residuals vs. Fitted Values (Polynomial Regression)')\n",
    "plt.xlabel('Fitted Values (Polynomial Regression)')\n",
    "plt.ylabel('Residuals')\n",
    "\n",
    "# Add a horizontal line at y=0 for reference\n",
    "plt.axhline(y=0, color='r', linestyle='--')\n",
    "\n",
    "plt.show()"
   ]
  },
  {
   "cell_type": "markdown",
   "metadata": {},
   "source": [
    "We can see that the plot does not appear a pattern. That means, there is a linear relationship among variables in polynomial regression."
   ]
  },
  {
   "cell_type": "code",
   "execution_count": null,
   "metadata": {},
   "outputs": [],
   "source": [
    "# Create a list of degrees for the x-axis (you can adjust this as needed)\n",
    "degrees = [1, 2, 3, 4]  \n",
    "\n",
    "# Create a figure with three subplots\n",
    "fig, (ax1, ax2, ax3) = plt.subplots(1, 3, figsize=(15, 5))\n",
    "\n",
    "# Create a scatter plot for MAE\n",
    "ax1.plot(degrees, mae_collection, label='MAE', marker='o', linestyle='-')\n",
    "ax1.set_xlabel(\"Polynomial Degree\")\n",
    "ax1.set_ylabel(\"MAE\")\n",
    "ax1.set_title(\"MAE vs. Polynomial Degree\")\n",
    "ax1.grid(True)\n",
    "\n",
    "# Create a scatter plot for MSE\n",
    "ax2.plot(degrees, mse_collection, label='MSE', marker='x', linestyle='-')\n",
    "ax2.set_xlabel(\"Polynomial Degree\")\n",
    "ax2.set_ylabel(\"MSE\")\n",
    "ax2.set_title(\"MSE vs. Polynomial Degree\")\n",
    "ax2.grid(True)\n",
    "\n",
    "# Create a scatter plot for R2\n",
    "ax3.plot(degrees, r2_collection, label='R2', marker='s', linestyle='-')\n",
    "ax3.set_xlabel(\"Polynomial Degree\")\n",
    "ax3.set_ylabel(\"R2\")\n",
    "ax3.set_title(\"R2 vs. Polynomial Degree\")\n",
    "ax3.grid(True)\n",
    "\n",
    "# Add a legend to one of the subplots\n",
    "ax1.legend()\n",
    "\n",
    "# Adjust spacing between subplots\n",
    "plt.tight_layout()\n",
    "\n",
    "# Show the plots\n",
    "plt.show()"
   ]
  },
  {
   "cell_type": "markdown",
   "metadata": {},
   "source": [
    "<a id=\"72\"></a>\n",
    "<font color = 'blue'>\n",
    "   ### **7.2 Decision Tree**\n",
    "   "
   ]
  },
  {
   "cell_type": "markdown",
   "metadata": {},
   "source": [
    "<a id=\"821\"></a>\n",
    "<font color = 'blue'>\n",
    "* #### **8.2.1. A Pruned Tree**: Pruning reduces the size of decision trees by removing parts of the tree that do not provide power to classify instances. Decision trees are the most susceptible out of all the machine learning algorithms to overfitting and effective pruning can reduce this likelihood.\n",
    "      "
   ]
  },
  {
   "cell_type": "code",
   "execution_count": null,
   "metadata": {},
   "outputs": [],
   "source": [
    "best_churn_tree = DecisionTreeRegressor(criterion='absolute_error',max_depth=4)\n",
    "best_churn_tree.fit(X_train, y_train)\n",
    "\n",
    "y_pred = best_churn_tree.predict(X_test)\n",
    "score = mean_absolute_error(y_test, y_pred)\n",
    "print(score)"
   ]
  },
  {
   "cell_type": "code",
   "execution_count": null,
   "metadata": {},
   "outputs": [],
   "source": [
    "ccp_path = best_churn_tree.cost_complexity_pruning_path(X_train, y_train)\n",
    "kfold = skm.KFold(5,random_state=0,shuffle=True)\n",
    "\n",
    "grid = skm.GridSearchCV(best_churn_tree,{'ccp_alpha': ccp_path.ccp_alphas},refit=True,cv=kfold, n_jobs=-1,scoring='neg_mean_absolute_error',return_train_score=True) \n",
    "grid.fit(X_train, y_train)\n",
    "print(f\"Best Cross-Validation Score: {grid.best_score_}\")"
   ]
  },
  {
   "cell_type": "code",
   "execution_count": null,
   "metadata": {},
   "outputs": [],
   "source": [
    "best_tree = grid.best_estimator_ \n",
    "print(best_tree)\n",
    "print(f\"Best Tree Depth: {best_tree.get_depth()}\")"
   ]
  },
  {
   "cell_type": "code",
   "execution_count": null,
   "metadata": {},
   "outputs": [],
   "source": [
    "# Plot the decision tree with clearer visualization\n",
    "plt.figure(figsize=(25, 20))  # Adjust the figure size\n",
    "\n",
    "plot_tree(\n",
    "    best_tree,\n",
    "    filled=True,  # Fill nodes with color\n",
    "    feature_names=X_train.columns,  # Provide feature names for labeling\n",
    "    fontsize=8,  # Adjust font size\n",
    ")\n",
    "\n",
    "plt.title(\"Car Price Prediction - Decision Tree\")\n",
    "plt.show()\n",
    "print(export_text(best_tree,feature_names=list(X_train.columns),show_weights=True))"
   ]
  },
  {
   "cell_type": "code",
   "execution_count": null,
   "metadata": {},
   "outputs": [],
   "source": [
    "y_pred=best_tree.predict(X_test)\n",
    "mae = mean_absolute_error(y_test, y_pred)\n",
    "mse = mean_squared_error(y_test, y_pred)\n",
    "r2 = r2_score(y_test, y_pred)"
   ]
  },
  {
   "cell_type": "code",
   "execution_count": null,
   "metadata": {},
   "outputs": [],
   "source": [
    "# Append metrics to the DataFrame\n",
    "metrics_df = metrics_df.append({'Model': type(best_tree).__name__, 'MAE': mae, 'MSE': mse, 'R2': r2}, ignore_index=True)\n",
    "metrics_df"
   ]
  },
  {
   "cell_type": "markdown",
   "metadata": {},
   "source": [
    "<a id=\"73\"></a>\n",
    "<font color = 'blue'>\n",
    "### **7.3. Ensemble Method: Random Forest Regression**\n",
    "   "
   ]
  },
  {
   "cell_type": "code",
   "execution_count": null,
   "metadata": {},
   "outputs": [],
   "source": [
    "param_grid = {'bootstrap': [True],'n_estimators':[ 100], \"max_depth\":[4], 'criterion': ['squared_error']}\n",
    "kfold = skm.KFold(5,random_state=0,shuffle=True)\n",
    "grid_search = skm.GridSearchCV(RandomForestRegressor( random_state=0,n_jobs = -1),param_grid, cv=kfold,return_train_score=True,scoring='neg_mean_absolute_error')\n",
    "\n",
    "# Fit the grid search to your data\n",
    "grid_search.fit(X_train, y_train)"
   ]
  },
  {
   "cell_type": "code",
   "execution_count": null,
   "metadata": {},
   "outputs": [],
   "source": [
    "model = grid_search.best_estimator_"
   ]
  },
  {
   "cell_type": "code",
   "execution_count": null,
   "metadata": {},
   "outputs": [],
   "source": [
    "grid_search.best_score_"
   ]
  },
  {
   "cell_type": "code",
   "execution_count": null,
   "metadata": {},
   "outputs": [],
   "source": [
    "y_pred=model.predict(X_test)\n",
    "mae = mean_absolute_error(y_test, y_pred)\n",
    "mse = mean_squared_error(y_test, y_pred)\n",
    "r2 = r2_score(y_test, y_pred)"
   ]
  },
  {
   "cell_type": "code",
   "execution_count": null,
   "metadata": {},
   "outputs": [],
   "source": [
    "# Append metrics to the DataFrame\n",
    "metrics_df = metrics_df.append({'Model': type(model).__name__, 'MAE': mae, 'MSE': mse, 'R2': r2}, ignore_index=True)\n",
    "metrics_df"
   ]
  },
  {
   "cell_type": "markdown",
   "metadata": {},
   "source": [
    "<a id=\"74\"></a>\n",
    "<font color = 'blue'>\n",
    "   ### **7.4. Ensemble Method: Gradient Boosting Regression**\n",
    "   "
   ]
  },
  {
   "cell_type": "code",
   "execution_count": null,
   "metadata": {},
   "outputs": [],
   "source": [
    "param_grid = {'learning_rate': [0.1],'n_estimators':[ 100], \"max_depth\":[4], 'criterion': ['squared_error']}\n",
    "kfold = skm.KFold(5,random_state=0,shuffle=True)\n",
    "grid_search = skm.GridSearchCV(GradientBoostingRegressor(  random_state=0), param_grid, cv=kfold, n_jobs=-1,scoring='neg_mean_absolute_error')\n",
    "\n",
    "# Fit the grid search to your data\n",
    "grid_search.fit(X_train, y_train)\n",
    "\n",
    "# Get the best learning rate\n",
    "best_learning_rate = grid_search.best_params_['learning_rate']\n",
    "\n",
    "# Access the best regressor\n",
    "best_boosting_regressor = grid_search.best_estimator_\n",
    "\n",
    "# Access the best hyperparameters\n",
    "best_hyperparameters = grid_search.best_params_"
   ]
  },
  {
   "cell_type": "code",
   "execution_count": null,
   "metadata": {},
   "outputs": [],
   "source": [
    "y_pred = best_boosting_regressor.predict(X_test)"
   ]
  },
  {
   "cell_type": "code",
   "execution_count": null,
   "metadata": {},
   "outputs": [],
   "source": [
    "test_error = np.zeros_like(best_boosting_regressor.train_score_)\n",
    "\n",
    "for idx, y_ in enumerate(best_boosting_regressor.staged_predict(X_test)):\n",
    "    test_error[idx] = np.mean((y_test - y_)**2)\n",
    "\n",
    "plot_idx = np.arange(best_boosting_regressor.train_score_.shape[0]) \n",
    "\n",
    "ax = subplots(figsize=(8,8))[1]\n",
    "ax.plot(plot_idx,best_boosting_regressor.train_score_, 'b',label='Training')\n",
    "ax.plot(plot_idx, test_error ,'r',label='Test') \n",
    "ax.legend();"
   ]
  },
  {
   "cell_type": "code",
   "execution_count": null,
   "metadata": {},
   "outputs": [],
   "source": [
    "grid_search.best_score_"
   ]
  },
  {
   "cell_type": "code",
   "execution_count": null,
   "metadata": {},
   "outputs": [],
   "source": [
    "mae = mean_absolute_error(y_test, y_pred)\n",
    "mse = mean_squared_error(y_test, y_pred)\n",
    "r2 = r2_score(y_test, y_pred)"
   ]
  },
  {
   "cell_type": "code",
   "execution_count": null,
   "metadata": {},
   "outputs": [],
   "source": [
    "# Append metrics to the DataFrame\n",
    "metrics_df = metrics_df.append({'Model': type(best_boosting_regressor).__name__, 'MAE': mae, 'MSE': mse, 'R2': r2}, ignore_index=True)\n",
    "metrics_df"
   ]
  },
  {
   "cell_type": "code",
   "execution_count": null,
   "metadata": {},
   "outputs": [],
   "source": [
    "# Get feature importances and corresponding feature names\n",
    "feature_importances = best_boosting_regressor.feature_importances_\n",
    "feature_names = X_train.columns\n",
    "\n",
    "# Create a DataFrame to store feature names and their importances\n",
    "feature_importance_df = pd.DataFrame({'Feature': feature_names, 'Importance': feature_importances})\n",
    "\n",
    "# Sort the DataFrame by importance in descending order\n",
    "feature_importance_df = feature_importance_df.sort_values(by='Importance', ascending=False)\n",
    "\n",
    "# Print or visualize the feature importances\n",
    "print(feature_importance_df)"
   ]
  },
  {
   "cell_type": "markdown",
   "metadata": {},
   "source": [
    "<a id=\"75\"></a>\n",
    "<font color = 'blue'>\n",
    "### **7.5. Support Vector Machine (SVM)**\n",
    "   "
   ]
  },
  {
   "cell_type": "markdown",
   "metadata": {},
   "source": [
    "We need to standardize the numerical data before using them to fit the SVM model."
   ]
  },
  {
   "cell_type": "code",
   "execution_count": null,
   "metadata": {},
   "outputs": [],
   "source": [
    "best_features"
   ]
  },
  {
   "cell_type": "code",
   "execution_count": null,
   "metadata": {},
   "outputs": [],
   "source": [
    "X_train"
   ]
  },
  {
   "cell_type": "code",
   "execution_count": null,
   "metadata": {},
   "outputs": [],
   "source": [
    "num_columns= best_features"
   ]
  },
  {
   "cell_type": "code",
   "execution_count": null,
   "metadata": {},
   "outputs": [],
   "source": [
    "X_train1= pd.DataFrame(StandardScaler().fit_transform(X_train[num_columns]),columns=num_columns,index=X_train.index)\n",
    "X_test1= pd.DataFrame(StandardScaler().fit_transform(X_test[num_columns]),columns=num_columns, index=X_test.index)\n",
    "\n",
    "X_train1 = pd.concat([X_train1, X_train[['drivetrain', 'fuel_type']]], axis=1)\n",
    "X_test1 = pd.concat([X_test1, X_test[['drivetrain', 'fuel_type']]], axis=1)"
   ]
  },
  {
   "cell_type": "code",
   "execution_count": null,
   "metadata": {},
   "outputs": [],
   "source": [
    "svm = SVR()  # You can specify kernel, C, gamma, etc.\n",
    "param_grid ={'C':[1], 'kernel':['linear']}"
   ]
  },
  {
   "cell_type": "markdown",
   "metadata": {},
   "source": [
    "* Create Cross-Validation Splitter and Perform Grid Search with Cross-Validation:"
   ]
  },
  {
   "cell_type": "code",
   "execution_count": null,
   "metadata": {},
   "outputs": [],
   "source": [
    "cross_validator = skm.KFold(n_splits=5, shuffle=True, random_state=0)\n",
    "grid_search = skm.GridSearchCV(svm, param_grid, cv=cross_validator, scoring='neg_mean_absolute_error')\n",
    "grid_search.fit(X_train1, y_train)  # X: feature matrix, y: target variable"
   ]
  },
  {
   "cell_type": "code",
   "execution_count": null,
   "metadata": {},
   "outputs": [],
   "source": [
    "best_model = grid_search.best_estimator_  # or random_search.best_estimator_\n",
    "best_params = grid_search.best_params_  # or random_search.best_params_\n",
    "best_score = grid_search.best_score_  # or random_search.best_score_\n",
    "print(\"The best SVR model: \", best_params)"
   ]
  },
  {
   "cell_type": "markdown",
   "metadata": {},
   "source": [
    "* Evaluate the Model:\n"
   ]
  },
  {
   "cell_type": "code",
   "execution_count": null,
   "metadata": {},
   "outputs": [],
   "source": [
    "best_score"
   ]
  },
  {
   "cell_type": "code",
   "execution_count": null,
   "metadata": {},
   "outputs": [],
   "source": [
    "y_pred=best_model.predict(X_test1)\n",
    "mae = mean_absolute_error(y_test, y_pred)\n",
    "mse = mean_squared_error(y_test, y_pred)\n",
    "r2 = r2_score(y_test, y_pred)"
   ]
  },
  {
   "cell_type": "code",
   "execution_count": null,
   "metadata": {},
   "outputs": [],
   "source": [
    "# Append metrics to the DataFrame\n",
    "metrics_df = metrics_df.append({'Model': type(best_model).__name__, 'MAE': mae, 'MSE': mse, 'R2': r2}, ignore_index=True)"
   ]
  },
  {
   "cell_type": "markdown",
   "metadata": {},
   "source": [
    "<a id=\"76\"></a>\n",
    "<font color = 'blue'>\n",
    "### **7.6. Comparing Models:**"
   ]
  },
  {
   "cell_type": "markdown",
   "metadata": {},
   "source": [
    "* **MAE** and **MSE**: Lower values are generally better for both MAE and MSE. If comparing two models, the one with the lower MAE or MSE is considered better in terms of accuracy.\n",
    "* <b>$R^2$</b>: Higher values of $R^2$ are desirable. $R^2$ represents the proportion of the variance explained by the model, so a higher $R^2$ indicates that the model is a better fit to the data. It ranges from 0 to 1, with higher values indicating better explanatory power."
   ]
  },
  {
   "cell_type": "markdown",
   "metadata": {},
   "source": []
  },
  {
   "cell_type": "code",
   "execution_count": null,
   "metadata": {},
   "outputs": [],
   "source": [
    "metrics_df"
   ]
  },
  {
   "cell_type": "code",
   "execution_count": null,
   "metadata": {},
   "outputs": [],
   "source": [
    "# Create a figure with three subplots\n",
    "fig, axes = plt.subplots(1, 3, figsize=(18, 6), sharey=True)\n",
    "\n",
    "# Bar width\n",
    "bar_width = 0.25\n",
    "\n",
    "# Positions on the y-axis for each model\n",
    "y_positions = np.arange(len(metrics_df['Model']))\n",
    "\n",
    "# Plotting MAE, MSE, and R2 in three subplots\n",
    "for ax, metric, color in zip(axes, ['MAE', 'MSE', 'R2'], ['blue', 'orange', 'green']):\n",
    "    ax.barh(y_positions, metrics_df[metric], height=bar_width, color=color, label=metric)\n",
    "    ax.set_title(metric)\n",
    "\n",
    "# Set common labels and title\n",
    "fig.suptitle('Model Evaluation Metrics')\n",
    "\n",
    "# Set labels and ticks for the y-axis\n",
    "axes[0].set_yticks(y_positions)\n",
    "axes[0].set_yticklabels(metrics_df['Model'])\n",
    "\n",
    "# Display the plot\n",
    "plt.show()"
   ]
  },
  {
   "cell_type": "markdown",
   "metadata": {},
   "source": [
    "The lower MAE or MSE is considered better in terms of accuracy and higher values of $R^2$ are desirable"
   ]
  },
  {
   "cell_type": "markdown",
   "metadata": {},
   "source": [
    "<div class=\"alert alert-block alert-success\">\n",
    "<b>Evaluation:</b>\n",
    "Based on the `metrics_df` and `plots`, we can see that `Gradient Boosting Regressor` is the best car price predictor.` Multiple Polynomial Regression` give a reasonable metrics. Therefore, we can use Gradient Boosting Regressor and Multiple Polynomial Regression to understand which features have the most significant impact on the predictions. This can provide insights into what aspects of the data are crucial for predicting car prices.\n",
    "</div>"
   ]
  }
 ],
 "metadata": {
  "kernelspec": {
   "display_name": "My Python Kernel",
   "language": "python",
   "name": "myenv"
  },
  "language_info": {
   "codemirror_mode": {
    "name": "ipython",
    "version": 3
   },
   "file_extension": ".py",
   "mimetype": "text/x-python",
   "name": "python",
   "nbconvert_exporter": "python",
   "pygments_lexer": "ipython3",
   "version": "3.11.3"
  }
 },
 "nbformat": 4,
 "nbformat_minor": 2
}
