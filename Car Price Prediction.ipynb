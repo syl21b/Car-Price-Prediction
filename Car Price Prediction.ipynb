{
 "cells": [
  {
   "cell_type": "code",
   "execution_count": 1,
   "metadata": {},
   "outputs": [],
   "source": [
    "import time\n",
    "start_time = time.time()"
   ]
  },
  {
   "cell_type": "markdown",
   "metadata": {},
   "source": [
    "\n",
    "<div class=\"alert alert-block alert-warning\">\n",
    "<b>Note:</b>  The program is expected to run for a total duration of 17 minutes\n",
    "</div>"
   ]
  },
  {
   "cell_type": "markdown",
   "metadata": {},
   "source": [
    "\n",
    "# Predicting the Price of Used Cars Using Machine Learning Algorithms\n",
    "<font color = 'Blue'> \n",
    "Names: Shin Le, Jeongyeon Kim, Benjamin Horvath, Nico Reategui, Paul Giglio\n"
   ]
  },
  {
   "cell_type": "markdown",
   "metadata": {},
   "source": [
    "Final Report: https://docs.google.com/document/d/1zhQrkWmJjjMU6wIfBC78MygGzp-XUrkaUOWALfyAL9Q/edit\n",
    "Dataset: https://www.kaggle.com/datasets/andreinovikov/used-cars-dataset"
   ]
  },
  {
   "cell_type": "markdown",
   "metadata": {},
   "source": [
    "<a id=\"0\"></a> <br>\n",
    "<font color = 'Blue'> \n",
    "# Table of Contents\n",
    "\n",
    "1. [About Dataset](#1)\n",
    "2. [Importing Libraries](#2)\n",
    "3. [Loading Data](#4)\n",
    "4. [Data Preprocessing](#5)\n",
    "5. [Exploratory Data Analysis (EDA)](#6)\n",
    "   1. [Filtering Data](#61)\n",
    "   2. [Detecting Outliers](#62)\n",
    "   3. [Labeling Encode](#63)\n",
    "   4. [Correlation Matrix](#64)|\n",
    "6. [Data Splitting](#7)\n",
    "7. [Models Evaluations and Predictions](#8)\n",
    "   1. [*Full Model* with *Linear Regression*](#81)\n",
    "      1. [Using Sequential Feature Selection for the *Linear Regression*](#811)\n",
    "   2. [*Decision Tree*](#82)\n",
    "      1. [*A Pruned Tree*](#821)\n",
    "   3. [Ensemble Method: *Random Forest Regression*](#83)\n",
    "   4. [Ensemble Method: *Gradient Boosting Regression*](#84)\n",
    "   5. [*Support Vector Machine* (SVM)](#85)\n",
    "   6. [Comparing Models](#86)\n"
   ]
  },
  {
   "cell_type": "markdown",
   "metadata": {},
   "source": [
    "<a id=\"1\"></a>\n",
    "<font color = 'blue'> \n",
    "## **1. About Dataset**"
   ]
  },
  {
   "cell_type": "markdown",
   "metadata": {},
   "source": [
    "This dataset contains data about 762,091 used cars scraped from cars.com. The data was collected on Apr, 2023.\n",
    "\n",
    "**Feature description**\n",
    "\n",
    "* manufacturer - name of the car manufacturer\n",
    "* model - name of the car model\n",
    "* year - the year when the car was produced\n",
    "* mileage - the number of miles the car has traveled since production\n",
    "* engine - car engine\n",
    "* transmission - type of the car's transmission\n",
    "* drivetrain - type of the car's drivetrain\n",
    "* fuel_type - type of fuel that the car consumes\n",
    "* mpg - the number of miles a car can travel using one gallon of fuel (miles per gallon)\n",
    "* exterior_color - car exterior color\n",
    "* interior_color - car interior color\n",
    "* accidents_or_damage - whether the car was involved in accidents\n",
    "* one_owner - whether the car was owned by one person\n",
    "* personal_use_only - whether the car was used only for personal purposes\n",
    "* seller_name - name of the seller\n",
    "* seller_rating - seller's rating\n",
    "* driver_rating - car rating given by drivers\n",
    "* driver_reviews_num - the number of car reviews left by drivers\n",
    "* price_drop - price reduction from the initial price\n",
    "* price - car price"
   ]
  },
  {
   "cell_type": "markdown",
   "metadata": {},
   "source": [
    "<a id=\"2\"></a>\n",
    "<font color = 'blue'> \n",
    "## **2. Importing Libraries**"
   ]
  },
  {
   "cell_type": "code",
   "execution_count": 2,
   "metadata": {},
   "outputs": [],
   "source": [
    "import statsmodels.api as sm\n",
    "import numpy as np\n",
    "import pandas as pd\n",
    "\n",
    "# loading data\n",
    "import zipfile\n",
    "\n",
    "# Plot\n",
    "import matplotlib.pyplot as plt \n",
    "from matplotlib.pyplot import subplots\n",
    "import seaborn as sns\n",
    "\n",
    "# preprocessing\n",
    "from sklearn.preprocessing import StandardScaler, LabelEncoder\n",
    "\n",
    "# splitting dataset into train and test data\n",
    "from sklearn.model_selection import train_test_split\n",
    "\n",
    "# feature selection\n",
    "from sklearn.feature_selection import SequentialFeatureSelector\n",
    "from sklearn.linear_model import Lasso\n",
    "\n",
    "# Metrics:\n",
    "from sklearn.metrics import mean_absolute_error, mean_squared_error, r2_score\n",
    "\n",
    "# Linear Regression\n",
    "from sklearn.linear_model import LinearRegression\n",
    "from sklearn.preprocessing import PolynomialFeatures\n",
    "import sklearn.model_selection as skm\n",
    "\n",
    "# tree\n",
    "from sklearn.tree import DecisionTreeRegressor,plot_tree ,export_text\n",
    "from sklearn.ensemble import RandomForestRegressor, GradientBoostingRegressor\n",
    "\n",
    "# SVM\n",
    "from sklearn.svm import SVR"
   ]
  },
  {
   "cell_type": "markdown",
   "metadata": {},
   "source": [
    "<a id=\"4\"></a>\n",
    "<font color = 'blue'> \n",
    "## **4. Loading Data**"
   ]
  },
  {
   "cell_type": "markdown",
   "metadata": {},
   "source": [
    "\n",
    "<div class=\"alert alert-block alert-warning\">\n",
    "<b>Note:</b>  Change the \"path\" here to load the dataset\n",
    "</div>"
   ]
  },
  {
   "cell_type": "code",
   "execution_count": 3,
   "metadata": {},
   "outputs": [],
   "source": [
    "path='/Users/shinle/Library/CloudStorage/OneDrive-Personal/FSU Activities/Data Mining/cars.csv'\n",
    "df = pd.read_csv(path)"
   ]
  },
  {
   "cell_type": "markdown",
   "metadata": {},
   "source": [
    "<a id=\"5\"></a>\n",
    "<font color = 'blue'> \n",
    "## **5. Data Preprocessing**"
   ]
  },
  {
   "cell_type": "code",
   "execution_count": 4,
   "metadata": {},
   "outputs": [
    {
     "data": {
      "text/html": [
       "<div>\n",
       "<style scoped>\n",
       "    .dataframe tbody tr th:only-of-type {\n",
       "        vertical-align: middle;\n",
       "    }\n",
       "\n",
       "    .dataframe tbody tr th {\n",
       "        vertical-align: top;\n",
       "    }\n",
       "\n",
       "    .dataframe thead th {\n",
       "        text-align: right;\n",
       "    }\n",
       "</style>\n",
       "<table border=\"1\" class=\"dataframe\">\n",
       "  <thead>\n",
       "    <tr style=\"text-align: right;\">\n",
       "      <th></th>\n",
       "      <th>manufacturer</th>\n",
       "      <th>model</th>\n",
       "      <th>year</th>\n",
       "      <th>mileage</th>\n",
       "      <th>transmission</th>\n",
       "      <th>drivetrain</th>\n",
       "      <th>fuel_type</th>\n",
       "      <th>mpg</th>\n",
       "      <th>exterior_color</th>\n",
       "      <th>interior_color</th>\n",
       "      <th>...</th>\n",
       "      <th>personal_use_only</th>\n",
       "      <th>seller_name</th>\n",
       "      <th>seller_rating</th>\n",
       "      <th>driver_rating</th>\n",
       "      <th>driver_reviews_num</th>\n",
       "      <th>price_drop</th>\n",
       "      <th>price</th>\n",
       "      <th>Engine Displacement (L)</th>\n",
       "      <th>Engine Type</th>\n",
       "      <th>Engine Features</th>\n",
       "    </tr>\n",
       "  </thead>\n",
       "  <tbody>\n",
       "    <tr>\n",
       "      <th>0</th>\n",
       "      <td>Mazda</td>\n",
       "      <td>CX-90 3.3 Turbo Premium Plus</td>\n",
       "      <td>2024</td>\n",
       "      <td>1.0</td>\n",
       "      <td>8-Speed Automatic</td>\n",
       "      <td>All-wheel Drive</td>\n",
       "      <td>Gasoline</td>\n",
       "      <td>NaN</td>\n",
       "      <td>51K</td>\n",
       "      <td>White</td>\n",
       "      <td>...</td>\n",
       "      <td>1.0</td>\n",
       "      <td>Cox Mazda</td>\n",
       "      <td>3.2</td>\n",
       "      <td>NaN</td>\n",
       "      <td>0</td>\n",
       "      <td>NaN</td>\n",
       "      <td>54920</td>\n",
       "      <td>3.3</td>\n",
       "      <td>I6</td>\n",
       "      <td>Turbo</td>\n",
       "    </tr>\n",
       "    <tr>\n",
       "      <th>1</th>\n",
       "      <td>Mazda</td>\n",
       "      <td>CX-90 S Premium Plus</td>\n",
       "      <td>2024</td>\n",
       "      <td>1.0</td>\n",
       "      <td>8-Speed Automatic</td>\n",
       "      <td>All-wheel Drive</td>\n",
       "      <td>Gasoline</td>\n",
       "      <td>NaN</td>\n",
       "      <td>Artisan Red Metallic</td>\n",
       "      <td>White</td>\n",
       "      <td>...</td>\n",
       "      <td>1.0</td>\n",
       "      <td>Cox Mazda</td>\n",
       "      <td>3.2</td>\n",
       "      <td>NaN</td>\n",
       "      <td>0</td>\n",
       "      <td>NaN</td>\n",
       "      <td>61920</td>\n",
       "      <td>NaN</td>\n",
       "      <td>NaN</td>\n",
       "      <td>NaN</td>\n",
       "    </tr>\n",
       "    <tr>\n",
       "      <th>2</th>\n",
       "      <td>Acura</td>\n",
       "      <td>Integra A-Spec</td>\n",
       "      <td>2023</td>\n",
       "      <td>6.0</td>\n",
       "      <td>Automatic CVT</td>\n",
       "      <td>Front-wheel Drive</td>\n",
       "      <td>Gasoline</td>\n",
       "      <td>29-36</td>\n",
       "      <td>Red</td>\n",
       "      <td>Ebony</td>\n",
       "      <td>...</td>\n",
       "      <td>0.0</td>\n",
       "      <td>Glenview Luxury Imports</td>\n",
       "      <td>4.9</td>\n",
       "      <td>4.6</td>\n",
       "      <td>5</td>\n",
       "      <td>NaN</td>\n",
       "      <td>37434</td>\n",
       "      <td>1.5</td>\n",
       "      <td>I4</td>\n",
       "      <td>16V GDI DOHC Turbo</td>\n",
       "    </tr>\n",
       "    <tr>\n",
       "      <th>3</th>\n",
       "      <td>Acura</td>\n",
       "      <td>Integra A-Spec Technology</td>\n",
       "      <td>2023</td>\n",
       "      <td>9705.0</td>\n",
       "      <td>Automatic CVT</td>\n",
       "      <td>Front-wheel Drive</td>\n",
       "      <td>Gasoline</td>\n",
       "      <td>29-36</td>\n",
       "      <td>Platinum White Pearl</td>\n",
       "      <td>Ebony</td>\n",
       "      <td>...</td>\n",
       "      <td>1.0</td>\n",
       "      <td>Lindsay Acura</td>\n",
       "      <td>3.6</td>\n",
       "      <td>4.6</td>\n",
       "      <td>5</td>\n",
       "      <td>484.0</td>\n",
       "      <td>34516</td>\n",
       "      <td>1.5</td>\n",
       "      <td>I4</td>\n",
       "      <td>16V GDI DOHC Turbo</td>\n",
       "    </tr>\n",
       "    <tr>\n",
       "      <th>4</th>\n",
       "      <td>Acura</td>\n",
       "      <td>Integra A-Spec Technology</td>\n",
       "      <td>2023</td>\n",
       "      <td>6.0</td>\n",
       "      <td>Automatic CVT</td>\n",
       "      <td>Front-wheel Drive</td>\n",
       "      <td>Gasoline</td>\n",
       "      <td>29-36</td>\n",
       "      <td>Performance</td>\n",
       "      <td>Orchid</td>\n",
       "      <td>...</td>\n",
       "      <td>1.0</td>\n",
       "      <td>Plaza Auto Mall</td>\n",
       "      <td>4.0</td>\n",
       "      <td>4.6</td>\n",
       "      <td>5</td>\n",
       "      <td>674.0</td>\n",
       "      <td>33221</td>\n",
       "      <td>1.5</td>\n",
       "      <td>I4</td>\n",
       "      <td>16V GDI DOHC Turbo</td>\n",
       "    </tr>\n",
       "    <tr>\n",
       "      <th>...</th>\n",
       "      <td>...</td>\n",
       "      <td>...</td>\n",
       "      <td>...</td>\n",
       "      <td>...</td>\n",
       "      <td>...</td>\n",
       "      <td>...</td>\n",
       "      <td>...</td>\n",
       "      <td>...</td>\n",
       "      <td>...</td>\n",
       "      <td>...</td>\n",
       "      <td>...</td>\n",
       "      <td>...</td>\n",
       "      <td>...</td>\n",
       "      <td>...</td>\n",
       "      <td>...</td>\n",
       "      <td>...</td>\n",
       "      <td>...</td>\n",
       "      <td>...</td>\n",
       "      <td>...</td>\n",
       "      <td>...</td>\n",
       "      <td>...</td>\n",
       "    </tr>\n",
       "    <tr>\n",
       "      <th>758030</th>\n",
       "      <td>Toyota</td>\n",
       "      <td>Supra Turbo</td>\n",
       "      <td>1995</td>\n",
       "      <td>15800.0</td>\n",
       "      <td>6-Speed Manual</td>\n",
       "      <td>NaN</td>\n",
       "      <td>Gasoline</td>\n",
       "      <td>17-23</td>\n",
       "      <td>Black</td>\n",
       "      <td>Tan</td>\n",
       "      <td>...</td>\n",
       "      <td>1.0</td>\n",
       "      <td>Motorcar Classics</td>\n",
       "      <td>3.7</td>\n",
       "      <td>4.9</td>\n",
       "      <td>7</td>\n",
       "      <td>10000.0</td>\n",
       "      <td>89900</td>\n",
       "      <td>3.0</td>\n",
       "      <td>I6</td>\n",
       "      <td>24V SPFI DOHC Turbo</td>\n",
       "    </tr>\n",
       "    <tr>\n",
       "      <th>758031</th>\n",
       "      <td>Toyota</td>\n",
       "      <td>Supra Turbo</td>\n",
       "      <td>1995</td>\n",
       "      <td>44614.0</td>\n",
       "      <td>6-Speed Manual</td>\n",
       "      <td>Rear-wheel Drive</td>\n",
       "      <td>Gasoline</td>\n",
       "      <td>NaN</td>\n",
       "      <td>Silver</td>\n",
       "      <td>Black</td>\n",
       "      <td>...</td>\n",
       "      <td>1.0</td>\n",
       "      <td>Gold Coast Motors</td>\n",
       "      <td>NaN</td>\n",
       "      <td>4.9</td>\n",
       "      <td>7</td>\n",
       "      <td>6000.0</td>\n",
       "      <td>109900</td>\n",
       "      <td>3.0</td>\n",
       "      <td>I6</td>\n",
       "      <td>Turbo</td>\n",
       "    </tr>\n",
       "    <tr>\n",
       "      <th>758032</th>\n",
       "      <td>Volkswagen</td>\n",
       "      <td>Eurovan</td>\n",
       "      <td>1995</td>\n",
       "      <td>91849.0</td>\n",
       "      <td>Manual</td>\n",
       "      <td>Front-wheel Drive</td>\n",
       "      <td>Gasoline</td>\n",
       "      <td>NaN</td>\n",
       "      <td>White</td>\n",
       "      <td>Gray</td>\n",
       "      <td>...</td>\n",
       "      <td>1.0</td>\n",
       "      <td>Pacific Auto Center - Fontana</td>\n",
       "      <td>3.1</td>\n",
       "      <td>4.8</td>\n",
       "      <td>3</td>\n",
       "      <td>1000.0</td>\n",
       "      <td>31995</td>\n",
       "      <td>NaN</td>\n",
       "      <td>NaN</td>\n",
       "      <td>NaN</td>\n",
       "    </tr>\n",
       "    <tr>\n",
       "      <th>758033</th>\n",
       "      <td>Volkswagen</td>\n",
       "      <td>Eurovan Campmobile</td>\n",
       "      <td>1995</td>\n",
       "      <td>190336.0</td>\n",
       "      <td>5-Speed Manual</td>\n",
       "      <td>Front-wheel Drive</td>\n",
       "      <td>Gasoline</td>\n",
       "      <td>NaN</td>\n",
       "      <td>White</td>\n",
       "      <td>Gray</td>\n",
       "      <td>...</td>\n",
       "      <td>1.0</td>\n",
       "      <td>Lot 99</td>\n",
       "      <td>1.4</td>\n",
       "      <td>4.8</td>\n",
       "      <td>3</td>\n",
       "      <td>1000.0</td>\n",
       "      <td>25995</td>\n",
       "      <td>5.2</td>\n",
       "      <td>I5</td>\n",
       "      <td>10V SOHC</td>\n",
       "    </tr>\n",
       "    <tr>\n",
       "      <th>758034</th>\n",
       "      <td>Volvo</td>\n",
       "      <td>850</td>\n",
       "      <td>1995</td>\n",
       "      <td>87016.0</td>\n",
       "      <td>4-Speed Automatic</td>\n",
       "      <td>Front-wheel Drive</td>\n",
       "      <td>Gasoline</td>\n",
       "      <td>19-26</td>\n",
       "      <td>Green</td>\n",
       "      <td>NaN</td>\n",
       "      <td>...</td>\n",
       "      <td>1.0</td>\n",
       "      <td>Elite Auto Corp</td>\n",
       "      <td>3.1</td>\n",
       "      <td>4.4</td>\n",
       "      <td>11</td>\n",
       "      <td>3000.0</td>\n",
       "      <td>8499</td>\n",
       "      <td>2.3</td>\n",
       "      <td>I5</td>\n",
       "      <td>10V MPFI SOHC</td>\n",
       "    </tr>\n",
       "  </tbody>\n",
       "</table>\n",
       "<p>758035 rows × 22 columns</p>\n",
       "</div>"
      ],
      "text/plain": [
       "       manufacturer                         model  year   mileage  \\\n",
       "0             Mazda  CX-90 3.3 Turbo Premium Plus  2024       1.0   \n",
       "1             Mazda          CX-90 S Premium Plus  2024       1.0   \n",
       "2             Acura                Integra A-Spec  2023       6.0   \n",
       "3             Acura     Integra A-Spec Technology  2023    9705.0   \n",
       "4             Acura     Integra A-Spec Technology  2023       6.0   \n",
       "...             ...                           ...   ...       ...   \n",
       "758030       Toyota                   Supra Turbo  1995   15800.0   \n",
       "758031       Toyota                   Supra Turbo  1995   44614.0   \n",
       "758032   Volkswagen                       Eurovan  1995   91849.0   \n",
       "758033   Volkswagen            Eurovan Campmobile  1995  190336.0   \n",
       "758034        Volvo                           850  1995   87016.0   \n",
       "\n",
       "             transmission         drivetrain fuel_type    mpg  \\\n",
       "0       8-Speed Automatic    All-wheel Drive  Gasoline    NaN   \n",
       "1       8-Speed Automatic    All-wheel Drive  Gasoline    NaN   \n",
       "2           Automatic CVT  Front-wheel Drive  Gasoline  29-36   \n",
       "3           Automatic CVT  Front-wheel Drive  Gasoline  29-36   \n",
       "4           Automatic CVT  Front-wheel Drive  Gasoline  29-36   \n",
       "...                   ...                ...       ...    ...   \n",
       "758030     6-Speed Manual                NaN  Gasoline  17-23   \n",
       "758031     6-Speed Manual   Rear-wheel Drive  Gasoline    NaN   \n",
       "758032             Manual  Front-wheel Drive  Gasoline    NaN   \n",
       "758033     5-Speed Manual  Front-wheel Drive  Gasoline    NaN   \n",
       "758034  4-Speed Automatic  Front-wheel Drive  Gasoline  19-26   \n",
       "\n",
       "              exterior_color interior_color  ...  personal_use_only  \\\n",
       "0                        51K          White  ...                1.0   \n",
       "1       Artisan Red Metallic          White  ...                1.0   \n",
       "2                        Red          Ebony  ...                0.0   \n",
       "3       Platinum White Pearl          Ebony  ...                1.0   \n",
       "4                Performance         Orchid  ...                1.0   \n",
       "...                      ...            ...  ...                ...   \n",
       "758030                 Black            Tan  ...                1.0   \n",
       "758031                Silver          Black  ...                1.0   \n",
       "758032                 White           Gray  ...                1.0   \n",
       "758033                 White           Gray  ...                1.0   \n",
       "758034                 Green            NaN  ...                1.0   \n",
       "\n",
       "                          seller_name  seller_rating driver_rating  \\\n",
       "0                           Cox Mazda            3.2           NaN   \n",
       "1                           Cox Mazda            3.2           NaN   \n",
       "2             Glenview Luxury Imports            4.9           4.6   \n",
       "3                       Lindsay Acura            3.6           4.6   \n",
       "4                     Plaza Auto Mall            4.0           4.6   \n",
       "...                               ...            ...           ...   \n",
       "758030              Motorcar Classics            3.7           4.9   \n",
       "758031              Gold Coast Motors            NaN           4.9   \n",
       "758032  Pacific Auto Center - Fontana            3.1           4.8   \n",
       "758033                         Lot 99            1.4           4.8   \n",
       "758034                Elite Auto Corp            3.1           4.4   \n",
       "\n",
       "        driver_reviews_num  price_drop   price  Engine Displacement (L)  \\\n",
       "0                        0         NaN   54920                      3.3   \n",
       "1                        0         NaN   61920                      NaN   \n",
       "2                        5         NaN   37434                      1.5   \n",
       "3                        5       484.0   34516                      1.5   \n",
       "4                        5       674.0   33221                      1.5   \n",
       "...                    ...         ...     ...                      ...   \n",
       "758030                   7     10000.0   89900                      3.0   \n",
       "758031                   7      6000.0  109900                      3.0   \n",
       "758032                   3      1000.0   31995                      NaN   \n",
       "758033                   3      1000.0   25995                      5.2   \n",
       "758034                  11      3000.0    8499                      2.3   \n",
       "\n",
       "        Engine Type      Engine Features  \n",
       "0                I6                Turbo  \n",
       "1               NaN                  NaN  \n",
       "2                I4   16V GDI DOHC Turbo  \n",
       "3                I4   16V GDI DOHC Turbo  \n",
       "4                I4   16V GDI DOHC Turbo  \n",
       "...             ...                  ...  \n",
       "758030           I6  24V SPFI DOHC Turbo  \n",
       "758031           I6                Turbo  \n",
       "758032          NaN                  NaN  \n",
       "758033           I5             10V SOHC  \n",
       "758034           I5        10V MPFI SOHC  \n",
       "\n",
       "[758035 rows x 22 columns]"
      ]
     },
     "execution_count": 4,
     "metadata": {},
     "output_type": "execute_result"
    }
   ],
   "source": [
    "# Use str.extract to create new columns\n",
    "df[['Engine Displacement (L)', 'Engine Type', 'Engine Features']] = df['engine'].str.extract(r'(\\d+\\.\\d+)L\\s([A-Z0-9]+)\\s(.+)$')\n",
    "\n",
    "# Drop the original 'engine' column if you no longer need it\n",
    "df = df.drop(columns=['engine'])\n",
    "\n",
    "# Print the DataFrame\n",
    "df"
   ]
  },
  {
   "cell_type": "markdown",
   "metadata": {},
   "source": [
    "##### Before handling data\n",
    "* Show the frequency of unique values for each column. This will initially show us the classes which have the highest frequency. We consider these as outliers."
   ]
  },
  {
   "cell_type": "code",
   "execution_count": 5,
   "metadata": {},
   "outputs": [
    {
     "name": "stdout",
     "output_type": "stream",
     "text": [
      "Ford             78680\n",
      "Toyota           59393\n",
      "Chevrolet        54828\n",
      "Nissan           48482\n",
      "Jeep             41543\n",
      "Mercedes-Benz    40582\n",
      "Honda            37601\n",
      "BMW              37509\n",
      "Kia              35063\n",
      "GMC              29507\n",
      "Dodge            25102\n",
      "Subaru           24762\n",
      "Volkswagen       24485\n",
      "Hyundai          22203\n",
      "Lexus            21292\n",
      "RAM              19364\n",
      "Audi             17863\n",
      "Cadillac         17614\n",
      "Mazda            15431\n",
      "Buick            14509\n",
      "Chrysler         12609\n",
      "INFINITI         12287\n",
      "Land Rover       12139\n",
      "Porsche          11214\n",
      "Lincoln          10518\n",
      "Volvo            10022\n",
      "Acura             8468\n",
      "Tesla             5883\n",
      "Mitsubishi        5737\n",
      "Jaguar            3345\n",
      "Name: manufacturer, dtype: int64, \n",
      "\n",
      "Fusion SE                                3172\n",
      "Sportage LX                              2873\n",
      "Corolla LE                               2835\n",
      "GLC 300 Base 4MATIC                      2718\n",
      "Sentra SV                                2652\n",
      "                                         ... \n",
      "ILX W/NAVIGATION SYSTEM&POWER SUNROOF       1\n",
      "S90 T5 Inscription                          1\n",
      "V60 Platinum                                1\n",
      "Golf Alltrack Alltrack                      1\n",
      "850                                         1\n",
      "Name: model, Length: 11304, dtype: int64, \n",
      "\n",
      "2020    133589\n",
      "2021    108894\n",
      "2019    105934\n",
      "2022     80714\n",
      "2018     62878\n",
      "2017     52316\n",
      "2016     42333\n",
      "2015     37073\n",
      "2014     27199\n",
      "2013     21877\n",
      "2023     18218\n",
      "2012     15492\n",
      "2011     11505\n",
      "2010      7747\n",
      "2008      6258\n",
      "2007      5258\n",
      "2009      4862\n",
      "2006      3706\n",
      "2005      2885\n",
      "2004      2442\n",
      "2003      1771\n",
      "2002      1473\n",
      "2001      1011\n",
      "2000       774\n",
      "1999       561\n",
      "1997       348\n",
      "1998       342\n",
      "1995       322\n",
      "1996       251\n",
      "2024         2\n",
      "Name: year, dtype: int64, \n",
      "\n",
      "0.0         1215\n",
      "10.0         270\n",
      "5.0          230\n",
      "6.0          179\n",
      "1.0          167\n",
      "            ... \n",
      "143975.0       1\n",
      "124979.0       1\n",
      "177269.0       1\n",
      "120324.0       1\n",
      "190336.0       1\n",
      "Name: mileage, Length: 158484, dtype: int64, \n",
      "\n",
      "6-Speed Automatic                                   148595\n",
      "8-Speed Automatic                                   139572\n",
      "Automatic CVT                                       108617\n",
      "Automatic                                            95868\n",
      "9-Speed Automatic                                    61189\n",
      "                                                     ...  \n",
      "8-Speed Automatic w/CommandShift -inc                    1\n",
      "8 speed sport automatic w/paddles                        1\n",
      "6 speed selectshift automatic                            1\n",
      "6-Speed Shiftable Automatic w/Sport Transmission         1\n",
      "Tiptronic                                                1\n",
      "Name: transmission, Length: 967, dtype: int64, \n",
      "\n",
      "Front-wheel Drive                                              241051\n",
      "All-wheel Drive                                                230194\n",
      "Four-wheel Drive                                               156720\n",
      "Rear-wheel Drive                                                96402\n",
      "FWD                                                              6435\n",
      "AWD                                                              3585\n",
      "4WD                                                              1905\n",
      "RWD                                                              1693\n",
      "All-Wheel Drive                                                   120\n",
      "Front-Wheel Drive                                                 104\n",
      "Front-Wheel Drive with Limited-Slip Differential                   44\n",
      "Four-Wheel Drive                                                   43\n",
      "Four-Wheel Drive with Locking and Limited-Slip Differential        42\n",
      "Unknown                                                            41\n",
      "Rear-Wheel Drive                                                   34\n",
      "All-Wheel Drive with Locking and Limited-Slip Differential         33\n",
      "Four Wheel Drive                                                   22\n",
      "All-Wheel Drive with Locking Differential                          20\n",
      "Front Wheel Drive                                                  17\n",
      "Rear-Wheel Drive with Limited-Slip Differential                    12\n",
      "All Wheel Drive                                                    11\n",
      "Rear Wheel Drive                                                    8\n",
      "4x4                                                                 7\n",
      "Four-Wheel Drive with Locking Differential                          6\n",
      "Engine: 2.4L GDI DOHC 16V I4 -inc: dual CVVT                        5\n",
      "4x2                                                                 2\n",
      "Engine: 1.6L 4-Cyl. 16-Valve MPI                                    1\n",
      "Engine: 2.0L 4-Cylinder MPI 16V DOHC w/Dual CVVT                    1\n",
      "Engine: Lambda II 3.8L GDI DOHC V6 w/Dual CVVT                      1\n",
      "Engine: 2.4L DOHC I4 GDI                                            1\n",
      "Engine: 1.6L DOHC I4 GDI Turbo                                      1\n",
      "4X4                                                                 1\n",
      "Name: drivetrain, dtype: int64, \n",
      "\n",
      "Gasoline                         642441\n",
      "Hybrid                            29140\n",
      "Diesel                            27931\n",
      "E85 Flex Fuel                     18772\n",
      "Electric                          16192\n",
      "B                                  1442\n",
      "Flexible Fuel                       493\n",
      "Plug-In Hybrid                      118\n",
      "Gasoline Fuel                        80\n",
      "Gasoline/Mild Electric Hybrid        70\n",
      "Regular Unleaded                     56\n",
      "Premium Unleaded                     49\n",
      "G                                    45\n",
      "Compressed Natural Gas               29\n",
      "Diesel Fuel                           5\n",
      "Hybrid Fuel                           5\n",
      "Other                                 3\n",
      "Hydrogen Fuel Cell                    3\n",
      "PHEV                                  2\n",
      "Electric Fuel System                  2\n",
      "Gas/Electric Hybrid                   2\n",
      "Unspecified                           2\n",
      "Flex Fuel Capability                  2\n",
      "Gas                                   2\n",
      "Gaseous                               2\n",
      "Plug-In Electric/Gas                  1\n",
      "Premium                               1\n",
      "Biodiesel                             1\n",
      "Natural Gas                           1\n",
      "Bio Diesel                            1\n",
      "Automatic                             1\n",
      "Flex Fuel                             1\n",
      "Premium (Required)                    1\n",
      "E85 Fl                                1\n",
      "Name: fuel_type, dtype: int64, \n",
      "\n",
      "19-26      16209\n",
      "18-25      15748\n",
      "17-25      14273\n",
      "20-27      13546\n",
      "16-23      11488\n",
      "           ...  \n",
      "28-Oct         1\n",
      "15-20.5        1\n",
      "26-37.0        1\n",
      "31-30          1\n",
      "23-26.9        1\n",
      "Name: mpg, Length: 864, dtype: int64, \n",
      "\n",
      "Black                              59849\n",
      "White                              50623\n",
      "Gray                               30119\n",
      "Silver                             24152\n",
      "Blue                               17091\n",
      "                                   ...  \n",
      "Gallium Silver Premium Metallic        1\n",
      "Cosmic Black Premium Metallic          1\n",
      "Italian Racing Red Metallic            1\n",
      "Ammonite                               1\n",
      "Oyster Pearl                           1\n",
      "Name: exterior_color, Length: 7267, dtype: int64, \n",
      "\n",
      "Black                                 285202\n",
      "Gray                                   49483\n",
      "Jet Black                              46089\n",
      "Ebony                                  37778\n",
      "Charcoal                               26136\n",
      "                                       ...  \n",
      "Brandy With Ebony Interior Accents         1\n",
      "Red/Jet Inserts                            1\n",
      "Brandy with Ebony interior accents         1\n",
      "Jet with Cirrus Stitching                  1\n",
      "Parchment White leather                    1\n",
      "Name: interior_color, Length: 4515, dtype: int64, \n",
      "\n",
      "0.0    565511\n",
      "1.0    168435\n",
      "Name: accidents_or_damage, dtype: int64, \n",
      "\n",
      "1.0    410402\n",
      "0.0    318278\n",
      "Name: one_owner, dtype: int64, \n",
      "\n",
      "1.0    481833\n",
      "0.0    252007\n",
      "Name: personal_use_only, dtype: int64, \n",
      "\n",
      "East Coast Auto Source             1034\n",
      "Auto Boutique                       716\n",
      "Adams North Charlotte               643\n",
      "Automotive Avenues                  637\n",
      "Pacific Auto Center - Fontana       579\n",
      "                                   ... \n",
      "North County Buick Cadillac GMC       1\n",
      "James Corlew Chevrolet Cadillac       1\n",
      "Gerry Lane Cadillac                   1\n",
      "Uebelhor & Sons GMC Cadillac          1\n",
      "Pederson Auto Brokers LLC             1\n",
      "Name: seller_name, Length: 18251, dtype: int64, \n",
      "\n",
      "4.8    64339\n",
      "4.7    56226\n",
      "4.9    51040\n",
      "4.6    49118\n",
      "4.5    40461\n",
      "4.4    30555\n",
      "4.3    26336\n",
      "4.2    21889\n",
      "4.1    18014\n",
      "5.0    16892\n",
      "4.0    16441\n",
      "3.9    16249\n",
      "3.8    12161\n",
      "3.6    11416\n",
      "3.7    10887\n",
      "3.3    10208\n",
      "3.4     9570\n",
      "3.5     9434\n",
      "3.1     7587\n",
      "3.2     6301\n",
      "3.0     6206\n",
      "2.8     6024\n",
      "2.6     4998\n",
      "2.9     4948\n",
      "2.7     4749\n",
      "2.4     4309\n",
      "2.5     4250\n",
      "1.8     3864\n",
      "2.2     3762\n",
      "2.3     2941\n",
      "2.1     2911\n",
      "1.9     2909\n",
      "1.7     1901\n",
      "2.0     1612\n",
      "1.6     1469\n",
      "1.5     1359\n",
      "1.3      877\n",
      "1.4      839\n",
      "1.2      805\n",
      "1.0      577\n",
      "1.1      184\n",
      "Name: seller_rating, dtype: int64, \n",
      "\n",
      "4.7    158600\n",
      "4.8    155924\n",
      "4.6    117998\n",
      "4.5     74757\n",
      "4.9     63982\n",
      "4.4     42409\n",
      "5.0     30724\n",
      "4.3     28582\n",
      "4.2     16830\n",
      "4.1     13139\n",
      "4.0      6764\n",
      "3.8      5191\n",
      "3.9      3765\n",
      "3.7      2722\n",
      "3.6      1532\n",
      "3.4      1388\n",
      "2.8       881\n",
      "3.5       823\n",
      "2.9       726\n",
      "3.0       353\n",
      "2.6       325\n",
      "1.0       269\n",
      "3.2       159\n",
      "2.5       106\n",
      "3.3        99\n",
      "2.2        41\n",
      "2.7        27\n",
      "2.1        14\n",
      "3.1         7\n",
      "2.0         5\n",
      "1.7         4\n",
      "Name: driver_rating, dtype: int64, \n",
      "\n",
      "0      29889\n",
      "2      20732\n",
      "3      16327\n",
      "4      16000\n",
      "1      13321\n",
      "       ...  \n",
      "209       54\n",
      "149       52\n",
      "240       48\n",
      "232       45\n",
      "369       45\n",
      "Name: driver_reviews_num, Length: 369, dtype: int64, \n",
      "\n",
      "1000.0     53855\n",
      "500.0      36560\n",
      "200.0      15904\n",
      "100.0      14708\n",
      "2000.0     13083\n",
      "           ...  \n",
      "6079.0         1\n",
      "11300.0        1\n",
      "12812.0        1\n",
      "6527.0         1\n",
      "10009.0        1\n",
      "Name: price_drop, Length: 6395, dtype: int64, \n",
      "\n",
      "19995     3163\n",
      "14995     2783\n",
      "16995     2705\n",
      "18995     2696\n",
      "17995     2693\n",
      "          ... \n",
      "58707        1\n",
      "51178        1\n",
      "55015        1\n",
      "60915        1\n",
      "127795       1\n",
      "Name: price, Length: 63378, dtype: int64, \n",
      "\n",
      "2.0    136429\n",
      "3.5     70899\n",
      "3.6     70535\n",
      "2.5     57592\n",
      "2.4     40182\n",
      "        ...  \n",
      "6.5         8\n",
      "7.5         6\n",
      "4.9         4\n",
      "0.0         1\n",
      "4.1         1\n",
      "Name: Engine Displacement (L), Length: 66, dtype: int64, \n",
      "\n",
      "I4           290875\n",
      "V6           194017\n",
      "V8            92092\n",
      "I6            22604\n",
      "H4            20602\n",
      "              ...  \n",
      "DURAMAX           1\n",
      "PENTASTAR         1\n",
      "32V               1\n",
      "HEAVY             1\n",
      "NA                1\n",
      "Name: Engine Type, Length: 85, dtype: int64, \n",
      "\n",
      "16V GDI DOHC Turbo                              121208\n",
      "24V MPFI DOHC                                    71464\n",
      "16V MPFI DOHC                                    58585\n",
      "16V GDI DOHC                                     56200\n",
      "24V GDI DOHC                                     44183\n",
      "                                                 ...  \n",
      "DUTY V8 HEMI W/MDS -inc: 11.50\" Single Wheel         1\n",
      "hp                                                   1\n",
      "VVT-i 16-valve 4-cyl hybrid engine                   1\n",
      "SFI 16-valve dual VVT-i I4 engine                    1\n",
      "10V MPFI SOHC                                        1\n",
      "Name: Engine Features, Length: 1158, dtype: int64, \n",
      "\n"
     ]
    }
   ],
   "source": [
    "for feature in df.columns.tolist():\n",
    "    print(f\"{df[feature].value_counts()}, \\n\")"
   ]
  },
  {
   "cell_type": "markdown",
   "metadata": {},
   "source": [
    "<a id=\"6\"></a>\n",
    "<font color = 'blue'> \n",
    "## **6. Exploratory Data Analysis (EDA)**"
   ]
  },
  {
   "cell_type": "markdown",
   "metadata": {},
   "source": [
    "<a id=\"61\"></a>\n",
    "<font color = 'blue'> \n",
    "### ***1. Filtering data***\n"
   ]
  },
  {
   "cell_type": "markdown",
   "metadata": {},
   "source": [
    "* #### Handle Missing value\n",
    "   * Price Column - Target"
   ]
  },
  {
   "cell_type": "code",
   "execution_count": 6,
   "metadata": {},
   "outputs": [
    {
     "data": {
      "image/png": "[encoded data removed]",
      "text/plain": [
       "<Figure size 1000x600 with 1 Axes>"
      ]
     },
     "metadata": {},
     "output_type": "display_data"
    }
   ],
   "source": [
    "# before shrinkage\n",
    "mean_prices_by_year = df.groupby('year')['price'].mean().reset_index()\n",
    "\n",
    "plt.figure(figsize=(10, 6))\n",
    "plt.plot(mean_prices_by_year['year'], mean_prices_by_year['price'], marker='o', linestyle='-')\n",
    "plt.title('Average Price by year (before shrinking the range)', fontsize=20)\n",
    "plt.xlabel('year', fontsize=20)\n",
    "plt.ylabel('Average Price', fontsize=20)\n",
    "plt.xticks(ha='right', fontsize=18)\n",
    "plt.yticks(fontsize=18)\n",
    "plt.grid(True)\n",
    "plt.show()"
   ]
  },
  {
   "cell_type": "markdown",
   "metadata": {},
   "source": [
    "<div class=\"alert alert-block alert-info\">\n",
    "<b>Problem:</b>\n",
    "The original dataset has the abnormal Average Price in year 2009. So, we shrink the Price in the range (0,200000). This could a way to handle outliers. \n",
    "</div>\n",
    "\n"
   ]
  },
  {
   "cell_type": "code",
   "execution_count": 7,
   "metadata": {},
   "outputs": [
    {
     "data": {
      "image/png": "[encoded data removed]",
      "text/plain": [
       "<Figure size 1000x600 with 1 Axes>"
      ]
     },
     "metadata": {},
     "output_type": "display_data"
    }
   ],
   "source": [
    "# Filter the DataFrame to include data from 2010 to the present\n",
    "df_filtered = df[df['year'] >= 2010]\n",
    "\n",
    "# Group by year and calculate the mean price\n",
    "mean_prices_by_year = df_filtered.groupby('year')['price'].mean().reset_index()\n",
    "\n",
    "# Plot the data\n",
    "plt.figure(figsize=(10, 6))\n",
    "plt.plot(mean_prices_by_year['year'], mean_prices_by_year['price'], marker='o', linestyle='-')\n",
    "plt.title('Average Price by year (2010 to present)', fontsize=20)\n",
    "plt.xlabel('Year', fontsize=20)\n",
    "plt.ylabel('Average Price', fontsize=20)\n",
    "plt.xticks(ha='right', fontsize=18)\n",
    "plt.yticks(fontsize=18)\n",
    "plt.grid(True)\n",
    "plt.show()"
   ]
  },
  {
   "cell_type": "code",
   "execution_count": 8,
   "metadata": {},
   "outputs": [],
   "source": [
    "df = df.loc[df['price'].between(0, 200000)].copy()"
   ]
  },
  {
   "cell_type": "code",
   "execution_count": 9,
   "metadata": {},
   "outputs": [],
   "source": [
    "# Group by the 'year' column and calculate the Average Price for each year\n",
    "yearly_mean_prices = df.groupby('year')['price'].mean()\n",
    "\n",
    "# Fill NaN values in the 'price' column with the Average Price of their respective year\n",
    "df['price'].fillna(df['year'].map(yearly_mean_prices), inplace=True)"
   ]
  },
  {
   "cell_type": "code",
   "execution_count": 10,
   "metadata": {},
   "outputs": [
    {
     "data": {
      "image/png": "[encoded data removed]",
      "text/plain": [
       "<Figure size 1000x600 with 1 Axes>"
      ]
     },
     "metadata": {},
     "output_type": "display_data"
    }
   ],
   "source": [
    "mean_prices_by_year = df.groupby('year')['price'].mean().reset_index()\n",
    "\n",
    "plt.figure(figsize=(10, 6))\n",
    "plt.plot(mean_prices_by_year['year'], mean_prices_by_year['price'], marker='o', linestyle='-')\n",
    "plt.title('Average Price by year (after remove outliers)', fontsize=20)\n",
    "plt.xlabel('year', fontsize=20)\n",
    "plt.ylabel('Average Price', fontsize=20)\n",
    "plt.xticks(ha='right', fontsize=18)\n",
    "plt.yticks(fontsize=18)\n",
    "plt.grid(True)\n",
    "plt.show()"
   ]
  },
  {
   "cell_type": "markdown",
   "metadata": {},
   "source": [
    "#### Mapping from long form to abbreviation\n"
   ]
  },
  {
   "cell_type": "markdown",
   "metadata": {},
   "source": [
    "* `Drivetrain`"
   ]
  },
  {
   "cell_type": "code",
   "execution_count": 11,
   "metadata": {},
   "outputs": [],
   "source": [
    "drivetrain_mapping = {\n",
    "    'All-wheel Drive': 'AWD',\n",
    "    'Front-wheel Drive': 'FWD',\n",
    "    'Four-wheel Drive': '4WD',\n",
    "    'Rear-wheel Drive': 'RWD'\n",
    "}\n",
    "df['drivetrain'] = df['drivetrain'].replace(drivetrain_mapping)"
   ]
  },
  {
   "cell_type": "markdown",
   "metadata": {},
   "source": [
    "* fuel_type"
   ]
  },
  {
   "cell_type": "code",
   "execution_count": 12,
   "metadata": {},
   "outputs": [],
   "source": [
    "drivetrain_mapping = {\n",
    "    'Gasoline Fuel': 'Gasoline',\n",
    "    'Gas': 'Gasoline',\n",
    "    'Plug-In Hybrid': 'Hybrid',\n",
    "    'Hybrid Fuel': 'Hybrid',\n",
    "    'Gas/Electric Hybrid': 'Hybrid',\n",
    "    'Gasoline/Mild Electric Hybrid': 'Hybrid',\n",
    "    'Diesel Fuel': 'Diesel',\n",
    "    'Rear-wheel Drive': 'Electric',\n",
    "    'E85 Flex Fuel': 'Flex Fuel',\n",
    "    'Flex Fuel Capability': 'Flex Fuel'\n",
    "}\n",
    "df['fuel_type'] = df['fuel_type'].replace(drivetrain_mapping)"
   ]
  },
  {
   "cell_type": "markdown",
   "metadata": {},
   "source": [
    "* #### Splitting `MPG` column into two separate columns"
   ]
  },
  {
   "cell_type": "code",
   "execution_count": 13,
   "metadata": {},
   "outputs": [],
   "source": [
    "df['mpg'].fillna('0-0', inplace=True)"
   ]
  },
  {
   "cell_type": "code",
   "execution_count": 14,
   "metadata": {},
   "outputs": [],
   "source": [
    "# Split the \"MPG Range\" into two columns\n",
    "df[['City MPG', 'Highway MPG']] = df['mpg'].str.split('-', expand=True)"
   ]
  },
  {
   "cell_type": "code",
   "execution_count": 15,
   "metadata": {},
   "outputs": [],
   "source": [
    "# Custom function to convert elements to int or replace with zero\n",
    "def convert_to_int_or_zero(value):\n",
    "    if isinstance(value, str):\n",
    "        # Remove non-numeric characters and try to convert to int\n",
    "        numeric_value = ''.join(filter(str.isdigit, value))\n",
    "        if numeric_value:\n",
    "            return int(numeric_value)\n",
    "    return 0\n",
    "\n",
    "# Apply the custom function to 'City MPG' and 'Highway MPG' columns\n",
    "df['City MPG'] = df['City MPG'].apply(convert_to_int_or_zero)\n",
    "df['Highway MPG'] = df['Highway MPG'].apply(convert_to_int_or_zero)"
   ]
  },
  {
   "cell_type": "code",
   "execution_count": 16,
   "metadata": {},
   "outputs": [],
   "source": [
    "# Replace \"N/A\" values with 0\n",
    "df['City MPG'] .replace(0, np.nan, inplace=True)\n",
    "df['Highway MPG'].replace(0, np.nan, inplace=True)"
   ]
  },
  {
   "cell_type": "code",
   "execution_count": 17,
   "metadata": {},
   "outputs": [],
   "source": [
    "df= df.drop('mpg', axis=1)"
   ]
  },
  {
   "cell_type": "code",
   "execution_count": 18,
   "metadata": {},
   "outputs": [
    {
     "data": {
      "text/plain": [
       "manufacturer                    0\n",
       "model                           0\n",
       "year                            0\n",
       "mileage                       478\n",
       "transmission                 9558\n",
       "drivetrain                  19410\n",
       "fuel_type                   21103\n",
       "exterior_color               8680\n",
       "interior_color              56253\n",
       "accidents_or_damage         24026\n",
       "one_owner                   29230\n",
       "personal_use_only           24130\n",
       "seller_name                  8495\n",
       "seller_rating              210877\n",
       "driver_rating               29309\n",
       "driver_reviews_num              0\n",
       "price_drop                 348758\n",
       "price                           0\n",
       "Engine Displacement (L)    116191\n",
       "Engine Type                116191\n",
       "Engine Features            116191\n",
       "City MPG                   145894\n",
       "Highway MPG                153944\n",
       "dtype: int64"
      ]
     },
     "execution_count": 18,
     "metadata": {},
     "output_type": "execute_result"
    }
   ],
   "source": [
    "df.isnull().sum()"
   ]
  },
  {
   "cell_type": "code",
   "execution_count": 19,
   "metadata": {},
   "outputs": [
    {
     "data": {
      "image/png": "[encoded data removed]",
      "text/plain": [
       "<Figure size 1200x600 with 2 Axes>"
      ]
     },
     "metadata": {},
     "output_type": "display_data"
    }
   ],
   "source": [
    "def create_mpg_histogram(data, title_str):\n",
    "    plt.figure(figsize=(12, 6))\n",
    "\n",
    "    plt.subplot(1, 2, 1)\n",
    "    plt.hist(data['City MPG'], bins=20, color='skyblue', edgecolor='black')\n",
    "    plt.title('City MPG Histogram ' + title_str + ' Replacing NAN', fontsize=16)\n",
    "    plt.xlabel('City MPG', fontsize=20)\n",
    "    # Add font size for ticks\n",
    "    plt.xticks(ha='right', fontsize=18)\n",
    "    plt.yticks(fontsize=18)\n",
    "    plt.ylabel('Frequency', fontsize=20)\n",
    "        \n",
    "\n",
    "    plt.subplot(1, 2, 2)\n",
    "    plt.hist(data['Highway MPG'], bins=20, color='lightcoral', edgecolor='black')\n",
    "    plt.title('Highway MPG Histogram ' + title_str + ' Replacing NAN', fontsize=16)\n",
    "    plt.xlabel('Highway MPG', fontsize=20)\n",
    "    plt.ylabel('Frequency', fontsize=20)\n",
    "    # Add font size for ticks\n",
    "    plt.xticks(ha='right', fontsize=18)\n",
    "    plt.yticks(fontsize=18)\n",
    "    plt.tight_layout()\n",
    "\n",
    "    # Show the histograms\n",
    "    plt.show()\n",
    "    \n",
    "create_mpg_histogram(df, 'Before')"
   ]
  },
  {
   "cell_type": "markdown",
   "metadata": {},
   "source": [
    "* #### **Replace `NAN` in '`City MPG`' and '`Highway MPG`' by the `Mean` of each column**"
   ]
  },
  {
   "cell_type": "code",
   "execution_count": 20,
   "metadata": {},
   "outputs": [],
   "source": [
    "df['City MPG'] .replace(np.nan,df['City MPG'].mean(), inplace=True)\n",
    "df['Highway MPG'].replace(np.nan,df['Highway MPG'].mean(), inplace=True)"
   ]
  },
  {
   "cell_type": "code",
   "execution_count": 21,
   "metadata": {},
   "outputs": [
    {
     "data": {
      "image/png": "[encoded data removed]",
      "text/plain": [
       "<Figure size 1200x600 with 2 Axes>"
      ]
     },
     "metadata": {},
     "output_type": "display_data"
    }
   ],
   "source": [
    "create_mpg_histogram(df, 'After')"
   ]
  },
  {
   "cell_type": "code",
   "execution_count": 22,
   "metadata": {},
   "outputs": [],
   "source": [
    "df= df.drop('price_drop', axis=1)       #Drop this column since it does not provide useful information and has a lot of null values."
   ]
  },
  {
   "cell_type": "markdown",
   "metadata": {},
   "source": [
    "* #### **Handling `NAN` in `seller_rating`**"
   ]
  },
  {
   "cell_type": "code",
   "execution_count": 23,
   "metadata": {},
   "outputs": [
    {
     "data": {
      "image/png": "[encoded data removed]",
      "text/plain": [
       "<Figure size 1200x600 with 1 Axes>"
      ]
     },
     "metadata": {},
     "output_type": "display_data"
    }
   ],
   "source": [
    "\n",
    "def create_seller_rating_histograms(data, title_str):\n",
    "    plt.figure(figsize=(12, 6))\n",
    "\n",
    "    plt.subplot(1, 2, 1)\n",
    "    plt.hist(data['seller_rating'], bins=20, color='skyblue', edgecolor='black')\n",
    "    plt.title('seller_rating Histogram ' + title_str + ' Replacing NAN', fontsize=16)\n",
    "    plt.xlabel('seller_rating', fontsize=20)\n",
    "    plt.ylabel('Frequency', fontsize=20)\n",
    "    # Add font size for ticks\n",
    "    plt.xticks(ha='right', fontsize=18)\n",
    "    plt.yticks(fontsize=18)\n",
    "        \n",
    "    plt.tight_layout()\n",
    "\n",
    "    # Show the histograms\n",
    "    plt.show()\n",
    "    \n",
    "create_seller_rating_histograms(df, 'Before')"
   ]
  },
  {
   "cell_type": "code",
   "execution_count": 24,
   "metadata": {},
   "outputs": [],
   "source": [
    "df['seller_rating'].replace(np.nan,df['seller_rating'].mean(), inplace=True) #replace missing value by the mean"
   ]
  },
  {
   "cell_type": "code",
   "execution_count": 25,
   "metadata": {},
   "outputs": [
    {
     "data": {
      "image/png": "[encoded data removed]",
      "text/plain": [
       "<Figure size 1200x600 with 1 Axes>"
      ]
     },
     "metadata": {},
     "output_type": "display_data"
    }
   ],
   "source": [
    "create_seller_rating_histograms(df, 'After')"
   ]
  },
  {
   "cell_type": "code",
   "execution_count": 26,
   "metadata": {},
   "outputs": [
    {
     "data": {
      "text/html": [
       "<div>\n",
       "<style scoped>\n",
       "    .dataframe tbody tr th:only-of-type {\n",
       "        vertical-align: middle;\n",
       "    }\n",
       "\n",
       "    .dataframe tbody tr th {\n",
       "        vertical-align: top;\n",
       "    }\n",
       "\n",
       "    .dataframe thead th {\n",
       "        text-align: right;\n",
       "    }\n",
       "</style>\n",
       "<table border=\"1\" class=\"dataframe\">\n",
       "  <thead>\n",
       "    <tr style=\"text-align: right;\">\n",
       "      <th></th>\n",
       "      <th>manufacturer</th>\n",
       "      <th>model</th>\n",
       "      <th>year</th>\n",
       "      <th>mileage</th>\n",
       "      <th>transmission</th>\n",
       "      <th>drivetrain</th>\n",
       "      <th>fuel_type</th>\n",
       "      <th>exterior_color</th>\n",
       "      <th>interior_color</th>\n",
       "      <th>accidents_or_damage</th>\n",
       "      <th>...</th>\n",
       "      <th>seller_name</th>\n",
       "      <th>seller_rating</th>\n",
       "      <th>driver_rating</th>\n",
       "      <th>driver_reviews_num</th>\n",
       "      <th>price</th>\n",
       "      <th>Engine Displacement (L)</th>\n",
       "      <th>Engine Type</th>\n",
       "      <th>Engine Features</th>\n",
       "      <th>City MPG</th>\n",
       "      <th>Highway MPG</th>\n",
       "    </tr>\n",
       "  </thead>\n",
       "  <tbody>\n",
       "    <tr>\n",
       "      <th>2</th>\n",
       "      <td>Acura</td>\n",
       "      <td>Integra A-Spec</td>\n",
       "      <td>2023</td>\n",
       "      <td>6.0</td>\n",
       "      <td>Automatic CVT</td>\n",
       "      <td>FWD</td>\n",
       "      <td>Gasoline</td>\n",
       "      <td>Red</td>\n",
       "      <td>Ebony</td>\n",
       "      <td>0.0</td>\n",
       "      <td>...</td>\n",
       "      <td>Glenview Luxury Imports</td>\n",
       "      <td>4.900000</td>\n",
       "      <td>4.6</td>\n",
       "      <td>5</td>\n",
       "      <td>37434</td>\n",
       "      <td>1.5</td>\n",
       "      <td>I4</td>\n",
       "      <td>16V GDI DOHC Turbo</td>\n",
       "      <td>29.000000</td>\n",
       "      <td>36.000000</td>\n",
       "    </tr>\n",
       "    <tr>\n",
       "      <th>3</th>\n",
       "      <td>Acura</td>\n",
       "      <td>Integra A-Spec Technology</td>\n",
       "      <td>2023</td>\n",
       "      <td>9705.0</td>\n",
       "      <td>Automatic CVT</td>\n",
       "      <td>FWD</td>\n",
       "      <td>Gasoline</td>\n",
       "      <td>Platinum White Pearl</td>\n",
       "      <td>Ebony</td>\n",
       "      <td>0.0</td>\n",
       "      <td>...</td>\n",
       "      <td>Lindsay Acura</td>\n",
       "      <td>3.600000</td>\n",
       "      <td>4.6</td>\n",
       "      <td>5</td>\n",
       "      <td>34516</td>\n",
       "      <td>1.5</td>\n",
       "      <td>I4</td>\n",
       "      <td>16V GDI DOHC Turbo</td>\n",
       "      <td>29.000000</td>\n",
       "      <td>36.000000</td>\n",
       "    </tr>\n",
       "    <tr>\n",
       "      <th>6</th>\n",
       "      <td>Acura</td>\n",
       "      <td>Integra A-Spec Technology</td>\n",
       "      <td>2023</td>\n",
       "      <td>10805.0</td>\n",
       "      <td>6-Speed Manual</td>\n",
       "      <td>FWD</td>\n",
       "      <td>Gasoline</td>\n",
       "      <td>Gray</td>\n",
       "      <td>Ebony</td>\n",
       "      <td>0.0</td>\n",
       "      <td>...</td>\n",
       "      <td>Honda of Keene</td>\n",
       "      <td>4.500000</td>\n",
       "      <td>4.6</td>\n",
       "      <td>5</td>\n",
       "      <td>37500</td>\n",
       "      <td>1.5</td>\n",
       "      <td>I4</td>\n",
       "      <td>16V GDI DOHC Turbo</td>\n",
       "      <td>26.000000</td>\n",
       "      <td>36.000000</td>\n",
       "    </tr>\n",
       "    <tr>\n",
       "      <th>7</th>\n",
       "      <td>Acura</td>\n",
       "      <td>Integra A-Spec</td>\n",
       "      <td>2023</td>\n",
       "      <td>6612.0</td>\n",
       "      <td>Automatic CVT</td>\n",
       "      <td>FWD</td>\n",
       "      <td>Gasoline</td>\n",
       "      <td>Apex Blue Pearl</td>\n",
       "      <td>Ebony</td>\n",
       "      <td>0.0</td>\n",
       "      <td>...</td>\n",
       "      <td>Audi Fort Myers</td>\n",
       "      <td>4.600000</td>\n",
       "      <td>4.6</td>\n",
       "      <td>5</td>\n",
       "      <td>32995</td>\n",
       "      <td>1.5</td>\n",
       "      <td>I4</td>\n",
       "      <td>16V GDI DOHC Turbo</td>\n",
       "      <td>29.000000</td>\n",
       "      <td>36.000000</td>\n",
       "    </tr>\n",
       "    <tr>\n",
       "      <th>8</th>\n",
       "      <td>Acura</td>\n",
       "      <td>Integra A-Spec Technology</td>\n",
       "      <td>2023</td>\n",
       "      <td>3305.0</td>\n",
       "      <td>Automatic CVT</td>\n",
       "      <td>FWD</td>\n",
       "      <td>Gasoline</td>\n",
       "      <td>Performance Red Pearl</td>\n",
       "      <td>Orchid</td>\n",
       "      <td>0.0</td>\n",
       "      <td>...</td>\n",
       "      <td>Acura of Concord</td>\n",
       "      <td>4.159732</td>\n",
       "      <td>4.6</td>\n",
       "      <td>5</td>\n",
       "      <td>34019</td>\n",
       "      <td>1.5</td>\n",
       "      <td>I4</td>\n",
       "      <td>16V GDI DOHC Turbo</td>\n",
       "      <td>29.000000</td>\n",
       "      <td>36.000000</td>\n",
       "    </tr>\n",
       "    <tr>\n",
       "      <th>...</th>\n",
       "      <td>...</td>\n",
       "      <td>...</td>\n",
       "      <td>...</td>\n",
       "      <td>...</td>\n",
       "      <td>...</td>\n",
       "      <td>...</td>\n",
       "      <td>...</td>\n",
       "      <td>...</td>\n",
       "      <td>...</td>\n",
       "      <td>...</td>\n",
       "      <td>...</td>\n",
       "      <td>...</td>\n",
       "      <td>...</td>\n",
       "      <td>...</td>\n",
       "      <td>...</td>\n",
       "      <td>...</td>\n",
       "      <td>...</td>\n",
       "      <td>...</td>\n",
       "      <td>...</td>\n",
       "      <td>...</td>\n",
       "      <td>...</td>\n",
       "    </tr>\n",
       "    <tr>\n",
       "      <th>758016</th>\n",
       "      <td>Toyota</td>\n",
       "      <td>Camry LE</td>\n",
       "      <td>1995</td>\n",
       "      <td>126451.0</td>\n",
       "      <td>4-Speed Automatic</td>\n",
       "      <td>RWD</td>\n",
       "      <td>Gasoline</td>\n",
       "      <td>Tan</td>\n",
       "      <td>Tan</td>\n",
       "      <td>0.0</td>\n",
       "      <td>...</td>\n",
       "      <td>Uzdcarz Inc.</td>\n",
       "      <td>4.159732</td>\n",
       "      <td>4.5</td>\n",
       "      <td>32</td>\n",
       "      <td>3488</td>\n",
       "      <td>3.0</td>\n",
       "      <td>V6</td>\n",
       "      <td>24V SPFI DOHC</td>\n",
       "      <td>20.000000</td>\n",
       "      <td>28.000000</td>\n",
       "    </tr>\n",
       "    <tr>\n",
       "      <th>758017</th>\n",
       "      <td>Toyota</td>\n",
       "      <td>4Runner SR5 V6</td>\n",
       "      <td>1995</td>\n",
       "      <td>200331.0</td>\n",
       "      <td>5-Speed Manual</td>\n",
       "      <td>4WD</td>\n",
       "      <td>Gasoline</td>\n",
       "      <td>Dark Gray Metallic</td>\n",
       "      <td>Gray</td>\n",
       "      <td>0.0</td>\n",
       "      <td>...</td>\n",
       "      <td>Columbia Motors</td>\n",
       "      <td>2.900000</td>\n",
       "      <td>4.2</td>\n",
       "      <td>8</td>\n",
       "      <td>9991</td>\n",
       "      <td>3.0</td>\n",
       "      <td>V6</td>\n",
       "      <td>SPFI SOHC</td>\n",
       "      <td>13.000000</td>\n",
       "      <td>16.000000</td>\n",
       "    </tr>\n",
       "    <tr>\n",
       "      <th>758020</th>\n",
       "      <td>Toyota</td>\n",
       "      <td>Corolla DX</td>\n",
       "      <td>1995</td>\n",
       "      <td>168722.0</td>\n",
       "      <td>5-Speed Manual</td>\n",
       "      <td>FWD</td>\n",
       "      <td>Gasoline</td>\n",
       "      <td>Wintergreen Metallic</td>\n",
       "      <td>Gray</td>\n",
       "      <td>1.0</td>\n",
       "      <td>...</td>\n",
       "      <td>Performance Toyota Bountiful</td>\n",
       "      <td>4.200000</td>\n",
       "      <td>4.3</td>\n",
       "      <td>18</td>\n",
       "      <td>5000</td>\n",
       "      <td>1.8</td>\n",
       "      <td>I4</td>\n",
       "      <td>16V SPFI SOHC</td>\n",
       "      <td>28.000000</td>\n",
       "      <td>34.000000</td>\n",
       "    </tr>\n",
       "    <tr>\n",
       "      <th>758028</th>\n",
       "      <td>Toyota</td>\n",
       "      <td>Land Cruiser</td>\n",
       "      <td>1995</td>\n",
       "      <td>237603.0</td>\n",
       "      <td>4-Speed Automatic</td>\n",
       "      <td>4WD</td>\n",
       "      <td>Gasoline</td>\n",
       "      <td>Green</td>\n",
       "      <td>Tan</td>\n",
       "      <td>1.0</td>\n",
       "      <td>...</td>\n",
       "      <td>Dynamic Motorsports Of Texas</td>\n",
       "      <td>4.159732</td>\n",
       "      <td>4.6</td>\n",
       "      <td>6</td>\n",
       "      <td>16995</td>\n",
       "      <td>4.5</td>\n",
       "      <td>I6</td>\n",
       "      <td>24V SPFI DOHC</td>\n",
       "      <td>13.000000</td>\n",
       "      <td>16.000000</td>\n",
       "    </tr>\n",
       "    <tr>\n",
       "      <th>758033</th>\n",
       "      <td>Volkswagen</td>\n",
       "      <td>Eurovan Campmobile</td>\n",
       "      <td>1995</td>\n",
       "      <td>190336.0</td>\n",
       "      <td>5-Speed Manual</td>\n",
       "      <td>FWD</td>\n",
       "      <td>Gasoline</td>\n",
       "      <td>White</td>\n",
       "      <td>Gray</td>\n",
       "      <td>0.0</td>\n",
       "      <td>...</td>\n",
       "      <td>Lot 99</td>\n",
       "      <td>1.400000</td>\n",
       "      <td>4.8</td>\n",
       "      <td>3</td>\n",
       "      <td>25995</td>\n",
       "      <td>5.2</td>\n",
       "      <td>I5</td>\n",
       "      <td>10V SOHC</td>\n",
       "      <td>21.622774</td>\n",
       "      <td>28.657079</td>\n",
       "    </tr>\n",
       "  </tbody>\n",
       "</table>\n",
       "<p>543756 rows × 22 columns</p>\n",
       "</div>"
      ],
      "text/plain": [
       "       manufacturer                      model  year   mileage  \\\n",
       "2             Acura             Integra A-Spec  2023       6.0   \n",
       "3             Acura  Integra A-Spec Technology  2023    9705.0   \n",
       "6             Acura  Integra A-Spec Technology  2023   10805.0   \n",
       "7             Acura             Integra A-Spec  2023    6612.0   \n",
       "8             Acura  Integra A-Spec Technology  2023    3305.0   \n",
       "...             ...                        ...   ...       ...   \n",
       "758016       Toyota                   Camry LE  1995  126451.0   \n",
       "758017       Toyota             4Runner SR5 V6  1995  200331.0   \n",
       "758020       Toyota                 Corolla DX  1995  168722.0   \n",
       "758028       Toyota               Land Cruiser  1995  237603.0   \n",
       "758033   Volkswagen         Eurovan Campmobile  1995  190336.0   \n",
       "\n",
       "             transmission drivetrain fuel_type         exterior_color  \\\n",
       "2           Automatic CVT        FWD  Gasoline                    Red   \n",
       "3           Automatic CVT        FWD  Gasoline   Platinum White Pearl   \n",
       "6          6-Speed Manual        FWD  Gasoline                   Gray   \n",
       "7           Automatic CVT        FWD  Gasoline        Apex Blue Pearl   \n",
       "8           Automatic CVT        FWD  Gasoline  Performance Red Pearl   \n",
       "...                   ...        ...       ...                    ...   \n",
       "758016  4-Speed Automatic        RWD  Gasoline                    Tan   \n",
       "758017     5-Speed Manual        4WD  Gasoline     Dark Gray Metallic   \n",
       "758020     5-Speed Manual        FWD  Gasoline   Wintergreen Metallic   \n",
       "758028  4-Speed Automatic        4WD  Gasoline                  Green   \n",
       "758033     5-Speed Manual        FWD  Gasoline                  White   \n",
       "\n",
       "       interior_color  accidents_or_damage  ...                   seller_name  \\\n",
       "2               Ebony                  0.0  ...       Glenview Luxury Imports   \n",
       "3               Ebony                  0.0  ...                 Lindsay Acura   \n",
       "6               Ebony                  0.0  ...                Honda of Keene   \n",
       "7               Ebony                  0.0  ...               Audi Fort Myers   \n",
       "8              Orchid                  0.0  ...              Acura of Concord   \n",
       "...               ...                  ...  ...                           ...   \n",
       "758016            Tan                  0.0  ...                  Uzdcarz Inc.   \n",
       "758017           Gray                  0.0  ...               Columbia Motors   \n",
       "758020           Gray                  1.0  ...  Performance Toyota Bountiful   \n",
       "758028            Tan                  1.0  ...  Dynamic Motorsports Of Texas   \n",
       "758033           Gray                  0.0  ...                        Lot 99   \n",
       "\n",
       "        seller_rating driver_rating  driver_reviews_num  price  \\\n",
       "2            4.900000           4.6                   5  37434   \n",
       "3            3.600000           4.6                   5  34516   \n",
       "6            4.500000           4.6                   5  37500   \n",
       "7            4.600000           4.6                   5  32995   \n",
       "8            4.159732           4.6                   5  34019   \n",
       "...               ...           ...                 ...    ...   \n",
       "758016       4.159732           4.5                  32   3488   \n",
       "758017       2.900000           4.2                   8   9991   \n",
       "758020       4.200000           4.3                  18   5000   \n",
       "758028       4.159732           4.6                   6  16995   \n",
       "758033       1.400000           4.8                   3  25995   \n",
       "\n",
       "        Engine Displacement (L)  Engine Type     Engine Features   City MPG  \\\n",
       "2                           1.5           I4  16V GDI DOHC Turbo  29.000000   \n",
       "3                           1.5           I4  16V GDI DOHC Turbo  29.000000   \n",
       "6                           1.5           I4  16V GDI DOHC Turbo  26.000000   \n",
       "7                           1.5           I4  16V GDI DOHC Turbo  29.000000   \n",
       "8                           1.5           I4  16V GDI DOHC Turbo  29.000000   \n",
       "...                         ...          ...                 ...        ...   \n",
       "758016                      3.0           V6       24V SPFI DOHC  20.000000   \n",
       "758017                      3.0           V6           SPFI SOHC  13.000000   \n",
       "758020                      1.8           I4       16V SPFI SOHC  28.000000   \n",
       "758028                      4.5           I6       24V SPFI DOHC  13.000000   \n",
       "758033                      5.2           I5            10V SOHC  21.622774   \n",
       "\n",
       "       Highway MPG  \n",
       "2        36.000000  \n",
       "3        36.000000  \n",
       "6        36.000000  \n",
       "7        36.000000  \n",
       "8        36.000000  \n",
       "...            ...  \n",
       "758016   28.000000  \n",
       "758017   16.000000  \n",
       "758020   34.000000  \n",
       "758028   16.000000  \n",
       "758033   28.657079  \n",
       "\n",
       "[543756 rows x 22 columns]"
      ]
     },
     "execution_count": 26,
     "metadata": {},
     "output_type": "execute_result"
    }
   ],
   "source": [
    "df.dropna()"
   ]
  },
  {
   "cell_type": "code",
   "execution_count": 27,
   "metadata": {},
   "outputs": [
    {
     "data": {
      "text/plain": [
       "manufacturer                    0\n",
       "model                           0\n",
       "year                            0\n",
       "mileage                       478\n",
       "transmission                 9558\n",
       "drivetrain                  19410\n",
       "fuel_type                   21103\n",
       "exterior_color               8680\n",
       "interior_color              56253\n",
       "accidents_or_damage         24026\n",
       "one_owner                   29230\n",
       "personal_use_only           24130\n",
       "seller_name                  8495\n",
       "seller_rating                   0\n",
       "driver_rating               29309\n",
       "driver_reviews_num              0\n",
       "price                           0\n",
       "Engine Displacement (L)    116191\n",
       "Engine Type                116191\n",
       "Engine Features            116191\n",
       "City MPG                        0\n",
       "Highway MPG                     0\n",
       "dtype: int64"
      ]
     },
     "execution_count": 27,
     "metadata": {},
     "output_type": "execute_result"
    }
   ],
   "source": [
    "df.isnull().sum() # Checking null values on each column"
   ]
  },
  {
   "cell_type": "code",
   "execution_count": 28,
   "metadata": {},
   "outputs": [
    {
     "name": "stdout",
     "output_type": "stream",
     "text": [
      "16V GDI DOHC Turbo                  121200\n",
      "24V MPFI DOHC                        71454\n",
      "16V MPFI DOHC                        58584\n",
      "16V GDI DOHC                         56198\n",
      "24V GDI DOHC                         43984\n",
      "16V GDI OHV                          21721\n",
      "24V GDI DOHC Twin Turbo              18418\n",
      "16V MPFI OHV                         18140\n",
      "16V MPFI SOHC                        17515\n",
      "24V GDI DOHC Turbo                   15633\n",
      "24V PDI DOHC                         15596\n",
      "16V MPFI DOHC Hybrid                 12292\n",
      "32V DDI OHV Turbo Diesel             11828\n",
      "16V PDI DOHC                         11134\n",
      "32V MPFI DOHC                         9823\n",
      "32V GDI DOHC Twin Turbo               9516\n",
      "24V GDI SOHC                          9065\n",
      "16V MPFI DOHC Turbo                   8086\n",
      "32V GDI DOHC                          6591\n",
      "16V PDI DOHC Turbo                    6468\n",
      "24V PDI DOHC Twin Turbo               6163\n",
      "16V PDI DOHC Hybrid                   6024\n",
      "24V MPFI SOHC                         5982\n",
      "Cylinder Engine Gasoline Fuel         5894\n",
      "24V DDI OHV Turbo Diesel              5792\n",
      "24V MPFI DOHC Flexible Fuel           5679\n",
      "24V GDI DOHC Supercharged             4047\n",
      "12V GDI DOHC Turbo                    3921\n",
      "24V DDI DOHC Turbo Diesel             3567\n",
      "16V GDI DOHC Turbo Hybrid             2996\n",
      "32V PDI DOHC                          2348\n",
      "16V GDI DOHC Hybrid                   2316\n",
      "16V MPFI OHV Flexible Fuel            2276\n",
      "12V MPFI OHV                          2253\n",
      "16V MPFI SOHC Flexible Fuel           2111\n",
      "12V PDI DOHC Turbo                    2079\n",
      "16V GDI DOHC Flexible Fuel            1904\n",
      "16V DDI DOHC Turbo Diesel             1686\n",
      "16V                                   1476\n",
      "16V GDI DOHC Turbo Flexible Fuel      1400\n",
      "Name: Engine Features, dtype: int64\n"
     ]
    }
   ],
   "source": [
    "# Use value_counts to count the frequency of each Engine Type\n",
    "engine_type_counts = df['Engine Features'].value_counts()\n",
    "\n",
    "# Get the top 20 values with the highest frequency\n",
    "top_20_engine_types = engine_type_counts.head(40)\n",
    "\n",
    "# Print the top 20 values and their frequencies\n",
    "print(top_20_engine_types)"
   ]
  },
  {
   "cell_type": "code",
   "execution_count": 29,
   "metadata": {},
   "outputs": [
    {
     "data": {
      "text/plain": [
       "manufacturer                    0\n",
       "model                           0\n",
       "year                            0\n",
       "mileage                       478\n",
       "transmission                 9558\n",
       "drivetrain                  19410\n",
       "fuel_type                   21103\n",
       "exterior_color               8680\n",
       "interior_color              56253\n",
       "accidents_or_damage         24026\n",
       "one_owner                   29230\n",
       "personal_use_only           24130\n",
       "seller_name                  8495\n",
       "seller_rating                   0\n",
       "driver_rating               29309\n",
       "driver_reviews_num              0\n",
       "price                           0\n",
       "Engine Displacement (L)    116191\n",
       "Engine Type                116191\n",
       "Engine Features            116191\n",
       "City MPG                        0\n",
       "Highway MPG                     0\n",
       "dtype: int64"
      ]
     },
     "execution_count": 29,
     "metadata": {},
     "output_type": "execute_result"
    }
   ],
   "source": [
    "df.isnull().sum() #count the null values on each column"
   ]
  },
  {
   "cell_type": "markdown",
   "metadata": {},
   "source": [
    "We still have a lot of null value"
   ]
  },
  {
   "cell_type": "code",
   "execution_count": 30,
   "metadata": {},
   "outputs": [
    {
     "data": {
      "text/plain": [
       "(756724, 22)"
      ]
     },
     "execution_count": 30,
     "metadata": {},
     "output_type": "execute_result"
    }
   ],
   "source": [
    "df.shape"
   ]
  },
  {
   "cell_type": "markdown",
   "metadata": {},
   "source": [
    "* #### ...after filtering data"
   ]
  },
  {
   "cell_type": "code",
   "execution_count": 31,
   "metadata": {},
   "outputs": [
    {
     "name": "stdout",
     "output_type": "stream",
     "text": [
      "Ford             78646\n",
      "Toyota           59390\n",
      "Chevrolet        54813\n",
      "Nissan           48472\n",
      "Jeep             41542\n",
      "Mercedes-Benz    40094\n",
      "Honda            37601\n",
      "BMW              37491\n",
      "Kia              35063\n",
      "GMC              29501\n",
      "Dodge            25091\n",
      "Subaru           24761\n",
      "Volkswagen       24485\n",
      "Hyundai          22202\n",
      "Lexus            21292\n",
      "RAM              19362\n",
      "Audi             17847\n",
      "Cadillac         17585\n",
      "Mazda            15431\n",
      "Buick            14509\n",
      "Chrysler         12609\n",
      "INFINITI         12287\n",
      "Land Rover       12060\n",
      "Porsche          10629\n",
      "Lincoln          10517\n",
      "Volvo            10022\n",
      "Acura             8458\n",
      "Tesla             5883\n",
      "Mitsubishi        5737\n",
      "Jaguar            3344\n",
      "Name: manufacturer, dtype: int64, \n",
      "\n",
      "Fusion SE                                    3172\n",
      "Sportage LX                                  2873\n",
      "Corolla LE                                   2835\n",
      "GLC 300 Base 4MATIC                          2718\n",
      "Sentra SV                                    2652\n",
      "                                             ... \n",
      "435 435i xDrive                                 1\n",
      "435 Gran Coupe 435i xDrive                      1\n",
      "535 Gran Turismo 535i xDrive                    1\n",
      "535 Gran Turismo 535i xDrive Gran Turismo       1\n",
      "850                                             1\n",
      "Name: model, Length: 11240, dtype: int64, \n",
      "\n",
      "2020    133554\n",
      "2021    108606\n",
      "2019    105848\n",
      "2022     80250\n",
      "2018     62804\n",
      "2017     52302\n",
      "2016     42307\n",
      "2015     37066\n",
      "2014     27197\n",
      "2013     21875\n",
      "2023     18012\n",
      "2012     15484\n",
      "2011     11493\n",
      "2010      7745\n",
      "2008      6255\n",
      "2007      5256\n",
      "2009      4857\n",
      "2006      3687\n",
      "2005      2868\n",
      "2004      2440\n",
      "2003      1767\n",
      "2002      1467\n",
      "2001      1004\n",
      "2000       774\n",
      "1999       561\n",
      "1997       342\n",
      "1998       342\n",
      "1995       316\n",
      "1996       243\n",
      "2024         2\n",
      "Name: year, dtype: int64, \n",
      "\n",
      "0.0         1212\n",
      "10.0         267\n",
      "5.0          230\n",
      "6.0          178\n",
      "1.0          165\n",
      "            ... \n",
      "210728.0       1\n",
      "199848.0       1\n",
      "150952.0       1\n",
      "147119.0       1\n",
      "190336.0       1\n",
      "Name: mileage, Length: 158482, dtype: int64, \n",
      "\n",
      "6-Speed Automatic                                   148593\n",
      "8-Speed Automatic                                   139550\n",
      "Automatic CVT                                       108615\n",
      "Automatic                                            95568\n",
      "9-Speed Automatic                                    60954\n",
      "                                                     ...  \n",
      "6 speed selectshift automatic                            1\n",
      "8 speed sport automatic w/paddles                        1\n",
      "6-Speed Shiftable Automatic w/Sport Transmission         1\n",
      "Automatic, 8-Spd w/Tiptronic S                           1\n",
      "Tiptronic                                                1\n",
      "Name: transmission, Length: 964, dtype: int64, \n",
      "\n",
      "FWD                                                            247479\n",
      "AWD                                                            233058\n",
      "4WD                                                            158566\n",
      "RWD                                                             97635\n",
      "All-Wheel Drive                                                   120\n",
      "Front-Wheel Drive                                                 104\n",
      "Front-Wheel Drive with Limited-Slip Differential                   44\n",
      "Four-Wheel Drive                                                   43\n",
      "Four-Wheel Drive with Locking and Limited-Slip Differential        42\n",
      "Unknown                                                            40\n",
      "Rear-Wheel Drive                                                   34\n",
      "All-Wheel Drive with Locking and Limited-Slip Differential         33\n",
      "Four Wheel Drive                                                   22\n",
      "All-Wheel Drive with Locking Differential                          20\n",
      "Front Wheel Drive                                                  17\n",
      "Rear-Wheel Drive with Limited-Slip Differential                    12\n",
      "All Wheel Drive                                                    11\n",
      "Rear Wheel Drive                                                    8\n",
      "4x4                                                                 7\n",
      "Four-Wheel Drive with Locking Differential                          6\n",
      "Engine: 2.4L GDI DOHC 16V I4 -inc: dual CVVT                        5\n",
      "4x2                                                                 2\n",
      "Engine: 1.6L 4-Cyl. 16-Valve MPI                                    1\n",
      "Engine: 2.0L 4-Cylinder MPI 16V DOHC w/Dual CVVT                    1\n",
      "Engine: Lambda II 3.8L GDI DOHC V6 w/Dual CVVT                      1\n",
      "Engine: 2.4L DOHC I4 GDI                                            1\n",
      "Engine: 1.6L DOHC I4 GDI Turbo                                      1\n",
      "4X4                                                                 1\n",
      "Name: drivetrain, dtype: int64, \n",
      "\n",
      "Gasoline                  641323\n",
      "Hybrid                     29319\n",
      "Diesel                     27889\n",
      "Flex Fuel                  18774\n",
      "Electric                   16180\n",
      "B                           1442\n",
      "Flexible Fuel                493\n",
      "Regular Unleaded              56\n",
      "Premium Unleaded              49\n",
      "G                             45\n",
      "Compressed Natural Gas        29\n",
      "Other                          3\n",
      "Hydrogen Fuel Cell             3\n",
      "Electric Fuel System           2\n",
      "Unspecified                    2\n",
      "PHEV                           2\n",
      "Gaseous                        2\n",
      "Plug-In Electric/Gas           1\n",
      "Premium                        1\n",
      "Biodiesel                      1\n",
      "Natural Gas                    1\n",
      "Bio Diesel                     1\n",
      "Automatic                      1\n",
      "Premium (Required)             1\n",
      "E85 Fl                         1\n",
      "Name: fuel_type, dtype: int64, \n",
      "\n",
      "Black                        59678\n",
      "White                        50522\n",
      "Gray                         30060\n",
      "Silver                       24134\n",
      "Blue                         17065\n",
      "                             ...  \n",
      "GARNET RED                       1\n",
      "10988                            1\n",
      "Mescalitio Black Metallic        1\n",
      "Borealis Black Ultra Met         1\n",
      "Oyster Pearl                     1\n",
      "Name: exterior_color, Length: 7216, dtype: int64, \n",
      "\n",
      "Black                      284594\n",
      "Gray                        49477\n",
      "Jet Black                   46065\n",
      "Ebony                       37741\n",
      "Charcoal                    26135\n",
      "                            ...  \n",
      "Brandy/Ebony Accents            1\n",
      "Chestnut Black                  1\n",
      "Mega Carum Spice Grey           1\n",
      "Saddle Full Leather             1\n",
      "Parchment White leather         1\n",
      "Name: interior_color, Length: 4471, dtype: int64, \n",
      "\n",
      "0.0    564289\n",
      "1.0    168409\n",
      "Name: accidents_or_damage, dtype: int64, \n",
      "\n",
      "1.0    409682\n",
      "0.0    317812\n",
      "Name: one_owner, dtype: int64, \n",
      "\n",
      "1.0    480940\n",
      "0.0    251654\n",
      "Name: personal_use_only, dtype: int64, \n",
      "\n",
      "East Coast Auto Source           1034\n",
      "Auto Boutique                     716\n",
      "Adams North Charlotte             642\n",
      "Automotive Avenues                637\n",
      "Pacific Auto Center - Fontana     579\n",
      "                                 ... \n",
      "PERMIAN MITSUBISHI (Sold)           1\n",
      "Evergreen Auto Brokers              1\n",
      "Price Acura                         1\n",
      "MAZDA OF VALLEY STREAM              1\n",
      "Pederson Auto Brokers LLC           1\n",
      "Name: seller_name, Length: 18245, dtype: int64, \n",
      "\n",
      "4.159732    210877\n",
      "4.800000     64241\n",
      "4.700000     56091\n",
      "4.900000     50952\n",
      "4.600000     49032\n",
      "4.500000     40392\n",
      "4.400000     30525\n",
      "4.300000     26315\n",
      "4.200000     21878\n",
      "4.100000     17996\n",
      "5.000000     16849\n",
      "4.000000     16419\n",
      "3.900000     16229\n",
      "3.800000     12135\n",
      "3.600000     11403\n",
      "3.700000     10878\n",
      "3.300000     10199\n",
      "3.400000      9563\n",
      "3.500000      9432\n",
      "3.100000      7585\n",
      "3.200000      6294\n",
      "3.000000      6198\n",
      "2.800000      6013\n",
      "2.600000      4994\n",
      "2.900000      4942\n",
      "2.700000      4739\n",
      "2.400000      4305\n",
      "2.500000      4248\n",
      "1.800000      3864\n",
      "2.200000      3761\n",
      "2.300000      2939\n",
      "2.100000      2910\n",
      "1.900000      2907\n",
      "1.700000      1901\n",
      "2.000000      1612\n",
      "1.600000      1469\n",
      "1.500000      1358\n",
      "1.300000       876\n",
      "1.400000       839\n",
      "1.200000       805\n",
      "1.000000       575\n",
      "1.100000       184\n",
      "Name: seller_rating, dtype: int64, \n",
      "\n",
      "4.7    158569\n",
      "4.8    155799\n",
      "4.6    117971\n",
      "4.5     74739\n",
      "4.9     63574\n",
      "4.4     42396\n",
      "5.0     30694\n",
      "4.3     28530\n",
      "4.2     16829\n",
      "4.1     13123\n",
      "4.0      6764\n",
      "3.8      5187\n",
      "3.9      3764\n",
      "3.7      2722\n",
      "3.6      1532\n",
      "3.4      1383\n",
      "2.8       881\n",
      "3.5       823\n",
      "2.9       726\n",
      "3.0       353\n",
      "2.6       325\n",
      "1.0       269\n",
      "3.2       159\n",
      "2.5       106\n",
      "3.3        99\n",
      "2.2        41\n",
      "2.7        27\n",
      "2.1        14\n",
      "3.1         7\n",
      "2.0         5\n",
      "1.7         4\n",
      "Name: driver_rating, dtype: int64, \n",
      "\n",
      "0      29309\n",
      "2      20722\n",
      "3      16305\n",
      "4      15880\n",
      "1      13001\n",
      "       ...  \n",
      "209       54\n",
      "149       52\n",
      "240       48\n",
      "232       45\n",
      "369       45\n",
      "Name: driver_reviews_num, Length: 369, dtype: int64, \n",
      "\n",
      "19995     3163\n",
      "14995     2783\n",
      "16995     2705\n",
      "18995     2696\n",
      "17995     2693\n",
      "          ... \n",
      "70105        1\n",
      "68040        1\n",
      "71614        1\n",
      "72650        1\n",
      "127795       1\n",
      "Name: price, Length: 62553, dtype: int64, \n",
      "\n",
      "2.0    136419\n",
      "3.5     70885\n",
      "3.6     70516\n",
      "2.5     57591\n",
      "2.4     40181\n",
      "        ...  \n",
      "6.5         8\n",
      "7.5         6\n",
      "4.9         3\n",
      "0.0         1\n",
      "4.1         1\n",
      "Name: Engine Displacement (L), Length: 66, dtype: int64, \n",
      "\n",
      "I4         290862\n",
      "V6         193947\n",
      "V8          91601\n",
      "I6          22602\n",
      "H4          20601\n",
      "            ...  \n",
      "DURAMAX         1\n",
      "V0              1\n",
      "M               1\n",
      "CUMMINS         1\n",
      "NA              1\n",
      "Name: Engine Type, Length: 85, dtype: int64, \n",
      "\n",
      "16V GDI DOHC Turbo                         121200\n",
      "24V MPFI DOHC                               71454\n",
      "16V MPFI DOHC                               58584\n",
      "16V GDI DOHC                                56198\n",
      "24V GDI DOHC                                43984\n",
      "                                            ...  \n",
      "MultiAir -inc: Tigershark                       1\n",
      "DOHC CVVT                                       1\n",
      "24V GDI DOHC Supercharged Flexible Fuel         1\n",
      "DOHC 16V VVT-i                                  1\n",
      "10V MPFI SOHC                                   1\n",
      "Name: Engine Features, Length: 1155, dtype: int64, \n",
      "\n",
      "21.622774     145894\n",
      "19.000000      62295\n",
      "17.000000      51179\n",
      "20.000000      48821\n",
      "22.000000      48126\n",
      "               ...  \n",
      "66.000000          1\n",
      "126.000000         1\n",
      "86.000000          1\n",
      "72.000000          1\n",
      "81.000000          1\n",
      "Name: City MPG, Length: 66, dtype: int64, \n",
      "\n",
      "28.657079     153944\n",
      "25.000000      46977\n",
      "28.000000      46261\n",
      "27.000000      42933\n",
      "30.000000      42452\n",
      "               ...  \n",
      "356.000000         1\n",
      "302.000000         1\n",
      "460.000000         1\n",
      "63.000000          1\n",
      "269.000000         1\n",
      "Name: Highway MPG, Length: 129, dtype: int64, \n",
      "\n"
     ]
    }
   ],
   "source": [
    "for feature in df.columns.tolist():\n",
    "    print(f\"{df[feature].value_counts()}, \\n\")"
   ]
  },
  {
   "cell_type": "code",
   "execution_count": 32,
   "metadata": {},
   "outputs": [
    {
     "name": "stdout",
     "output_type": "stream",
     "text": [
      "<class 'pandas.core.frame.DataFrame'>\n",
      "Int64Index: 756724 entries, 0 to 758034\n",
      "Data columns (total 22 columns):\n",
      " #   Column                   Non-Null Count   Dtype  \n",
      "---  ------                   --------------   -----  \n",
      " 0   manufacturer             756724 non-null  object \n",
      " 1   model                    756724 non-null  object \n",
      " 2   year                     756724 non-null  int64  \n",
      " 3   mileage                  756246 non-null  float64\n",
      " 4   transmission             747166 non-null  object \n",
      " 5   drivetrain               737314 non-null  object \n",
      " 6   fuel_type                735621 non-null  object \n",
      " 7   exterior_color           748044 non-null  object \n",
      " 8   interior_color           700471 non-null  object \n",
      " 9   accidents_or_damage      732698 non-null  float64\n",
      " 10  one_owner                727494 non-null  float64\n",
      " 11  personal_use_only        732594 non-null  float64\n",
      " 12  seller_name              748229 non-null  object \n",
      " 13  seller_rating            756724 non-null  float64\n",
      " 14  driver_rating            727415 non-null  float64\n",
      " 15  driver_reviews_num       756724 non-null  int64  \n",
      " 16  price                    756724 non-null  int64  \n",
      " 17  Engine Displacement (L)  640533 non-null  object \n",
      " 18  Engine Type              640533 non-null  object \n",
      " 19  Engine Features          640533 non-null  object \n",
      " 20  City MPG                 756724 non-null  float64\n",
      " 21  Highway MPG              756724 non-null  float64\n",
      "dtypes: float64(8), int64(3), object(11)\n",
      "memory usage: 132.8+ MB\n"
     ]
    }
   ],
   "source": [
    "df.info() #shows a summary of our dataset"
   ]
  },
  {
   "cell_type": "markdown",
   "metadata": {},
   "source": [
    "* Check and drop **Null** values"
   ]
  },
  {
   "cell_type": "code",
   "execution_count": 33,
   "metadata": {},
   "outputs": [
    {
     "data": {
      "text/plain": [
       "manufacturer                    0\n",
       "model                           0\n",
       "year                            0\n",
       "mileage                       478\n",
       "transmission                 9558\n",
       "drivetrain                  19410\n",
       "fuel_type                   21103\n",
       "exterior_color               8680\n",
       "interior_color              56253\n",
       "accidents_or_damage         24026\n",
       "one_owner                   29230\n",
       "personal_use_only           24130\n",
       "seller_name                  8495\n",
       "seller_rating                   0\n",
       "driver_rating               29309\n",
       "driver_reviews_num              0\n",
       "price                           0\n",
       "Engine Displacement (L)    116191\n",
       "Engine Type                116191\n",
       "Engine Features            116191\n",
       "City MPG                        0\n",
       "Highway MPG                     0\n",
       "dtype: int64"
      ]
     },
     "execution_count": 33,
     "metadata": {},
     "output_type": "execute_result"
    }
   ],
   "source": [
    "df.isnull().sum()"
   ]
  },
  {
   "cell_type": "markdown",
   "metadata": {},
   "source": [
    "There is null value in **fuel_consumption_g_km** column. So, we need to drop these before using it"
   ]
  },
  {
   "cell_type": "code",
   "execution_count": 34,
   "metadata": {},
   "outputs": [],
   "source": [
    "df = df.dropna().reset_index(drop=True)"
   ]
  },
  {
   "cell_type": "markdown",
   "metadata": {},
   "source": [
    "* Check and drop duplicates:"
   ]
  },
  {
   "cell_type": "code",
   "execution_count": 35,
   "metadata": {},
   "outputs": [],
   "source": [
    "df = df.drop_duplicates()"
   ]
  },
  {
   "cell_type": "markdown",
   "metadata": {},
   "source": [
    "The data set after cleaning up"
   ]
  },
  {
   "cell_type": "code",
   "execution_count": 36,
   "metadata": {},
   "outputs": [
    {
     "data": {
      "text/plain": [
       "(537830, 22)"
      ]
     },
     "execution_count": 36,
     "metadata": {},
     "output_type": "execute_result"
    }
   ],
   "source": [
    "df.shape"
   ]
  },
  {
   "cell_type": "markdown",
   "metadata": {},
   "source": [
    "* Counting the data for each feature:"
   ]
  },
  {
   "cell_type": "markdown",
   "metadata": {},
   "source": [
    "We can observe the presence of outliers, and the data spans a wide range."
   ]
  },
  {
   "cell_type": "markdown",
   "metadata": {},
   "source": [
    "<a id=\"62\"></a>\n",
    "<font color = 'blue'> \n",
    "### **2. Detecting outliers**\n",
    "* #### **For numerical columns**"
   ]
  },
  {
   "cell_type": "markdown",
   "metadata": {},
   "source": [
    "Getting numerical columns"
   ]
  },
  {
   "cell_type": "code",
   "execution_count": 37,
   "metadata": {},
   "outputs": [],
   "source": [
    "numerical_cols = df.select_dtypes(include=['int64', 'float64']).columns.tolist()\n",
    "num_columns = df[numerical_cols]"
   ]
  },
  {
   "cell_type": "code",
   "execution_count": 38,
   "metadata": {},
   "outputs": [
    {
     "data": {
      "text/plain": [
       "['year',\n",
       " 'mileage',\n",
       " 'accidents_or_damage',\n",
       " 'one_owner',\n",
       " 'personal_use_only',\n",
       " 'seller_rating',\n",
       " 'driver_rating',\n",
       " 'driver_reviews_num',\n",
       " 'price',\n",
       " 'City MPG',\n",
       " 'Highway MPG']"
      ]
     },
     "execution_count": 38,
     "metadata": {},
     "output_type": "execute_result"
    }
   ],
   "source": [
    "numerical_cols"
   ]
  },
  {
   "cell_type": "markdown",
   "metadata": {},
   "source": [
    "* Average Price by year with outliers"
   ]
  },
  {
   "cell_type": "markdown",
   "metadata": {},
   "source": [
    "<div class=\"alert alert-block alert-warning\">\n",
    "<b>Note:</b>  This method is just applied for <b>numerical features</b>. <br>\n",
    "There is no specific way to detect outlier for <b>categorical columns</b>. We can plot the Frequency vs Price for each categorical columns, and then decide the outliers depend on the frequency.\n",
    "</div>\n"
   ]
  },
  {
   "cell_type": "code",
   "execution_count": 39,
   "metadata": {},
   "outputs": [
    {
     "data": {
      "image/png": "[encoded data removed]",
      "text/plain": [
       "<Figure size 1000x600 with 1 Axes>"
      ]
     },
     "metadata": {},
     "output_type": "display_data"
    }
   ],
   "source": [
    "mean_prices_by_year = df.groupby('year')['price'].mean().reset_index()\n",
    "\n",
    "plt.figure(figsize=(10, 6))\n",
    "plt.plot(mean_prices_by_year['year'], mean_prices_by_year['price'], marker='o', linestyle='-')\n",
    "plt.title('Average Price by year (before removed outliers)', fontsize=20)\n",
    "plt.xlabel('year', fontsize=20)\n",
    "plt.ylabel('Average Price', fontsize=20)\n",
    "plt.xticks(ha='right', fontsize=18)\n",
    "plt.yticks(fontsize=18)\n",
    "plt.grid(True)\n",
    "plt.show()"
   ]
  },
  {
   "cell_type": "markdown",
   "metadata": {},
   "source": [
    "We can see that in 2009, the price was so abnormal "
   ]
  },
  {
   "cell_type": "code",
   "execution_count": 40,
   "metadata": {},
   "outputs": [],
   "source": [
    "Q1 = num_columns[numerical_cols].quantile(0.25)\n",
    "Q3 = num_columns[numerical_cols].quantile(0.75)\n",
    "IQR = Q3 - Q1\n",
    "\n",
    "# Define the lower and upper bounds for outliers\n",
    "lower_bound = Q1 - 1.5 * IQR\n",
    "upper_bound = Q3 + 1.5 * IQR\n",
    "\n",
    "# Identify outliers and create a boolean mask\n",
    "outliers_mask = (num_columns[numerical_cols] < lower_bound) | (num_columns[numerical_cols] > upper_bound)\n",
    "\n",
    "# Drop the rows containing outliers\n",
    "num_columns = num_columns[~outliers_mask]"
   ]
  },
  {
   "cell_type": "code",
   "execution_count": 41,
   "metadata": {},
   "outputs": [
    {
     "data": {
      "text/plain": [
       "['year',\n",
       " 'mileage',\n",
       " 'accidents_or_damage',\n",
       " 'one_owner',\n",
       " 'personal_use_only',\n",
       " 'seller_rating',\n",
       " 'driver_rating',\n",
       " 'driver_reviews_num',\n",
       " 'price',\n",
       " 'City MPG',\n",
       " 'Highway MPG']"
      ]
     },
     "execution_count": 41,
     "metadata": {},
     "output_type": "execute_result"
    }
   ],
   "source": [
    "numerical_cols"
   ]
  },
  {
   "cell_type": "code",
   "execution_count": 42,
   "metadata": {},
   "outputs": [
    {
     "data": {
      "text/plain": [
       "(537830, 11)"
      ]
     },
     "execution_count": 42,
     "metadata": {},
     "output_type": "execute_result"
    }
   ],
   "source": [
    "num_columns.shape"
   ]
  },
  {
   "cell_type": "markdown",
   "metadata": {},
   "source": [
    "This is new numerical columns after removed the outliers"
   ]
  },
  {
   "cell_type": "code",
   "execution_count": 43,
   "metadata": {},
   "outputs": [
    {
     "data": {
      "text/plain": [
       "(300539, 11)"
      ]
     },
     "execution_count": 43,
     "metadata": {},
     "output_type": "execute_result"
    }
   ],
   "source": [
    "new_num_columns= num_columns.dropna() #drop the rows which are contain NAN \n",
    "new_num_columns.shape"
   ]
  },
  {
   "cell_type": "markdown",
   "metadata": {},
   "source": [
    "* Plot Average Price vs Years ((after removed outliers))\n"
   ]
  },
  {
   "cell_type": "code",
   "execution_count": 44,
   "metadata": {},
   "outputs": [
    {
     "data": {
      "image/png": "[encoded data removed]",
      "text/plain": [
       "<Figure size 1000x600 with 1 Axes>"
      ]
     },
     "metadata": {},
     "output_type": "display_data"
    }
   ],
   "source": [
    "mean_prices_by_year = num_columns.groupby('year')['price'].mean().reset_index()\n",
    "\n",
    "plt.figure(figsize=(10, 6))\n",
    "plt.plot(mean_prices_by_year['year'], mean_prices_by_year['price'], marker='o', linestyle='-')\n",
    "plt.title('Average Price by year (after removed outliers)', fontsize=20)\n",
    "plt.xlabel('year', fontsize=20)\n",
    "plt.ylabel('Average Price', fontsize=20)\n",
    "plt.xticks(ha='right', fontsize=18)\n",
    "plt.yticks(fontsize=18)\n",
    "plt.grid(True)\n",
    "plt.show()"
   ]
  },
  {
   "cell_type": "markdown",
   "metadata": {},
   "source": [
    "<a id=\"\"></a>\n",
    "<font color = 'blue'>\n",
    "* ### **For categorical columns:**\n"
   ]
  },
  {
   "cell_type": "markdown",
   "metadata": {},
   "source": [
    "We need to plot them vs Price to see the pattern"
   ]
  },
  {
   "cell_type": "markdown",
   "metadata": {},
   "source": [
    "* Drop 'model', 'seller_name'"
   ]
  },
  {
   "cell_type": "code",
   "execution_count": 45,
   "metadata": {},
   "outputs": [],
   "source": [
    "df=df.drop(['model', 'seller_name'], axis=1)"
   ]
  },
  {
   "cell_type": "code",
   "execution_count": 46,
   "metadata": {},
   "outputs": [],
   "source": [
    "cat_columns= df.select_dtypes(include=['object']).columns.tolist()\n",
    "#these are the columns that we need to plot to detect the outliers"
   ]
  },
  {
   "cell_type": "code",
   "execution_count": 47,
   "metadata": {},
   "outputs": [],
   "source": [
    "df = df.loc[~df['transmission'].isin(['Unknown', 'Semi-automatic'])]"
   ]
  },
  {
   "cell_type": "code",
   "execution_count": 48,
   "metadata": {},
   "outputs": [],
   "source": [
    "def plot_categorical_feature(categorical_columns, data):\n",
    "    figure = plt.figure(figsize=(6, 6 * len(categorical_columns)))\n",
    "\n",
    "    for j, cat_feature in enumerate(categorical_columns):\n",
    "        axes = figure.add_subplot(len(categorical_columns), 1, j + 1)\n",
    "        data[cat_feature].value_counts().plot(ax=axes, kind='bar')\n",
    "        axes.set_xlabel(cat_feature, fontsize=20)\n",
    "        axes.set_ylabel('Frequency', fontsize=20)\n",
    "        axes.set_title(cat_feature, fontsize=20)\n",
    "        \n",
    "    plt.tight_layout()\n",
    "    plt.show()\n",
    "\n",
    "# plot categorical features to detect and remove outliers\n",
    "plot_categorical_feature(cat_columns,df)"
   ]
  },
  {
   "cell_type": "code",
   "execution_count": null,
   "metadata": {},
   "outputs": [],
   "source": [
    "df.shape"
   ]
  },
  {
   "cell_type": "markdown",
   "metadata": {},
   "source": [
    "* `Drivetrain`"
   ]
  },
  {
   "cell_type": "code",
   "execution_count": null,
   "metadata": {},
   "outputs": [],
   "source": [
    "df = df[df['drivetrain'].isin(['FWD', 'AWD', '4WD', 'RWD'])]"
   ]
  },
  {
   "cell_type": "markdown",
   "metadata": {},
   "source": [
    "* `Fuel_type`"
   ]
  },
  {
   "cell_type": "code",
   "execution_count": null,
   "metadata": {},
   "outputs": [],
   "source": [
    "df = df[~df['fuel_type'].isin(['Compressed Natural Gas', 'Bio Diesel', 'Automatic'   ])]"
   ]
  },
  {
   "cell_type": "markdown",
   "metadata": {},
   "source": [
    "* We just keep top 20 classes which are the most common in `exterior_color`, `interior_color`"
   ]
  },
  {
   "cell_type": "code",
   "execution_count": null,
   "metadata": {},
   "outputs": [],
   "source": [
    "value_counts = df['exterior_color'].value_counts()\n",
    "# Get the top 20 most frequent classes\n",
    "top_20_classes = value_counts.index[:20]\n",
    "# Filter the DataFrame to keep rows in the top 20 classes\n",
    "df = df[df['exterior_color'].isin(top_20_classes)]"
   ]
  },
  {
   "cell_type": "code",
   "execution_count": null,
   "metadata": {},
   "outputs": [],
   "source": [
    "value_counts = df['interior_color'].value_counts()\n",
    "# Get the top 20 most frequent classes\n",
    "top_20_classes = value_counts.index[:20]\n",
    "# Filter the DataFrame to keep rows in the top 20 classes\n",
    "df = df[df['interior_color'].isin(top_20_classes)]"
   ]
  },
  {
   "cell_type": "markdown",
   "metadata": {},
   "source": [
    "* `Engine Displacement (L)`"
   ]
  },
  {
   "cell_type": "code",
   "execution_count": null,
   "metadata": {},
   "outputs": [],
   "source": [
    "value_counts = df['Engine Displacement (L)'].value_counts()\n",
    "# Get the top 30 most frequent classes\n",
    "top_30_classes = value_counts.index[:30]\n",
    "# Filter the DataFrame to keep rows in the top 30 classes\n",
    "df = df[df['Engine Displacement (L)'].isin(top_30_classes)]"
   ]
  },
  {
   "cell_type": "markdown",
   "metadata": {},
   "source": [
    "* `Engine Type` (top 10)"
   ]
  },
  {
   "cell_type": "code",
   "execution_count": null,
   "metadata": {},
   "outputs": [],
   "source": [
    "value_counts = df['Engine Type'].value_counts()\n",
    "# Get the top 10 most frequent classes\n",
    "top_10_classes = value_counts.index[:10]\n",
    "# Filter the DataFrame to keep rows in the top 10 classes\n",
    "df = df[df['Engine Type'].isin(top_10_classes)]"
   ]
  },
  {
   "cell_type": "markdown",
   "metadata": {},
   "source": [
    "* `Engine Features`"
   ]
  },
  {
   "cell_type": "code",
   "execution_count": null,
   "metadata": {},
   "outputs": [],
   "source": [
    "value_counts = df['Engine Features'].value_counts()\n",
    "# Get the top 20 most frequent classes\n",
    "top_20_classes = value_counts.index[:20]\n",
    "# Filter the DataFrame to keep rows in the top 20 classes\n",
    "df = df[df['Engine Features'].isin(top_20_classes)]"
   ]
  },
  {
   "cell_type": "markdown",
   "metadata": {},
   "source": [
    "* We just keep top 20 classes which are the most popular in `Transmission`"
   ]
  },
  {
   "cell_type": "code",
   "execution_count": null,
   "metadata": {},
   "outputs": [],
   "source": [
    "# Get the value counts for the 'transmission' column\n",
    "value_counts = df['transmission'].value_counts()\n",
    "\n",
    "# Get the top 20 most frequent classes\n",
    "top_20_classes = value_counts.index[:20]\n",
    "\n",
    "# Filter the DataFrame to keep rows with 'transmission' in the top 20 classes\n",
    "df = df[df['transmission'].isin(top_20_classes)]"
   ]
  },
  {
   "cell_type": "markdown",
   "metadata": {},
   "source": [
    "Let's re-plot the data after cleaning:"
   ]
  },
  {
   "cell_type": "code",
   "execution_count": null,
   "metadata": {},
   "outputs": [],
   "source": [
    "# Plot after cleaning data\n",
    "plot_categorical_feature(cat_columns,df)"
   ]
  },
  {
   "cell_type": "code",
   "execution_count": null,
   "metadata": {},
   "outputs": [],
   "source": [
    "df.reset_index(drop=True)   #reset indexes"
   ]
  },
  {
   "cell_type": "code",
   "execution_count": null,
   "metadata": {},
   "outputs": [],
   "source": [
    "df.info()"
   ]
  },
  {
   "cell_type": "code",
   "execution_count": null,
   "metadata": {},
   "outputs": [],
   "source": [
    "cat_data =df.select_dtypes(include=['object'])"
   ]
  },
  {
   "cell_type": "code",
   "execution_count": null,
   "metadata": {},
   "outputs": [],
   "source": [
    "cleaned_df = pd.concat([new_num_columns, cat_data], axis=1)"
   ]
  },
  {
   "cell_type": "code",
   "execution_count": null,
   "metadata": {},
   "outputs": [],
   "source": [
    "cleaned_df= cleaned_df.dropna().reset_index(drop=True)"
   ]
  },
  {
   "cell_type": "code",
   "execution_count": null,
   "metadata": {},
   "outputs": [],
   "source": [
    "def plot_year_vs_price(data):\n",
    "    mean_prices_grouped_year = data.groupby('year')['price'].mean().reset_index()\n",
    "\n",
    "    plt.figure(figsize=(10, 6))\n",
    "    plt.plot(mean_prices_grouped_year['year'], mean_prices_grouped_year['price'], marker='o', linestyle='-')\n",
    "    plt.title('Average Price by year (after shrinking the range)', fontsize=20)\n",
    "    plt.xlabel('year', fontsize=20)\n",
    "    plt.ylabel('Average Price', fontsize=20)\n",
    "    plt.grid(True)\n",
    "    plt.show()\n",
    "\n",
    "plot_year_vs_price(cleaned_df)"
   ]
  },
  {
   "cell_type": "markdown",
   "metadata": {},
   "source": [
    "<a id=\"63\"></a>\n",
    "<font color = 'blue'>\n",
    "### **3. Labeling Encode**"
   ]
  },
  {
   "cell_type": "code",
   "execution_count": null,
   "metadata": {},
   "outputs": [],
   "source": [
    "cat_columns= cleaned_df.select_dtypes(include=['object']).columns.tolist()\n",
    "# Create a LabelEncoder instance\n",
    "label_encoder = LabelEncoder()\n",
    "\n",
    "# Encode each categorical column\n",
    "for col in cat_columns:\n",
    "    cleaned_df[col] = label_encoder.fit_transform(cleaned_df[col])\n",
    "\n",
    "# Your DataFrame now contains the encoded values\n",
    "cleaned_df"
   ]
  },
  {
   "cell_type": "markdown",
   "metadata": {},
   "source": [
    "* Checking the null values on our cleaned dataset"
   ]
  },
  {
   "cell_type": "code",
   "execution_count": null,
   "metadata": {},
   "outputs": [],
   "source": [
    "cleaned_df.isnull().sum()"
   ]
  },
  {
   "cell_type": "code",
   "execution_count": null,
   "metadata": {},
   "outputs": [],
   "source": [
    "cleaned_df['accidents_or_damage'].value_counts()"
   ]
  },
  {
   "cell_type": "code",
   "execution_count": null,
   "metadata": {},
   "outputs": [],
   "source": [
    "cleaned_df=cleaned_df.drop(['accidents_or_damage'], axis=1)"
   ]
  },
  {
   "cell_type": "code",
   "execution_count": null,
   "metadata": {},
   "outputs": [],
   "source": [
    "df.shape"
   ]
  },
  {
   "cell_type": "markdown",
   "metadata": {},
   "source": [
    "<a id=\"64\"></a>\n",
    "<font color = 'blue'>\n",
    "### **4. Correlation Matrix**"
   ]
  },
  {
   "cell_type": "markdown",
   "metadata": {},
   "source": [
    "The **`correlation matrix`** shows us the correlation coefficients between variables. \n",
    "* If the correlation coefficient is close to 1, it appears a strong positive relationship. That means, if one variable increases, the other tends to increase as well.\n",
    "* If the correlation coefficient is close to -1, it appears a strong negative relationship. That means, if one variable decreases, the other tends to decrease as well.\n",
    "* If the correlation coefficient is close to 0, it appears a weak or no linear relationship between two variables."
   ]
  },
  {
   "cell_type": "code",
   "execution_count": null,
   "metadata": {
    "collapsed": false
   },
   "outputs": [],
   "source": [
    "def heat_map(data, var):\n",
    "    # Calculate the correlation matrix\n",
    "    correlation_matrix = data.corr()\n",
    "\n",
    "    # Create a figure with a specific size\n",
    "    plt.figure(figsize=(len(var) * 2, len(var) * 1.5))\n",
    "\n",
    "    # Create a mask for the upper triangle to focus on the center\n",
    "    mask = np.triu(np.ones_like(correlation_matrix), k=0)\n",
    "\n",
    "    # Customize the color scale (cmap) to emphasize the center\n",
    "    cmap = sns.diverging_palette(220, 10, as_cmap=True)\n",
    "\n",
    "    # Increase the font size for annotations\n",
    "    sns.heatmap(correlation_matrix, annot=True, cmap=cmap, mask=mask,  vmin=-1, vmax=1, fmt=\".2f\", annot_kws={\"size\": 18})\n",
    "    plt.xticks(rotation=45, ha='right',fontsize=20)\n",
    "    plt.yticks(rotation=0, ha='right',fontsize=20)\n",
    "    plt.title('Correlation Heatmap',fontsize=20)\n",
    "\n",
    "    plt.show()"
   ]
  },
  {
   "cell_type": "code",
   "execution_count": null,
   "metadata": {},
   "outputs": [],
   "source": [
    "heat_map(cleaned_df, cleaned_df.columns.tolist())"
   ]
  },
  {
   "cell_type": "markdown",
   "metadata": {},
   "source": [
    "<div class=\"alert alert-block alert-info\"> <b>Tip:</b> We can see there are some correlated features. We need to select the useful feature carefully to get optimize our model as much as possible </div>"
   ]
  },
  {
   "cell_type": "markdown",
   "metadata": {},
   "source": [
    "Our target is `Price`, which is strong relationship to many features. However, the variables outside our target exhibit multicollinearity, such as: City MPG - Highway MPG, year-one owner, and Engine features-Engine Type, Engine Displacement(L), Engine Type, City, Highway MPG, etc."
   ]
  },
  {
   "cell_type": "markdown",
   "metadata": {},
   "source": [
    "We can also use **`variance_inflation_factor`** to diagnose the multicollinearity. Typically, a high VIF value (usually greater than 10) is an indicator of significant multicollinearity. It means that the variance of the coefficient estimate for that variable is 10 times larger than it would be if there were no multicollinearity. "
   ]
  },
  {
   "cell_type": "code",
   "execution_count": null,
   "metadata": {},
   "outputs": [],
   "source": [
    "# Import library for VIF\n",
    "from statsmodels.stats.outliers_influence import variance_inflation_factor\n",
    "\n",
    "def calc_vif(x):\n",
    "    vif = pd.DataFrame()\n",
    "    vif[\"variables\"] = x.columns\n",
    "    vif[\"VIF\"] = [variance_inflation_factor(x.values, i) for i in range(x.shape[1])]\n",
    "    return vif"
   ]
  },
  {
   "cell_type": "markdown",
   "metadata": {},
   "source": [
    "So, let's  drop some features: "
   ]
  },
  {
   "cell_type": "code",
   "execution_count": null,
   "metadata": {},
   "outputs": [],
   "source": [
    "df2=cleaned_df.drop(['Engine Type', 'Engine Features','City MPG','interior_color', 'personal_use_only', 'driver_rating','seller_rating'], axis =1)\n",
    "df2"
   ]
  },
  {
   "cell_type": "code",
   "execution_count": null,
   "metadata": {},
   "outputs": [],
   "source": [
    "heat_map(df2, cleaned_df.columns.tolist())"
   ]
  },
  {
   "cell_type": "code",
   "execution_count": null,
   "metadata": {},
   "outputs": [],
   "source": [
    "calc_vif(df2.drop('price', axis=1))"
   ]
  },
  {
   "cell_type": "markdown",
   "metadata": {},
   "source": [
    "These are the important features that we will use to fit our models:\n",
    "**year,\n",
    "mileage\t,\n",
    "one_owner\t,\n",
    "driver_reviews_num,\t\n",
    "Highway MPG\t,\n",
    "manufacturer,\t\n",
    "transmission,\t\n",
    "drivetrain,\t\n",
    "fuel_type,\t\n",
    "exterior_color,\t\n",
    "Engine Displacement (L),** in dataframe `df2`"
   ]
  },
  {
   "cell_type": "markdown",
   "metadata": {},
   "source": [
    "<a id=\"7\"></a>\n",
    "<font color = 'blue'>\n",
    "## **7. Data Splitting**\n"
   ]
  },
  {
   "cell_type": "code",
   "execution_count": null,
   "metadata": {},
   "outputs": [],
   "source": [
    "X = df2.drop('price', axis=1)\n",
    "Y = df2['price']"
   ]
  },
  {
   "cell_type": "code",
   "execution_count": null,
   "metadata": {},
   "outputs": [],
   "source": [
    "random_state=0"
   ]
  },
  {
   "cell_type": "code",
   "execution_count": null,
   "metadata": {},
   "outputs": [],
   "source": [
    "X_train, X_test, y_train, y_test = train_test_split(X, Y, test_size=0.3, random_state=random_state)"
   ]
  },
  {
   "cell_type": "code",
   "execution_count": null,
   "metadata": {},
   "outputs": [],
   "source": [
    "print(X_train.shape, X_test.shape, y_train.shape, y_test.shape)"
   ]
  },
  {
   "cell_type": "markdown",
   "metadata": {},
   "source": [
    "<a id=\"8\"></a>\n",
    "<font color = 'blue'>\n",
    "## **8. Models Evaluations and Predictions**\n",
    "   "
   ]
  },
  {
   "cell_type": "markdown",
   "metadata": {},
   "source": [
    "<a id=\"81\"></a>\n",
    "<font color = 'blue'>\n",
    "### **8.1 Multiple Linear Regression**\n",
    "   "
   ]
  },
  {
   "cell_type": "markdown",
   "metadata": {},
   "source": [
    "<a id=\"811\"></a>\n",
    "<font color = 'blue'>\n",
    "* #### **8.1.1. Using Sequential Feature Selection for the Linear Regression**\n",
    "      "
   ]
  },
  {
   "cell_type": "markdown",
   "metadata": {},
   "source": [
    "Let's try the **Sequential Feature Selection** method to choose 10-15 significant variables for our model.\n",
    "\n",
    "Learn more: [Sequential Feature Selection](https://scikit-learn.org/stable/modules/feature_selection.html#removing-features-with-low-variance) (Forward/ Backward)\n"
   ]
  },
  {
   "cell_type": "code",
   "execution_count": null,
   "metadata": {},
   "outputs": [],
   "source": [
    "lasso_reg = Lasso(fit_intercept=True, random_state=random_state)\n",
    "sfs = SequentialFeatureSelector(lasso_reg, direction='forward',  n_features_to_select=8).fit(X_train, y_train)"
   ]
  },
  {
   "cell_type": "code",
   "execution_count": null,
   "metadata": {},
   "outputs": [],
   "source": [
    "best_features = sfs.get_feature_names_out()\n",
    "best_features"
   ]
  },
  {
   "cell_type": "code",
   "execution_count": null,
   "metadata": {},
   "outputs": [],
   "source": [
    "heat_map(df2, best_features)"
   ]
  },
  {
   "cell_type": "markdown",
   "metadata": {},
   "source": [
    "**We will use these features to fit our models**"
   ]
  },
  {
   "cell_type": "code",
   "execution_count": null,
   "metadata": {},
   "outputs": [],
   "source": [
    "metrics_df = pd.DataFrame(columns=['Model', 'MAE', 'MSE', 'R2']) # these metrics are used to evaluate our models"
   ]
  },
  {
   "cell_type": "code",
   "execution_count": null,
   "metadata": {},
   "outputs": [],
   "source": [
    "X_train=X_train[best_features]\n",
    "X_test=X_test[best_features]"
   ]
  },
  {
   "cell_type": "code",
   "execution_count": null,
   "metadata": {},
   "outputs": [],
   "source": [
    "LR = LinearRegression(fit_intercept=True)\n",
    "LR.fit(X_train, y_train)\n",
    "y_pred = LR.predict(X_test)"
   ]
  },
  {
   "cell_type": "code",
   "execution_count": null,
   "metadata": {},
   "outputs": [],
   "source": [
    "mae = mean_absolute_error(y_test, y_pred)\n",
    "mse = mean_squared_error(y_test, y_pred)\n",
    "r2 = r2_score(y_test, y_pred)\n",
    "\n",
    "print(\"Model 1 MAE:\", mae)\n",
    "print(\"Model 1 MSE:\", mse)\n",
    "print(\"Model 1 R2:\", r2)"
   ]
  },
  {
   "cell_type": "code",
   "execution_count": null,
   "metadata": {},
   "outputs": [],
   "source": [
    "# Add a constant term to your X_train\n",
    "X_train1 = sm.add_constant(X_train)\n",
    "\n",
    "# Create a linear regression model\n",
    "model = sm.OLS(y_train, X_train1)\n",
    "\n",
    "# Fit the model\n",
    "results = model.fit()\n",
    "\n",
    "# Display the summary\n",
    "print(results.summary())"
   ]
  },
  {
   "cell_type": "code",
   "execution_count": null,
   "metadata": {},
   "outputs": [],
   "source": [
    "# Create a scatterplot of fitted values vs. residuals\n",
    "residuals = y_test - y_pred  # Calculate the residuals\n",
    "\n",
    "# Create a scatterplot\n",
    "plt.figure(figsize=(8, 6))\n",
    "plt.scatter(y_pred, residuals, alpha=0.5)\n",
    "plt.title('Residuals vs. Fitted Values', fontsize=20)\n",
    "plt.xlabel('Fitted Values (Linear Regression)', fontsize=20)\n",
    "plt.ylabel('Residuals', fontsize=20)\n",
    "\n",
    "# Add a horizontal line at y=0 for reference\n",
    "plt.axhline(y=0, color='r', linestyle='--')\n",
    "\n",
    "plt.show()"
   ]
  },
  {
   "cell_type": "markdown",
   "metadata": {},
   "source": [
    "This indicates that there may be a **violation of the assumption of linearity** in our linear regression model. This pattern suggests that the relationship between the independent variables (**features**) and the dependent variable (`price`) is not adequately captured by a simple linear model.\n",
    "\n",
    "So, we need to try **polynomial regression**:"
   ]
  },
  {
   "cell_type": "code",
   "execution_count": null,
   "metadata": {},
   "outputs": [],
   "source": [
    "# TRAINING ERROR PER DEGREE\n",
    "train_rmse_errors = []\n",
    "# TEST ERROR PER DEGREE\n",
    "test_rmse_errors = []\n",
    "#MODEL and METRIC COLLECTION\n",
    "model_collection =[]\n",
    "mae_collection =[]\n",
    "mse_collection =[]\n",
    "r2_collection  =[]\n",
    "y_test_collection=[]\n",
    "\n",
    "for d in range(1,5):\n",
    "    # CREATE POLY DATA SET FOR DEGREE \"d\"\n",
    "    polynomial_converter = PolynomialFeatures(degree=d,include_bias=False)\n",
    "    poly_features = polynomial_converter.fit_transform(X)\n",
    "\n",
    "    # SPLIT THIS NEW POLY DATA SET\n",
    "    X_train1, X_test1, y_train1, y_test1 = train_test_split(poly_features, Y, test_size=0.3, random_state=random_state)\n",
    "\n",
    "    # TRAIN ON THIS NEW POLY SET\n",
    "    model = LinearRegression(fit_intercept=True)\n",
    "    model.fit(X_train1,y_train1)\n",
    "    model_collection.append(model)\n",
    "\n",
    "    # PREDICT ON BOTH TRAIN AND TEST\n",
    "    train_pred = model.predict(X_train1)\n",
    "    test_pred = model.predict(X_test1)\n",
    "    y_test_collection.append(test_pred)\n",
    "    \n",
    "    # Calculate Errors\n",
    "\n",
    "    # Errors on Train Set\n",
    "    train_RMSE = np.sqrt(mean_squared_error(y_train1,train_pred))\n",
    "\n",
    "    # Errors on Test Set\n",
    "    test_RMSE = np.sqrt(mean_squared_error(y_test1,test_pred))\n",
    "\n",
    "    # Append errors to lists for plotting later\n",
    "    mae_collection.append( mean_absolute_error(y_test1, test_pred))\n",
    "    mse_collection.append( mean_squared_error(y_test1, test_pred))\n",
    "    r2_collection .append( r2_score(y_test1, test_pred))\n",
    "\n",
    "    train_rmse_errors.append(train_RMSE)\n",
    "    test_rmse_errors.append(test_RMSE)"
   ]
  },
  {
   "cell_type": "code",
   "execution_count": null,
   "metadata": {},
   "outputs": [],
   "source": [
    "# Plot the RMSE values for degrees 1, 2,3,4\n",
    "plt.plot(range(1, 5), train_rmse_errors[:5], label='TRAIN')\n",
    "plt.plot(range(1, 5), test_rmse_errors[:5], label='TEST')\n",
    "plt.xlabel(\"Polynomial Complexity\", fontsize=20)\n",
    "plt.ylabel(\"RMSE\", fontsize=20)\n",
    "plt.legend()\n",
    "plt.show()"
   ]
  },
  {
   "cell_type": "code",
   "execution_count": null,
   "metadata": {},
   "outputs": [],
   "source": [
    "print(model_collection)\n",
    "print(mae_collection )\n",
    "print(mse_collection )\n",
    "print(r2_collection  )"
   ]
  },
  {
   "cell_type": "markdown",
   "metadata": {},
   "source": [
    "We can see that the **polynomial degree 3** could be **the best** since the test error start overfitting at or after degree 4.\n",
    "So, let create and refit "
   ]
  },
  {
   "cell_type": "code",
   "execution_count": null,
   "metadata": {},
   "outputs": [],
   "source": [
    "best_degree_index = 3-1\n",
    "mae = mae_collection[best_degree_index]\n",
    "mse = mse_collection[best_degree_index]\n",
    "r2 = r2_collection[best_degree_index]\n",
    "\n",
    "print(\"The Polynomial Regression Model MAE:\", mae)\n",
    "print(\"Polynomial Regression Model MSE:\", mse)\n",
    "print(\"Polynomial Regression Model R2:\", r2)"
   ]
  },
  {
   "cell_type": "code",
   "execution_count": null,
   "metadata": {},
   "outputs": [],
   "source": [
    "# Append metrics to the DataFrame\n",
    "metrics_df.loc[len(metrics_df)] = [f'Degree {best_degree_index+1} - Polynomial Reg.', mae, mse, r2]\n",
    "metrics_df"
   ]
  },
  {
   "cell_type": "code",
   "execution_count": null,
   "metadata": {},
   "outputs": [],
   "source": [
    "y_pred = y_test_collection[best_degree_index]\n",
    "\n",
    "# Calculate the residuals\n",
    "residuals_poly = y_test1 - y_pred\n",
    "\n",
    "# Create a scatterplot of fitted values vs. residuals\n",
    "plt.figure(figsize=(8, 6))\n",
    "plt.scatter(test_pred, residuals_poly, alpha=0.5)\n",
    "plt.title('Residuals vs. Fitted Values (Polynomial Regression)', fontsize=20)  # Adjust fontsize as needed\n",
    "plt.xlabel('Fitted Values (Polynomial Regression)', fontsize=20)  # Adjust fontsize as needed\n",
    "plt.ylabel('Residuals', fontsize=20)  # Adjust fontsize as needed\n",
    "\n",
    "# Add a horizontal line at y=0 for reference\n",
    "plt.axhline(y=0, color='r', linestyle='--')\n",
    "plt.show()"
   ]
  },
  {
   "cell_type": "markdown",
   "metadata": {},
   "source": [
    "We can see that the plot does not appear a pattern. That means, there is a linear relationship among variables in polynomial regression."
   ]
  },
  {
   "cell_type": "code",
   "execution_count": null,
   "metadata": {},
   "outputs": [],
   "source": [
    "# Create a list of degrees for the x-axis (you can adjust this as needed)\n",
    "degrees = [1, 2, 3, 4]  \n",
    "\n",
    "# Create a figure with three subplots\n",
    "fig, (ax1, ax2, ax3) = plt.subplots(1, 3, figsize=(15, 5))\n",
    "\n",
    "# Create a scatter plot for MAE\n",
    "ax1.plot(degrees, mae_collection, label='MAE', marker='o', linestyle='-')\n",
    "ax1.set_xlabel(\"Polynomial Degree\", fontsize=20)\n",
    "ax1.set_ylabel(\"MAE\", fontsize=20)\n",
    "ax1.set_title(\"MAE vs. Polynomial Degree\", fontsize=20)\n",
    "ax1.grid(True)\n",
    "\n",
    "# Create a scatter plot for MSE\n",
    "ax2.plot(degrees, mse_collection, label='MSE', marker='x', linestyle='-')\n",
    "ax2.set_xlabel(\"Polynomial Degree\", fontsize=20)\n",
    "ax2.set_ylabel(\"MSE\", fontsize=20)\n",
    "ax2.set_title(\"MSE vs. Polynomial Degree\", fontsize=20)\n",
    "ax2.grid(True)\n",
    "\n",
    "# Create a scatter plot for R2\n",
    "ax3.plot(degrees, r2_collection, label='R2', marker='s', linestyle='-')\n",
    "ax3.set_xlabel(\"Polynomial Degree\", fontsize=20)\n",
    "ax3.set_ylabel(\"R2\", fontsize=20)\n",
    "ax3.set_title(\"R2 vs. Polynomial Degree\", fontsize=20)\n",
    "ax3.grid(True)\n",
    "\n",
    "# Add a legend to one of the subplots\n",
    "ax1.legend()\n",
    "\n",
    "# Adjust spacing between subplots\n",
    "plt.tight_layout()\n",
    "\n",
    "# Show the plots\n",
    "plt.show()"
   ]
  },
  {
   "cell_type": "markdown",
   "metadata": {},
   "source": [
    "<a id=\"82\"></a>\n",
    "<font color = 'blue'>\n",
    "   ### **8.2 Decision Tree**\n",
    "   "
   ]
  },
  {
   "cell_type": "markdown",
   "metadata": {},
   "source": [
    "<a id=\"821\"></a>\n",
    "<font color = 'blue'>\n",
    "* #### **8.2.1. A Pruned Tree**: Pruning reduces the size of decision trees by removing parts of the tree that do not provide power to classify instances. Decision trees are the most susceptible out of all the machine learning algorithms to overfitting and effective pruning can reduce this likelihood.\n",
    "      "
   ]
  },
  {
   "cell_type": "code",
   "execution_count": null,
   "metadata": {},
   "outputs": [],
   "source": [
    "best_churn_tree = DecisionTreeRegressor(criterion='absolute_error',max_depth=4)\n",
    "#best_churn_tree = DecisionTreeRegressor(criterion='absolute_error',max_depth=5, min_samples_split=10)\n",
    "\n",
    "best_churn_tree.fit(X_train, y_train)\n",
    "\n",
    "y_pred = best_churn_tree.predict(X_test)\n",
    "score = mean_absolute_error(y_test, y_pred)\n",
    "print(score)"
   ]
  },
  {
   "cell_type": "code",
   "execution_count": null,
   "metadata": {},
   "outputs": [],
   "source": [
    "ccp_path = best_churn_tree.cost_complexity_pruning_path(X_train, y_train)\n",
    "kfold = skm.KFold(5,random_state=0,shuffle=True)\n",
    "\n",
    "grid = skm.GridSearchCV(best_churn_tree,{'ccp_alpha': ccp_path.ccp_alphas},refit=True,cv=kfold, n_jobs=-1,scoring='neg_mean_absolute_error',return_train_score=True) \n",
    "grid.fit(X_train, y_train)\n",
    "print(f\"Best Cross-Validation Score: {grid.best_score_}\")"
   ]
  },
  {
   "cell_type": "code",
   "execution_count": null,
   "metadata": {},
   "outputs": [],
   "source": [
    "best_tree = grid.best_estimator_ \n",
    "print(best_tree)\n",
    "print(f\"Best Tree Depth: {best_tree.get_depth()}\")"
   ]
  },
  {
   "cell_type": "code",
   "execution_count": null,
   "metadata": {},
   "outputs": [],
   "source": [
    "# Plot the decision tree with clearer visualization\n",
    "plt.figure(figsize=(25, 20))  # Adjust the figure size\n",
    "\n",
    "plot_tree(\n",
    "    best_tree,\n",
    "    filled=True,  # Fill nodes with color\n",
    "    feature_names=X_train.columns,  # Provide feature names for labeling\n",
    "    fontsize=10,  # Adjust font size\n",
    ")\n",
    "\n",
    "plt.title(\"Car Price Prediction - Decision Tree\")\n",
    "plt.show()\n",
    "print(export_text(best_tree,feature_names=list(X_train.columns),show_weights=True))"
   ]
  },
  {
   "cell_type": "code",
   "execution_count": null,
   "metadata": {},
   "outputs": [],
   "source": [
    "y_pred=best_tree.predict(X_test)\n",
    "mae = mean_absolute_error(y_test, y_pred)\n",
    "mse = mean_squared_error(y_test, y_pred)\n",
    "r2 = r2_score(y_test, y_pred)"
   ]
  },
  {
   "cell_type": "code",
   "execution_count": null,
   "metadata": {},
   "outputs": [],
   "source": [
    "# Append metrics to the DataFrame\n",
    "metrics_df.loc[len(metrics_df)] = [type(best_tree).__name__, mae, mse, r2]\n",
    "metrics_df"
   ]
  },
  {
   "cell_type": "markdown",
   "metadata": {},
   "source": [
    "<a id=\"83\"></a>\n",
    "<font color = 'blue'>\n",
    "### **8.3. Ensemble Method: Random Forest Regression**\n",
    "   "
   ]
  },
  {
   "cell_type": "code",
   "execution_count": null,
   "metadata": {},
   "outputs": [],
   "source": [
    "param_grid = {'bootstrap': [True],'n_estimators':[ 100,300], \"max_depth\":[4], 'criterion': ['squared_error'], 'ccp_alpha':[0.1]}\n",
    "kfold = skm.KFold(5,random_state=0,shuffle=True)\n",
    "grid_search = skm.GridSearchCV(RandomForestRegressor( random_state=0,n_jobs = -1),param_grid, cv=kfold,return_train_score=True,scoring='neg_mean_absolute_error')\n",
    "\n",
    "# Fit the grid search to your data\n",
    "grid_search.fit(X_train, y_train)"
   ]
  },
  {
   "cell_type": "code",
   "execution_count": null,
   "metadata": {},
   "outputs": [],
   "source": [
    "model = grid_search.best_estimator_\n",
    "model"
   ]
  },
  {
   "cell_type": "code",
   "execution_count": null,
   "metadata": {},
   "outputs": [],
   "source": [
    "grid_search.best_score_"
   ]
  },
  {
   "cell_type": "code",
   "execution_count": null,
   "metadata": {},
   "outputs": [],
   "source": [
    "y_pred=model.predict(X_test)\n",
    "mae = mean_absolute_error(y_test, y_pred)\n",
    "mse = mean_squared_error(y_test, y_pred)\n",
    "r2 = r2_score(y_test, y_pred)"
   ]
  },
  {
   "cell_type": "code",
   "execution_count": null,
   "metadata": {},
   "outputs": [],
   "source": [
    "# Append metrics to the DataFrame\n",
    "metrics_df.loc[len(metrics_df)] = [type(model).__name__, mae, mse, r2]\n",
    "metrics_df"
   ]
  },
  {
   "cell_type": "markdown",
   "metadata": {},
   "source": [
    "<a id=\"84\"></a>\n",
    "<font color = 'blue'>\n",
    "   ### **8.4. Ensemble Method: Gradient Boosting Regression**\n",
    "   "
   ]
  },
  {
   "cell_type": "code",
   "execution_count": null,
   "metadata": {},
   "outputs": [],
   "source": [
    "param_grid = {'learning_rate': [0.1],'n_estimators':[ 100], \"max_depth\":[4], 'criterion': ['squared_error']}\n",
    "kfold = skm.KFold(5,random_state=0,shuffle=True)\n",
    "grid_search = skm.GridSearchCV(GradientBoostingRegressor(  random_state=0), param_grid, cv=kfold, n_jobs=-1,scoring='neg_mean_absolute_error')\n",
    "\n",
    "# Fit the grid search to your data\n",
    "grid_search.fit(X_train, y_train)\n",
    "\n",
    "# Get the best learning rate\n",
    "best_learning_rate = grid_search.best_params_['learning_rate']\n",
    "\n",
    "# Access the best regressor\n",
    "best_boosting_regressor = grid_search.best_estimator_\n",
    "\n",
    "# Access the best hyperparameters\n",
    "best_hyperparameters = grid_search.best_params_"
   ]
  },
  {
   "cell_type": "code",
   "execution_count": null,
   "metadata": {},
   "outputs": [],
   "source": [
    "best_boosting_regressor"
   ]
  },
  {
   "cell_type": "code",
   "execution_count": null,
   "metadata": {},
   "outputs": [],
   "source": [
    "y_pred = best_boosting_regressor.predict(X_test)"
   ]
  },
  {
   "cell_type": "code",
   "execution_count": null,
   "metadata": {},
   "outputs": [],
   "source": [
    "test_error = np.zeros_like(best_boosting_regressor.train_score_)\n",
    "\n",
    "for idx, y_ in enumerate(best_boosting_regressor.staged_predict(X_test)):\n",
    "    test_error[idx] = np.mean((y_test - y_)**2)\n",
    "\n",
    "plot_idx = np.arange(best_boosting_regressor.train_score_.shape[0]) \n",
    "\n",
    "ax = subplots(figsize=(8,8))[1]\n",
    "ax.plot(plot_idx,best_boosting_regressor.train_score_, 'b',label='Training')\n",
    "ax.plot(plot_idx, test_error ,'r',label='Test') \n",
    "ax.set_xlabel(\"n_estimators\", fontsize=20)\n",
    "ax.set_ylabel(\"MSE\", fontsize=20)\n",
    "ax.legend();"
   ]
  },
  {
   "cell_type": "code",
   "execution_count": null,
   "metadata": {},
   "outputs": [],
   "source": [
    "grid_search.best_score_"
   ]
  },
  {
   "cell_type": "code",
   "execution_count": null,
   "metadata": {},
   "outputs": [],
   "source": [
    "mae = mean_absolute_error(y_test, y_pred)\n",
    "mse = mean_squared_error(y_test, y_pred)\n",
    "r2 = r2_score(y_test, y_pred)"
   ]
  },
  {
   "cell_type": "code",
   "execution_count": null,
   "metadata": {},
   "outputs": [],
   "source": [
    "# Append metrics to the DataFrame\n",
    "metrics_df.loc[len(metrics_df)] = [type(best_boosting_regressor).__name__, mae, mse, r2]\n",
    "metrics_df"
   ]
  },
  {
   "cell_type": "code",
   "execution_count": null,
   "metadata": {},
   "outputs": [],
   "source": [
    "# Get feature importances and corresponding feature names\n",
    "feature_importances = best_boosting_regressor.feature_importances_\n",
    "feature_names = X_train.columns\n",
    "\n",
    "# Create a DataFrame to store feature names and their importances\n",
    "feature_importance_df = pd.DataFrame({'Feature': feature_names, 'Importance': feature_importances})\n",
    "\n",
    "# Sort the DataFrame by importance in descending order\n",
    "feature_importance_df = feature_importance_df.sort_values(by='Importance', ascending=False)\n",
    "\n",
    "# Print or visualize the feature importances\n",
    "print(feature_importance_df)"
   ]
  },
  {
   "cell_type": "code",
   "execution_count": null,
   "metadata": {},
   "outputs": [],
   "source": [
    "feature_imp = pd.DataFrame( {'importance':best_boosting_regressor.feature_importances_}, index=X_train.columns.tolist())\n",
    "sorted_feature_imp= feature_imp.sort_values(by='importance', ascending=False)"
   ]
  },
  {
   "cell_type": "code",
   "execution_count": null,
   "metadata": {},
   "outputs": [],
   "source": [
    "\n",
    "plt.barh(sorted_feature_imp.index,sorted_feature_imp['importance'],color = 'g')\n",
    "plt.xlabel('Importance level')\n",
    "plt.title('Feature Importance')\n",
    "plt.grid(axis='x')  # Add a grid on the x-axis\n",
    "plt.gca().invert_yaxis()\n",
    "plt.show()"
   ]
  },
  {
   "cell_type": "code",
   "execution_count": null,
   "metadata": {},
   "outputs": [],
   "source": [
    "# Plotting\n",
    "plt.figure(figsize=(10, 10))\n",
    "plt.pie(sorted_feature_imp['importance'], labels=sorted_feature_imp.index, autopct='%1.1f%%',\n",
    "    startangle=140, textprops={'fontsize': 18})\n",
    "plt.title('Feature Importances - Gradient Boosting Regressor', fontsize=16)\n",
    "plt.show()"
   ]
  },
  {
   "cell_type": "markdown",
   "metadata": {},
   "source": [
    "<a id=\"85\"></a>\n",
    "<font color = 'blue'>\n",
    "### **8.5. Support Vector Machine (SVM)**\n",
    "   "
   ]
  },
  {
   "cell_type": "markdown",
   "metadata": {},
   "source": [
    "We need to standardize the numerical data before using them to fit the SVM model."
   ]
  },
  {
   "cell_type": "code",
   "execution_count": null,
   "metadata": {},
   "outputs": [],
   "source": [
    "best_features"
   ]
  },
  {
   "cell_type": "code",
   "execution_count": null,
   "metadata": {},
   "outputs": [],
   "source": [
    "num_columns = best_features"
   ]
  },
  {
   "cell_type": "code",
   "execution_count": null,
   "metadata": {},
   "outputs": [],
   "source": [
    "X_train1 = pd.DataFrame(StandardScaler().fit_transform(X_train[num_columns]),columns=num_columns,index=X_train.index)\n",
    "X_test1 = pd.DataFrame(StandardScaler().fit_transform(X_test[num_columns]),columns=num_columns, index=X_test.index)\n",
    "\n",
    "X_train1 = pd.concat([X_train1, X_train[['drivetrain', 'fuel_type']]], axis=1)\n",
    "X_test1 = pd.concat([X_test1, X_test[['drivetrain', 'fuel_type']]], axis=1)"
   ]
  },
  {
   "cell_type": "code",
   "execution_count": null,
   "metadata": {},
   "outputs": [],
   "source": [
    "svm = SVR()  # You can specify kernel, C, gamma, etc.\n",
    "param_grid = {'C':[1], 'kernel':['linear']}"
   ]
  },
  {
   "cell_type": "markdown",
   "metadata": {},
   "source": [
    "* Create Cross-Validation Splitter and Perform Grid Search with Cross-Validation:"
   ]
  },
  {
   "cell_type": "code",
   "execution_count": null,
   "metadata": {},
   "outputs": [],
   "source": [
    "cross_validator = skm.KFold(n_splits=5, shuffle=True, random_state=0)\n",
    "grid_search = skm.GridSearchCV(svm, param_grid, cv=cross_validator, scoring='neg_mean_absolute_error')\n",
    "grid_search.fit(X_train1, y_train)  # X: feature matrix, y: target variable"
   ]
  },
  {
   "cell_type": "code",
   "execution_count": null,
   "metadata": {},
   "outputs": [],
   "source": [
    "best_model = grid_search.best_estimator_  # or random_search.best_estimator_\n",
    "best_params = grid_search.best_params_  # or random_search.best_params_\n",
    "best_score = grid_search.best_score_  # or random_search.best_score_\n",
    "print(\"The best SVR model: \", best_params)"
   ]
  },
  {
   "cell_type": "markdown",
   "metadata": {},
   "source": [
    "* Evaluate the Model:\n"
   ]
  },
  {
   "cell_type": "code",
   "execution_count": null,
   "metadata": {},
   "outputs": [],
   "source": [
    "best_score"
   ]
  },
  {
   "cell_type": "code",
   "execution_count": null,
   "metadata": {},
   "outputs": [],
   "source": [
    "y_pred=best_model.predict(X_test1)\n",
    "mae = mean_absolute_error(y_test, y_pred)\n",
    "mse = mean_squared_error(y_test, y_pred)\n",
    "r2 = r2_score(y_test, y_pred)"
   ]
  },
  {
   "cell_type": "code",
   "execution_count": null,
   "metadata": {},
   "outputs": [],
   "source": [
    "# Append metrics to the DataFrame\n",
    "metrics_df.loc[len(metrics_df)] = [type(best_model).__name__, mae, mse, r2]"
   ]
  },
  {
   "cell_type": "markdown",
   "metadata": {},
   "source": [
    "<a id=\"86\"></a>\n",
    "<font color = 'blue'>\n",
    "### **8.6. Comparing Models:**"
   ]
  },
  {
   "cell_type": "markdown",
   "metadata": {},
   "source": [
    "* **MAE** and **MSE**: Lower values are generally better for both MAE and MSE. If comparing two models, the one with the lower MAE or MSE is considered better in terms of accuracy.\n",
    "* <b>$R^2$</b>: Higher values of $R^2$ are desirable. $R^2$ represents the proportion of the variance explained by the model, so a higher $R^2$ indicates that the model is a better fit to the data. It ranges from 0 to 1, with higher values indicating better explanatory power."
   ]
  },
  {
   "cell_type": "code",
   "execution_count": null,
   "metadata": {},
   "outputs": [],
   "source": [
    "metrics_df"
   ]
  },
  {
   "cell_type": "code",
   "execution_count": null,
   "metadata": {},
   "outputs": [],
   "source": [
    "scaled_metrics_df = metrics_df.copy()\n",
    "\n",
    "# Custom scaling function\n",
    "def custom_scaling(value, divisor):\n",
    "    return value / divisor\n",
    "\n",
    "# Scale MAE and MSE as per your requirements\n",
    "scaled_metrics_df['Scaled_MAE'] = scaled_metrics_df['MAE'].apply(lambda x: custom_scaling(x, 10000))\n",
    "scaled_metrics_df['Scaled_MSE'] = scaled_metrics_df['MSE'].apply(lambda x: custom_scaling(x, 1e8))\n",
    "\n",
    "# Display the scaled values\n",
    "print(scaled_metrics_df[['Model', 'Scaled_MAE', 'Scaled_MSE', 'R2']])"
   ]
  },
  {
   "cell_type": "code",
   "execution_count": null,
   "metadata": {},
   "outputs": [],
   "source": [
    "# Melt the dataframe for easier plotting\n",
    "melted_df = pd.melt(scaled_metrics_df, id_vars=['Model'], value_vars=['Scaled_MAE', 'Scaled_MSE', 'R2'], var_name='Metric')\n",
    "\n",
    "# Plotting\n",
    "plt.figure(figsize=(15, 10))\n",
    "ax = sns.barplot(x='Model', y='value', hue='Metric', data=melted_df)\n",
    "\n",
    "# Add values on each bar\n",
    "for p in ax.patches:\n",
    "    ax.annotate(f'{p.get_height():.3f}', (p.get_x() + p.get_width() / 2., p.get_height()),\n",
    "                ha='center', va='center', xytext=(0, 10), textcoords='offset points', fontsize=20)\n",
    "\n",
    "# Add font size\n",
    "plt.xticks(rotation=15, ha='right', fontsize=20)  # Adjust fontsize as needed\n",
    "plt.yticks(fontsize=20)  # Adjust fontsize as needed\n",
    "plt.xlabel('Models', fontsize=20)  # Adjust fontsize as needed\n",
    "plt.ylabel('Scaled Values', fontsize=20)  # Adjust fontsize as needed\n",
    "plt.title('Scaled Metrics for Each Model', fontsize=20)  # Adjust fontsize as needed\n",
    "plt.legend(title='Metrics', title_fontsize='18', fontsize='16')  # Adjust fontsize as needed\n",
    "\n",
    "# Show the plot\n",
    "plt.tight_layout()\n",
    "plt.show()"
   ]
  },
  {
   "cell_type": "markdown",
   "metadata": {},
   "source": [
    "The lower MAE or MSE is considered better in terms of accuracy and higher values of $R^2$ are desirable"
   ]
  },
  {
   "cell_type": "markdown",
   "metadata": {},
   "source": [
    "<div class=\"alert alert-block alert-success\">\n",
    "<b>Evaluation:</b>\n",
    "Based on the `metrics_df` and `plots`, we can see that `Gradient Boosting Regressor` is the best car price predictor.` Multiple Polynomial Regression` give a reasonable metrics. Therefore, we can use Gradient Boosting Regressor and Multiple Polynomial Regression to understand which features have the most significant impact on the predictions. This can provide insights into what aspects of the data are crucial for predicting car prices.\n",
    "</div>"
   ]
  },
  {
   "cell_type": "code",
   "execution_count": null,
   "metadata": {},
   "outputs": [],
   "source": [
    "end_time = time.time()\n",
    "elapsed_time = end_time - start_time\n",
    "print(f\"Elapsed time: {elapsed_time} seconds\")\n",
    "print(f\"Elapsed time: {elapsed_time/60} minutes\")"
   ]
  }
 ],
 "metadata": {
  "kernelspec": {
   "display_name": "base",
   "language": "python",
   "name": "python3"
  },
  "language_info": {
   "codemirror_mode": {
    "name": "ipython",
    "version": 3
   },
   "file_extension": ".py",
   "mimetype": "text/x-python",
   "name": "python",
   "nbconvert_exporter": "python",
   "pygments_lexer": "ipython3",
   "version": "3.11.3"
  }
 },
 "nbformat": 4,
 "nbformat_minor": 2
}
