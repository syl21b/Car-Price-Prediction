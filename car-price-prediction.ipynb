{
 "cells": [
  {
   "cell_type": "markdown",
   "metadata": {},
   "source": [
    "Our proposal: https://docs.google.com/document/d/1zhQrkWmJjjMU6wIfBC78MygGzp-XUrkaUOWALfyAL9Q/edit"
   ]
  },
  {
   "cell_type": "markdown",
   "metadata": {},
   "source": [
    "Dataset: https://www.kaggle.com/datasets/wspirat/germany-used-cars-dataset-2023/data"
   ]
  },
  {
   "cell_type": "code",
   "execution_count": null,
   "metadata": {},
   "outputs": [],
   "source": [
    "import pandas as pd\n",
    "\n",
    "# Replace the URL with the raw dataset file URL from GitHub\n",
    "dataset_url = https://github.com/syl21b/Car-Price-Prediction/blob/e0a5d73f71c24195aa41b6d039de026219db4288/data-3.csv.zip\n",
    "\n",
    "# Load the dataset into a DataFrame\n",
    "data = pd.read_csv(dataset_url)\n"
   ]
  },
  {
   "cell_type": "code",
   "execution_count": 13,
   "metadata": {},
   "outputs": [
    {
     "ename": "BadZipFile",
     "evalue": "File is not a zip file",
     "output_type": "error",
     "traceback": [
      "\u001b[0;31m---------------------------------------------------------------------------\u001b[0m",
      "\u001b[0;31mBadZipFile\u001b[0m                                Traceback (most recent call last)",
      "\u001b[1;32m/syl21b/Car-Price-Prediction/car-price-prediction.ipynb Cell 4\u001b[0m line \u001b[0;36m1\n\u001b[1;32m      <a href='vscode-notebook-cell://github/syl21b/Car-Price-Prediction/car-price-prediction.ipynb#X13sdnNjb2RlLXZmcw%3D%3D?line=8'>9</a>\u001b[0m \u001b[39m# Download the ZIP file and extract its contents\u001b[39;00m\n\u001b[1;32m     <a href='vscode-notebook-cell://github/syl21b/Car-Price-Prediction/car-price-prediction.ipynb#X13sdnNjb2RlLXZmcw%3D%3D?line=9'>10</a>\u001b[0m response \u001b[39m=\u001b[39m requests\u001b[39m.\u001b[39mget(zip_url)\n\u001b[0;32m---> <a href='vscode-notebook-cell://github/syl21b/Car-Price-Prediction/car-price-prediction.ipynb#X13sdnNjb2RlLXZmcw%3D%3D?line=10'>11</a>\u001b[0m \u001b[39mwith\u001b[39;00m zipfile\u001b[39m.\u001b[39mZipFile(BytesIO(response\u001b[39m.\u001b[39mcontent)) \u001b[39mas\u001b[39;00m zip_file:\n\u001b[1;32m     <a href='vscode-notebook-cell://github/syl21b/Car-Price-Prediction/car-price-prediction.ipynb#X13sdnNjb2RlLXZmcw%3D%3D?line=11'>12</a>\u001b[0m     \u001b[39m# Assuming the ZIP file contains a CSV file, you can extract and load it like this\u001b[39;00m\n\u001b[1;32m     <a href='vscode-notebook-cell://github/syl21b/Car-Price-Prediction/car-price-prediction.ipynb#X13sdnNjb2RlLXZmcw%3D%3D?line=12'>13</a>\u001b[0m     \u001b[39mwith\u001b[39;00m zip_file\u001b[39m.\u001b[39mopen(\u001b[39m'\u001b[39m\u001b[39mdata-3.csv\u001b[39m\u001b[39m'\u001b[39m) \u001b[39mas\u001b[39;00m file:\n\u001b[1;32m     <a href='vscode-notebook-cell://github/syl21b/Car-Price-Prediction/car-price-prediction.ipynb#X13sdnNjb2RlLXZmcw%3D%3D?line=13'>14</a>\u001b[0m         data \u001b[39m=\u001b[39m pd\u001b[39m.\u001b[39mread_csv(file)\n",
      "File \u001b[0;32m~/anaconda3/lib/python3.11/zipfile.py:1301\u001b[0m, in \u001b[0;36mZipFile.__init__\u001b[0;34m(self, file, mode, compression, allowZip64, compresslevel, strict_timestamps, metadata_encoding)\u001b[0m\n\u001b[1;32m   1299\u001b[0m \u001b[39mtry\u001b[39;00m:\n\u001b[1;32m   1300\u001b[0m     \u001b[39mif\u001b[39;00m mode \u001b[39m==\u001b[39m \u001b[39m'\u001b[39m\u001b[39mr\u001b[39m\u001b[39m'\u001b[39m:\n\u001b[0;32m-> 1301\u001b[0m         \u001b[39mself\u001b[39m\u001b[39m.\u001b[39m_RealGetContents()\n\u001b[1;32m   1302\u001b[0m     \u001b[39melif\u001b[39;00m mode \u001b[39min\u001b[39;00m (\u001b[39m'\u001b[39m\u001b[39mw\u001b[39m\u001b[39m'\u001b[39m, \u001b[39m'\u001b[39m\u001b[39mx\u001b[39m\u001b[39m'\u001b[39m):\n\u001b[1;32m   1303\u001b[0m         \u001b[39m# set the modified flag so central directory gets written\u001b[39;00m\n\u001b[1;32m   1304\u001b[0m         \u001b[39m# even if no files are added to the archive\u001b[39;00m\n\u001b[1;32m   1305\u001b[0m         \u001b[39mself\u001b[39m\u001b[39m.\u001b[39m_didModify \u001b[39m=\u001b[39m \u001b[39mTrue\u001b[39;00m\n",
      "File \u001b[0;32m~/anaconda3/lib/python3.11/zipfile.py:1368\u001b[0m, in \u001b[0;36mZipFile._RealGetContents\u001b[0;34m(self)\u001b[0m\n\u001b[1;32m   1366\u001b[0m     \u001b[39mraise\u001b[39;00m BadZipFile(\u001b[39m\"\u001b[39m\u001b[39mFile is not a zip file\u001b[39m\u001b[39m\"\u001b[39m)\n\u001b[1;32m   1367\u001b[0m \u001b[39mif\u001b[39;00m \u001b[39mnot\u001b[39;00m endrec:\n\u001b[0;32m-> 1368\u001b[0m     \u001b[39mraise\u001b[39;00m BadZipFile(\u001b[39m\"\u001b[39m\u001b[39mFile is not a zip file\u001b[39m\u001b[39m\"\u001b[39m)\n\u001b[1;32m   1369\u001b[0m \u001b[39mif\u001b[39;00m \u001b[39mself\u001b[39m\u001b[39m.\u001b[39mdebug \u001b[39m>\u001b[39m \u001b[39m1\u001b[39m:\n\u001b[1;32m   1370\u001b[0m     \u001b[39mprint\u001b[39m(endrec)\n",
      "\u001b[0;31mBadZipFile\u001b[0m: File is not a zip file"
     ]
    }
   ],
   "source": [
    "import requests\n",
    "from io import BytesIO\n",
    "import zipfile\n",
    "import pandas as pd\n",
    "\n",
    "# Replace the URL with the raw ZIP file URL from GitHub (without /blob/)\n",
    "zip_url = \"https://github.com/syl21b/Car-Price-Prediction/blob/5a41dd71b118ceb0b1c9a636cddb7e0f6c4a7930/true.zip\"\n",
    "\n",
    "# Download the ZIP file and extract its contents\n",
    "response = requests.get(zip_url)\n",
    "with zipfile.ZipFile(BytesIO(response.content)) as zip_file:\n",
    "    # Assuming the ZIP file contains a CSV file, you can extract and load it like this\n",
    "    with zip_file.open('data-3.csv') as file:\n",
    "        data = pd.read_csv(file)\n",
    "\n",
    "# Now, 'data' contains the dataset from the ZIP file\n"
   ]
  },
  {
   "cell_type": "code",
   "execution_count": null,
   "metadata": {},
   "outputs": [],
   "source": []
  }
 ],
 "metadata": {
  "kernelspec": {
   "display_name": "My Python Kernel",
   "language": "python",
   "name": "myenv"
  },
  "language_info": {
   "codemirror_mode": {
    "name": "ipython",
    "version": 3
   },
   "file_extension": ".py",
   "mimetype": "text/x-python",
   "name": "python",
   "nbconvert_exporter": "python",
   "pygments_lexer": "ipython3",
   "version": "3.11.3"
  }
 },
 "nbformat": 4,
 "nbformat_minor": 2
}
