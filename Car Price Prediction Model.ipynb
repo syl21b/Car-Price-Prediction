{
 "cells": [
  {
   "cell_type": "markdown",
   "metadata": {},
   "source": [
    "\n",
    "# Predicting the Price of Used Cars Using Machine Learning Algorithms\n",
    "<font color = 'Blue'> \n",
    "Names: Shin Le, Jeongyeon Kim, Benjamin Horvath, Nico Reategui, Paul Giglio\n"
   ]
  },
  {
   "cell_type": "markdown",
   "metadata": {},
   "source": [
    "\n",
    "\n",
    "Proposal: https://docs.google.com/document/d/1zhQrkWmJjjMU6wIfBC78MygGzp-XUrkaUOWALfyAL9Q/edit\n",
    "\n",
    "Dataset: \n",
    "* https://www.kaggle.com/datasets/wspirat/germany-used-cars-dataset-2023/data\n",
    "    \n",
    "* https://www.kaggle.com/datasets/andreinovikov/used-cars-dataset"
   ]
  },
  {
   "cell_type": "markdown",
   "metadata": {},
   "source": [
    "<a id=\"0\"></a> <br>\n",
    "<font color = 'Blue'> \n",
    "# Table of Contents\n",
    "1. [Loading Cleaned Dataset](#6)\n",
    "1. [Data Splitting](#7)\n",
    "1. [Models Evaluations and Predictions](#8)\n",
    "   1. [*Full Model* with *Linear Regression*](#81)\n",
    "      1. [Using Sequential Feature Selection for the *Linear Regression*](#811)\n",
    "   1. [*Decision Tree*](#82)\n",
    "      1. [*A Pruned Tree*](#821)\n",
    "   1. [Ensemble Method: *Random Forest Regression*](#83)\n",
    "   1. [Ensemble Method: *Gradient Boosting Regression*](#84)\n",
    "   1. [*Support Vector Machine* (SVM)](#85)\n",
    "   1. [Evaluation](#86)"
   ]
  },
  {
   "cell_type": "markdown",
   "metadata": {},
   "source": []
  }
 ],
 "metadata": {
  "kernelspec": {
   "display_name": "My Python Kernel",
   "language": "python",
   "name": "myenv"
  },
  "language_info": {
   "codemirror_mode": {
    "name": "ipython",
    "version": 3
   },
   "file_extension": ".py",
   "mimetype": "text/x-python",
   "name": "python",
   "nbconvert_exporter": "python",
   "pygments_lexer": "ipython3",
   "version": "3.11.3"
  }
 },
 "nbformat": 4,
 "nbformat_minor": 2
}
